{
 "cells": [
  {
   "cell_type": "markdown",
   "metadata": {},
   "source": [
    "I confess this wasn't the cleanest script to begin with. Currently modifying to count AMRs by gene instead of by plasmid to get more accurate counts."
   ]
  },
  {
   "cell_type": "code",
   "execution_count": 1,
   "metadata": {},
   "outputs": [],
   "source": [
    "import pandas as pd\n",
    "import re\n",
    "import seaborn as sns\n",
    "from scipy import stats\n",
    "import numpy as np\n",
    "from collections import Counter\n",
    "import matplotlib.pyplot as plt\n",
    "#an important note: this only works if everything in the directory is everything you want to import.\n",
    "#ChatGPT gave me a chunk of code theoretically for incorporating wildcards but it didn't work.\n",
    "\n",
    "import subprocess\n",
    "\n",
    "gitpath='/home/guatney/Plasmidome-of-GROWdb/'"
   ]
  },
  {
   "cell_type": "code",
   "execution_count": 2,
   "metadata": {},
   "outputs": [],
   "source": [
    "def prepares_for_pairs(protocol):\n",
    "    '''\n",
    "    This function not only prepares a dataframe suitable for input into seaborn's pairplot function, it also creates a list\n",
    "    of AMRs detected in all samples by protocol.\n",
    "    Input:\n",
    "        protocol (string): the protocol to fetch data from (default, conservative, or calibrated), not case sensitive\n",
    "        but assumes correct spelling\n",
    "    Output:\n",
    "        A tuple containing:\n",
    "            listofAMRs (list): a list of strings of AMR genes identified\n",
    "            filteredforpairs (dataframe): a dataframe containing a subset of the metadata as well as the number of plasmids,\n",
    "            plasmids/BP, AMR genes for each sample in the protocol\n",
    "    \n",
    "    '''\n",
    "    \n",
    "    protocol=protocol.lower()\n",
    "    protocol_path=gitpath+'/genomad_annotations_'+protocol\n",
    "    \n",
    "    #count number of total AMR genes and unique AMR genes in each sample\n",
    "    amrDict={}\n",
    "    totalAMR=0\n",
    "    amrbysample={}\n",
    "\n",
    "    for sample in samples:\n",
    "        #print(sample)\n",
    "        tempfilepath=f'{protocol_path}/{sample}_B_1000_plasmid_genes.tsv'\n",
    "        tempDF=pd.read_csv(tempfilepath, sep = \"\\t\")\n",
    "        sampAMR=tempDF['annotation_amr'].count()\n",
    "        amrbysample[sample]=[sample, sampAMR]\n",
    "        #add AMRs to dictionary\n",
    "        for index, row in tempDF.iterrows():\n",
    "            if not pd.isna(row['annotation_amr']):\n",
    "                if sample in amrDict:\n",
    "                    amrDict[sample].append(row['annotation_amr'])\n",
    "                else:\n",
    "                    amrDict[sample]=[row['annotation_amr']]\n",
    "    \n",
    "    #get list of AMRs\n",
    "    listofAMRs=[]\n",
    "    for sample in amrDict:\n",
    "        listofAMRs.extend(amrDict[sample])\n",
    "    \n",
    "    #create a dataframe for use in seaborn pairs plot\n",
    "    \n",
    "    amrbysampledf=pd.DataFrame.from_dict(amrbysample, orient='index', columns=[\"SampleName\",\"AMRgenes\"])\n",
    "    #amrbysampledf.head()\n",
    "    \n",
    "    result=pd.merge(growGS, amrbysampledf)\n",
    "    \n",
    "    plasmidsdict={}\n",
    "    amrbysampledf=pd.DataFrame.from_dict(amrbysample, orient='index', columns=[\"SampleName\",\"AMRgenes\"])\n",
    "    #amrbysampledf.head()\n",
    "    \n",
    "    result=pd.merge(growGS, amrbysampledf)\n",
    "\n",
    "    for sample in samples:\n",
    "        tempfilepath=f'{protocol_path}/{sample}_B_1000_plasmid_genes.tsv'\n",
    "        tempDF=pd.read_csv(tempfilepath, sep = \"\\t\")\n",
    "        numPlasmid=tempDF.shape[0]\n",
    "        plasmidPerBP=numPlasmid/growsuppdict[sample]\n",
    "        plasmidsdict[sample]=[sample, numPlasmid, plasmidPerBP]\n",
    "        \n",
    "    plasdictdf=pd.DataFrame.from_dict(plasmidsdict, columns=[\"SampleName\", \"Plasmids\", \"Plasmid/BP\"], orient=\"index\")\n",
    "    \n",
    "    result2=pd.merge(result, plasdictdf)\n",
    "    \n",
    "    justwwtp=['WWTPAllDensWs', 'AMRgenes', 'Plasmids', 'Plasmid/BP', 'OmernikISite']\n",
    "    \n",
    "    filteredforpairs=result2[justwwtp]\n",
    "    \n",
    "    return (listofAMRs, filteredforpairs)"
   ]
  },
  {
   "cell_type": "markdown",
   "metadata": {},
   "source": [
    "Instead of copying the entire directory structure to the GitHub to make this function work, I wrote out the list of sample names used to a text file."
   ]
  },
  {
   "cell_type": "code",
   "execution_count": 3,
   "metadata": {},
   "outputs": [
    {
     "data": {
      "text/plain": [
       "'\\ndef get_samples(protocol):\\n    \\n    Take as input the filepath to the geNomad default, conservative, or calibrated putative plasmid genes\\n    and read all samples\\' putative plasmid genes.\\n    Input:\\n        protocol (string): the protocol to fetch data from (default, conservative, or calibrated), not case sensitive\\n        but assumes correct spelling\\n    Output:\\n        None\\n    \\n    protocol=protocol.lower()\\n    protocol_path=\\'/home/chris/GROWdb/plasmids/geNomad/genomad_output_\\'+protocol\\n    samples=subprocess.check_output([\\'ls\\', protocol_path]).decode(\\'utf-8\\')\\n    samples=samples.split(\"\\n\")\\n    samples=samples[:-1]\\n    if protocol==\\'default\\':\\n        samples.remove(\\'geNomad_parallel.log\\')\\n        \\n    if protocol==\\'conservative\\':\\n        samples.remove(\\'geNomad_conservative_parallel.log\\')\\n    if protocol==\\'calibrated\\':\\n        samples.remove(\\'geNomad_calibrated_parallel.log\\')\\n        \\n    return samples\\n'"
      ]
     },
     "execution_count": 3,
     "metadata": {},
     "output_type": "execute_result"
    }
   ],
   "source": [
    "'''\n",
    "def get_samples(protocol):\n",
    "    ''''''\n",
    "    Take as input the filepath to the geNomad default, conservative, or calibrated putative plasmid genes\n",
    "    and read all samples' putative plasmid genes.\n",
    "    Input:\n",
    "        protocol (string): the protocol to fetch data from (default, conservative, or calibrated), not case sensitive\n",
    "        but assumes correct spelling\n",
    "    Output:\n",
    "        None\n",
    "    ''''''\n",
    "    protocol=protocol.lower()\n",
    "    protocol_path='/home/chris/GROWdb/plasmids/geNomad/genomad_output_'+protocol\n",
    "    samples=subprocess.check_output(['ls', protocol_path]).decode('utf-8')\n",
    "    samples=samples.split(\"\\n\")\n",
    "    samples=samples[:-1]\n",
    "    if protocol=='default':\n",
    "        samples.remove('geNomad_parallel.log')\n",
    "        \n",
    "    if protocol=='conservative':\n",
    "        samples.remove('geNomad_conservative_parallel.log')\n",
    "    if protocol=='calibrated':\n",
    "        samples.remove('geNomad_calibrated_parallel.log')\n",
    "        \n",
    "    return samples\n",
    "'''"
   ]
  },
  {
   "cell_type": "code",
   "execution_count": 4,
   "metadata": {},
   "outputs": [],
   "source": [
    "#samples=get_samples('default')"
   ]
  },
  {
   "cell_type": "code",
   "execution_count": 5,
   "metadata": {},
   "outputs": [],
   "source": [
    "#len(samples)"
   ]
  },
  {
   "cell_type": "code",
   "execution_count": 10,
   "metadata": {},
   "outputs": [
    {
     "data": {
      "text/plain": [
       "\"\\nwith open('samplenames.txt', 'w') as file:\\n    for sample in samples:\\n        file.write(sample+'\\n')\\nfile.close()\\n\""
      ]
     },
     "execution_count": 10,
     "metadata": {},
     "output_type": "execute_result"
    }
   ],
   "source": [
    "'''\n",
    "with open('samplenames.txt', 'w') as file:\n",
    "    for sample in samples:\n",
    "        file.write(sample+'\\n')\n",
    "file.close()\n",
    "'''"
   ]
  },
  {
   "cell_type": "code",
   "execution_count": 11,
   "metadata": {},
   "outputs": [],
   "source": [
    "samples=[]\n",
    "with open(gitpath+'/samplenames.txt', 'r') as file:\n",
    "    samples=file.read().split('\\n')\n",
    "file.close()"
   ]
  },
  {
   "cell_type": "code",
   "execution_count": 12,
   "metadata": {},
   "outputs": [],
   "source": [
    "samples.remove('')"
   ]
  },
  {
   "cell_type": "code",
   "execution_count": 13,
   "metadata": {},
   "outputs": [
    {
     "data": {
      "text/plain": [
       "158"
      ]
     },
     "execution_count": 13,
     "metadata": {},
     "output_type": "execute_result"
    }
   ],
   "source": [
    "len(samples)"
   ]
  },
  {
   "cell_type": "code",
   "execution_count": 14,
   "metadata": {},
   "outputs": [],
   "source": [
    "gispath=gitpath+'GROWdb_with_vars_20220715 (1).csv'\n",
    "growGS=pd.read_csv(gispath)"
   ]
  },
  {
   "cell_type": "code",
   "execution_count": 15,
   "metadata": {},
   "outputs": [
    {
     "data": {
      "text/plain": [
       "(187, 304)"
      ]
     },
     "execution_count": 15,
     "metadata": {},
     "output_type": "execute_result"
    }
   ],
   "source": [
    "growGS.shape"
   ]
  },
  {
   "cell_type": "code",
   "execution_count": 16,
   "metadata": {},
   "outputs": [
    {
     "data": {
      "text/html": [
       "<div>\n",
       "<style scoped>\n",
       "    .dataframe tbody tr th:only-of-type {\n",
       "        vertical-align: middle;\n",
       "    }\n",
       "\n",
       "    .dataframe tbody tr th {\n",
       "        vertical-align: top;\n",
       "    }\n",
       "\n",
       "    .dataframe thead th {\n",
       "        text-align: right;\n",
       "    }\n",
       "</style>\n",
       "<table border=\"1\" class=\"dataframe\">\n",
       "  <thead>\n",
       "    <tr style=\"text-align: right;\">\n",
       "      <th></th>\n",
       "      <th>SampleName</th>\n",
       "      <th>Sample</th>\n",
       "      <th>Date</th>\n",
       "      <th>Time</th>\n",
       "      <th>Project_PI</th>\n",
       "      <th>Location</th>\n",
       "      <th>Number_of_reads</th>\n",
       "      <th>Size_bp</th>\n",
       "      <th>3_Assemblies_done</th>\n",
       "      <th>Number_of_Bins_Medium_and_High_Quality</th>\n",
       "      <th>...</th>\n",
       "      <th>OmernikIWs</th>\n",
       "      <th>OmernikIIWs</th>\n",
       "      <th>OmernikIIIWs</th>\n",
       "      <th>source</th>\n",
       "      <th>gage_id</th>\n",
       "      <th>CFS</th>\n",
       "      <th>flow_record</th>\n",
       "      <th>percentile_20</th>\n",
       "      <th>percentile_80</th>\n",
       "      <th>flowlink</th>\n",
       "    </tr>\n",
       "  </thead>\n",
       "  <tbody>\n",
       "    <tr>\n",
       "      <th>0</th>\n",
       "      <td>altamaha_2019_sw_WHONDRS-S19S_0010</td>\n",
       "      <td>S19S_0010</td>\n",
       "      <td>7/31/2019</td>\n",
       "      <td>10:14:00 AM</td>\n",
       "      <td>WHONDRS</td>\n",
       "      <td>/home/projects-wrighton-2/GROWdb/JGI_download/...</td>\n",
       "      <td>250282804.0</td>\n",
       "      <td>3.779270e+10</td>\n",
       "      <td>Y</td>\n",
       "      <td>80.0</td>\n",
       "      <td>...</td>\n",
       "      <td>EASTERN TEMPERATE FORESTS</td>\n",
       "      <td>SOUTHEASTERN USA PLAINS</td>\n",
       "      <td>Southeastern Plains</td>\n",
       "      <td>USGS (from WHONDRS)</td>\n",
       "      <td>USGS-02226000</td>\n",
       "      <td>3180.000000</td>\n",
       "      <td>1980 - 2020</td>\n",
       "      <td>3030.000000</td>\n",
       "      <td>19500.00000</td>\n",
       "      <td>https://waterdata.usgs.gov/usa/nwis/dv?referre...</td>\n",
       "    </tr>\n",
       "    <tr>\n",
       "      <th>1</th>\n",
       "      <td>arikareeriver_2019_sw_WHONDRS-S19S_0023</td>\n",
       "      <td>S19S_0023</td>\n",
       "      <td>8/6/2019</td>\n",
       "      <td>11:38:00 AM</td>\n",
       "      <td>WHONDRS</td>\n",
       "      <td>/home/projects-wrighton-2/GROWdb/JGI_download/...</td>\n",
       "      <td>171977790.0</td>\n",
       "      <td>2.596865e+10</td>\n",
       "      <td>Y</td>\n",
       "      <td>40.0</td>\n",
       "      <td>...</td>\n",
       "      <td>GREAT PLAINS</td>\n",
       "      <td>SOUTH CENTRAL SEMIARID PRAIRIES</td>\n",
       "      <td>High Plains</td>\n",
       "      <td>NaN</td>\n",
       "      <td>NaN</td>\n",
       "      <td>NaN</td>\n",
       "      <td>NaN</td>\n",
       "      <td>NaN</td>\n",
       "      <td>NaN</td>\n",
       "      <td>NaN</td>\n",
       "    </tr>\n",
       "    <tr>\n",
       "      <th>2</th>\n",
       "      <td>blackearthcreek_2019_sw_WHONDRS-S19S_0061</td>\n",
       "      <td>S19S_0061</td>\n",
       "      <td>8/12/2019</td>\n",
       "      <td>9:00:00 AM</td>\n",
       "      <td>WHONDRS</td>\n",
       "      <td>/home/projects-wrighton-2/GROWdb/JGI_download/...</td>\n",
       "      <td>112929274.0</td>\n",
       "      <td>1.705232e+10</td>\n",
       "      <td>Y</td>\n",
       "      <td>21.0</td>\n",
       "      <td>...</td>\n",
       "      <td>EASTERN TEMPERATE FORESTS</td>\n",
       "      <td>MIXED WOOD PLAINS</td>\n",
       "      <td>Driftless Area</td>\n",
       "      <td>USGS (from WHONDRS)</td>\n",
       "      <td>USGS-05406457</td>\n",
       "      <td>41.300000</td>\n",
       "      <td>2010 - 2020</td>\n",
       "      <td>9.796000</td>\n",
       "      <td>21.94000</td>\n",
       "      <td>https://waterdata.usgs.gov/usa/nwis/dv?referre...</td>\n",
       "    </tr>\n",
       "    <tr>\n",
       "      <th>3</th>\n",
       "      <td>blackwarrior_2019_sw_WHONDRS-S19S_0021</td>\n",
       "      <td>S19S_0021</td>\n",
       "      <td>8/20/2019</td>\n",
       "      <td>12:13:00 PM</td>\n",
       "      <td>WHONDRS</td>\n",
       "      <td>/home/projects-wrighton-2/GROWdb/JGI_download/...</td>\n",
       "      <td>98893064.0</td>\n",
       "      <td>1.493285e+10</td>\n",
       "      <td>Y</td>\n",
       "      <td>63.0</td>\n",
       "      <td>...</td>\n",
       "      <td>EASTERN TEMPERATE FORESTS</td>\n",
       "      <td>OZARK/OUACHITA-APPALACHIAN FORESTS</td>\n",
       "      <td>Southwestern Appalachians</td>\n",
       "      <td>NEON (from WHONDRS)</td>\n",
       "      <td>NEON-BLWA</td>\n",
       "      <td>2402.954791</td>\n",
       "      <td>2018 - 2020</td>\n",
       "      <td>1967.600546</td>\n",
       "      <td>24003.84798</td>\n",
       "      <td>https://data.neonscience.org/home</td>\n",
       "    </tr>\n",
       "    <tr>\n",
       "      <th>4</th>\n",
       "      <td>blueriver_2019_sw_WHONDRS-S19S_0024</td>\n",
       "      <td>S19S_0024</td>\n",
       "      <td>8/18/2019</td>\n",
       "      <td>12:40:00 PM</td>\n",
       "      <td>WHONDRS</td>\n",
       "      <td>/home/projects-wrighton-2/GROWdb/JGI_download/...</td>\n",
       "      <td>210080280.0</td>\n",
       "      <td>3.172212e+10</td>\n",
       "      <td>Y</td>\n",
       "      <td>82.0</td>\n",
       "      <td>...</td>\n",
       "      <td>GREAT PLAINS</td>\n",
       "      <td>SOUTH CENTRAL SEMIARID PRAIRIES</td>\n",
       "      <td>Cross Timbers</td>\n",
       "      <td>USGS (from WHONDRS)</td>\n",
       "      <td>USGS-07332390</td>\n",
       "      <td>68.100000</td>\n",
       "      <td>2004 - 2020</td>\n",
       "      <td>35.700000</td>\n",
       "      <td>146.00000</td>\n",
       "      <td>https://waterdata.usgs.gov/usa/nwis/dv?referre...</td>\n",
       "    </tr>\n",
       "  </tbody>\n",
       "</table>\n",
       "<p>5 rows × 304 columns</p>\n",
       "</div>"
      ],
      "text/plain": [
       "                                  SampleName     Sample       Date  \\\n",
       "0         altamaha_2019_sw_WHONDRS-S19S_0010  S19S_0010  7/31/2019   \n",
       "1    arikareeriver_2019_sw_WHONDRS-S19S_0023  S19S_0023   8/6/2019   \n",
       "2  blackearthcreek_2019_sw_WHONDRS-S19S_0061  S19S_0061  8/12/2019   \n",
       "3     blackwarrior_2019_sw_WHONDRS-S19S_0021  S19S_0021  8/20/2019   \n",
       "4        blueriver_2019_sw_WHONDRS-S19S_0024  S19S_0024  8/18/2019   \n",
       "\n",
       "          Time Project_PI                                           Location  \\\n",
       "0  10:14:00 AM    WHONDRS  /home/projects-wrighton-2/GROWdb/JGI_download/...   \n",
       "1  11:38:00 AM    WHONDRS  /home/projects-wrighton-2/GROWdb/JGI_download/...   \n",
       "2   9:00:00 AM    WHONDRS  /home/projects-wrighton-2/GROWdb/JGI_download/...   \n",
       "3  12:13:00 PM    WHONDRS  /home/projects-wrighton-2/GROWdb/JGI_download/...   \n",
       "4  12:40:00 PM    WHONDRS  /home/projects-wrighton-2/GROWdb/JGI_download/...   \n",
       "\n",
       "   Number_of_reads       Size_bp 3_Assemblies_done  \\\n",
       "0      250282804.0  3.779270e+10                 Y   \n",
       "1      171977790.0  2.596865e+10                 Y   \n",
       "2      112929274.0  1.705232e+10                 Y   \n",
       "3       98893064.0  1.493285e+10                 Y   \n",
       "4      210080280.0  3.172212e+10                 Y   \n",
       "\n",
       "   Number_of_Bins_Medium_and_High_Quality  ...                 OmernikIWs  \\\n",
       "0                                    80.0  ...  EASTERN TEMPERATE FORESTS   \n",
       "1                                    40.0  ...               GREAT PLAINS   \n",
       "2                                    21.0  ...  EASTERN TEMPERATE FORESTS   \n",
       "3                                    63.0  ...  EASTERN TEMPERATE FORESTS   \n",
       "4                                    82.0  ...               GREAT PLAINS   \n",
       "\n",
       "                          OmernikIIWs               OmernikIIIWs  \\\n",
       "0             SOUTHEASTERN USA PLAINS        Southeastern Plains   \n",
       "1     SOUTH CENTRAL SEMIARID PRAIRIES                High Plains   \n",
       "2                   MIXED WOOD PLAINS             Driftless Area   \n",
       "3  OZARK/OUACHITA-APPALACHIAN FORESTS  Southwestern Appalachians   \n",
       "4     SOUTH CENTRAL SEMIARID PRAIRIES              Cross Timbers   \n",
       "\n",
       "                source        gage_id          CFS  flow_record  \\\n",
       "0  USGS (from WHONDRS)  USGS-02226000  3180.000000  1980 - 2020   \n",
       "1                  NaN            NaN          NaN          NaN   \n",
       "2  USGS (from WHONDRS)  USGS-05406457    41.300000  2010 - 2020   \n",
       "3  NEON (from WHONDRS)      NEON-BLWA  2402.954791  2018 - 2020   \n",
       "4  USGS (from WHONDRS)  USGS-07332390    68.100000  2004 - 2020   \n",
       "\n",
       "   percentile_20  percentile_80  \\\n",
       "0    3030.000000    19500.00000   \n",
       "1            NaN            NaN   \n",
       "2       9.796000       21.94000   \n",
       "3    1967.600546    24003.84798   \n",
       "4      35.700000      146.00000   \n",
       "\n",
       "                                            flowlink  \n",
       "0  https://waterdata.usgs.gov/usa/nwis/dv?referre...  \n",
       "1                                                NaN  \n",
       "2  https://waterdata.usgs.gov/usa/nwis/dv?referre...  \n",
       "3                  https://data.neonscience.org/home  \n",
       "4  https://waterdata.usgs.gov/usa/nwis/dv?referre...  \n",
       "\n",
       "[5 rows x 304 columns]"
      ]
     },
     "execution_count": 16,
     "metadata": {},
     "output_type": "execute_result"
    }
   ],
   "source": [
    "growGS.head()"
   ]
  },
  {
   "cell_type": "code",
   "execution_count": 17,
   "metadata": {},
   "outputs": [],
   "source": [
    "filtered_GROW = growGS.loc[growGS['SampleName'].isin(samples)]\n",
    "#filtered_GROW.sort_values(by=\"SampleName\")\n",
    "\n",
    "#list(filtered_GROW['SampleName'])\n"
   ]
  },
  {
   "cell_type": "markdown",
   "metadata": {},
   "source": [
    "### Duplicated GROW GIS metadata row, a post-thesis side quest"
   ]
  },
  {
   "cell_type": "markdown",
   "metadata": {},
   "source": [
    "Noticed that shape of filtered_GROW was slightly different:"
   ]
  },
  {
   "cell_type": "code",
   "execution_count": 18,
   "metadata": {},
   "outputs": [
    {
     "data": {
      "text/plain": [
       "(159, 304)"
      ]
     },
     "execution_count": 18,
     "metadata": {},
     "output_type": "execute_result"
    }
   ],
   "source": [
    "filtered_GROW.shape"
   ]
  },
  {
   "cell_type": "markdown",
   "metadata": {},
   "source": [
    "Found the duplicated row:"
   ]
  },
  {
   "cell_type": "code",
   "execution_count": 19,
   "metadata": {},
   "outputs": [
    {
     "data": {
      "text/html": [
       "<div>\n",
       "<style scoped>\n",
       "    .dataframe tbody tr th:only-of-type {\n",
       "        vertical-align: middle;\n",
       "    }\n",
       "\n",
       "    .dataframe tbody tr th {\n",
       "        vertical-align: top;\n",
       "    }\n",
       "\n",
       "    .dataframe thead th {\n",
       "        text-align: right;\n",
       "    }\n",
       "</style>\n",
       "<table border=\"1\" class=\"dataframe\">\n",
       "  <thead>\n",
       "    <tr style=\"text-align: right;\">\n",
       "      <th></th>\n",
       "      <th>SampleName</th>\n",
       "      <th>Sample</th>\n",
       "      <th>Date</th>\n",
       "      <th>Time</th>\n",
       "      <th>Project_PI</th>\n",
       "      <th>Location</th>\n",
       "      <th>Number_of_reads</th>\n",
       "      <th>Size_bp</th>\n",
       "      <th>3_Assemblies_done</th>\n",
       "      <th>Number_of_Bins_Medium_and_High_Quality</th>\n",
       "      <th>...</th>\n",
       "      <th>OmernikIWs</th>\n",
       "      <th>OmernikIIWs</th>\n",
       "      <th>OmernikIIIWs</th>\n",
       "      <th>source</th>\n",
       "      <th>gage_id</th>\n",
       "      <th>CFS</th>\n",
       "      <th>flow_record</th>\n",
       "      <th>percentile_20</th>\n",
       "      <th>percentile_80</th>\n",
       "      <th>flowlink</th>\n",
       "    </tr>\n",
       "  </thead>\n",
       "  <tbody>\n",
       "    <tr>\n",
       "      <th>149</th>\n",
       "      <td>NASQAN2015_042</td>\n",
       "      <td>NASQAN2015_042</td>\n",
       "      <td>7/27/2015</td>\n",
       "      <td>10:30:00 AM</td>\n",
       "      <td>Byron</td>\n",
       "      <td>/home/projects-wrighton-2/GROWdb/Byron_data/NA...</td>\n",
       "      <td>141929584.0</td>\n",
       "      <td>2.143137e+10</td>\n",
       "      <td>Y</td>\n",
       "      <td>12.0</td>\n",
       "      <td>...</td>\n",
       "      <td>NORTHWESTERN FORESTED MOUNTAINS</td>\n",
       "      <td>WESTERN CORDILLERA</td>\n",
       "      <td>California Coastal Sage, Chaparral, and Oak Wo...</td>\n",
       "      <td>USGS</td>\n",
       "      <td>USGS-11447650</td>\n",
       "      <td>7794.104167</td>\n",
       "      <td>2008 - 2021</td>\n",
       "      <td>9405.895833</td>\n",
       "      <td>21837.91667</td>\n",
       "      <td>https://waterdata.usgs.gov/usa/nwis/uv?referre...</td>\n",
       "    </tr>\n",
       "  </tbody>\n",
       "</table>\n",
       "<p>1 rows × 304 columns</p>\n",
       "</div>"
      ],
      "text/plain": [
       "         SampleName          Sample       Date         Time Project_PI  \\\n",
       "149  NASQAN2015_042  NASQAN2015_042  7/27/2015  10:30:00 AM      Byron   \n",
       "\n",
       "                                              Location  Number_of_reads  \\\n",
       "149  /home/projects-wrighton-2/GROWdb/Byron_data/NA...      141929584.0   \n",
       "\n",
       "          Size_bp 3_Assemblies_done  Number_of_Bins_Medium_and_High_Quality  \\\n",
       "149  2.143137e+10                 Y                                    12.0   \n",
       "\n",
       "     ...                       OmernikIWs         OmernikIIWs  \\\n",
       "149  ...  NORTHWESTERN FORESTED MOUNTAINS  WESTERN CORDILLERA   \n",
       "\n",
       "                                          OmernikIIIWs source        gage_id  \\\n",
       "149  California Coastal Sage, Chaparral, and Oak Wo...   USGS  USGS-11447650   \n",
       "\n",
       "             CFS  flow_record  percentile_20  percentile_80  \\\n",
       "149  7794.104167  2008 - 2021    9405.895833    21837.91667   \n",
       "\n",
       "                                              flowlink  \n",
       "149  https://waterdata.usgs.gov/usa/nwis/uv?referre...  \n",
       "\n",
       "[1 rows x 304 columns]"
      ]
     },
     "execution_count": 19,
     "metadata": {},
     "output_type": "execute_result"
    }
   ],
   "source": [
    "filtered_GROW[filtered_GROW['SampleName'].duplicated()]"
   ]
  },
  {
   "cell_type": "code",
   "execution_count": 20,
   "metadata": {},
   "outputs": [
    {
     "data": {
      "text/html": [
       "<div>\n",
       "<style scoped>\n",
       "    .dataframe tbody tr th:only-of-type {\n",
       "        vertical-align: middle;\n",
       "    }\n",
       "\n",
       "    .dataframe tbody tr th {\n",
       "        vertical-align: top;\n",
       "    }\n",
       "\n",
       "    .dataframe thead th {\n",
       "        text-align: right;\n",
       "    }\n",
       "</style>\n",
       "<table border=\"1\" class=\"dataframe\">\n",
       "  <thead>\n",
       "    <tr style=\"text-align: right;\">\n",
       "      <th></th>\n",
       "      <th>SampleName</th>\n",
       "      <th>Sample</th>\n",
       "      <th>Date</th>\n",
       "      <th>Time</th>\n",
       "      <th>Project_PI</th>\n",
       "      <th>Location</th>\n",
       "      <th>Number_of_reads</th>\n",
       "      <th>Size_bp</th>\n",
       "      <th>3_Assemblies_done</th>\n",
       "      <th>Number_of_Bins_Medium_and_High_Quality</th>\n",
       "      <th>...</th>\n",
       "      <th>OmernikIWs</th>\n",
       "      <th>OmernikIIWs</th>\n",
       "      <th>OmernikIIIWs</th>\n",
       "      <th>source</th>\n",
       "      <th>gage_id</th>\n",
       "      <th>CFS</th>\n",
       "      <th>flow_record</th>\n",
       "      <th>percentile_20</th>\n",
       "      <th>percentile_80</th>\n",
       "      <th>flowlink</th>\n",
       "    </tr>\n",
       "  </thead>\n",
       "  <tbody>\n",
       "    <tr>\n",
       "      <th>148</th>\n",
       "      <td>NASQAN2015_042</td>\n",
       "      <td>NASQAN2015_042</td>\n",
       "      <td>7/27/2015</td>\n",
       "      <td>10:30:00 AM</td>\n",
       "      <td>Byron</td>\n",
       "      <td>/home/projects-wrighton-2/GROWdb/Byron_data/NA...</td>\n",
       "      <td>141929584.0</td>\n",
       "      <td>2.143137e+10</td>\n",
       "      <td>Y</td>\n",
       "      <td>12.0</td>\n",
       "      <td>...</td>\n",
       "      <td>NORTHWESTERN FORESTED MOUNTAINS</td>\n",
       "      <td>WESTERN CORDILLERA</td>\n",
       "      <td>California Coastal Sage, Chaparral, and Oak Wo...</td>\n",
       "      <td>USGS</td>\n",
       "      <td>USGS-11447650</td>\n",
       "      <td>8050.000000</td>\n",
       "      <td>1980 - 2015</td>\n",
       "      <td>10700.000000</td>\n",
       "      <td>28500.00000</td>\n",
       "      <td>https://waterdata.usgs.gov/usa/nwis/dv?referre...</td>\n",
       "    </tr>\n",
       "    <tr>\n",
       "      <th>149</th>\n",
       "      <td>NASQAN2015_042</td>\n",
       "      <td>NASQAN2015_042</td>\n",
       "      <td>7/27/2015</td>\n",
       "      <td>10:30:00 AM</td>\n",
       "      <td>Byron</td>\n",
       "      <td>/home/projects-wrighton-2/GROWdb/Byron_data/NA...</td>\n",
       "      <td>141929584.0</td>\n",
       "      <td>2.143137e+10</td>\n",
       "      <td>Y</td>\n",
       "      <td>12.0</td>\n",
       "      <td>...</td>\n",
       "      <td>NORTHWESTERN FORESTED MOUNTAINS</td>\n",
       "      <td>WESTERN CORDILLERA</td>\n",
       "      <td>California Coastal Sage, Chaparral, and Oak Wo...</td>\n",
       "      <td>USGS</td>\n",
       "      <td>USGS-11447650</td>\n",
       "      <td>7794.104167</td>\n",
       "      <td>2008 - 2021</td>\n",
       "      <td>9405.895833</td>\n",
       "      <td>21837.91667</td>\n",
       "      <td>https://waterdata.usgs.gov/usa/nwis/uv?referre...</td>\n",
       "    </tr>\n",
       "  </tbody>\n",
       "</table>\n",
       "<p>2 rows × 304 columns</p>\n",
       "</div>"
      ],
      "text/plain": [
       "         SampleName          Sample       Date         Time Project_PI  \\\n",
       "148  NASQAN2015_042  NASQAN2015_042  7/27/2015  10:30:00 AM      Byron   \n",
       "149  NASQAN2015_042  NASQAN2015_042  7/27/2015  10:30:00 AM      Byron   \n",
       "\n",
       "                                              Location  Number_of_reads  \\\n",
       "148  /home/projects-wrighton-2/GROWdb/Byron_data/NA...      141929584.0   \n",
       "149  /home/projects-wrighton-2/GROWdb/Byron_data/NA...      141929584.0   \n",
       "\n",
       "          Size_bp 3_Assemblies_done  Number_of_Bins_Medium_and_High_Quality  \\\n",
       "148  2.143137e+10                 Y                                    12.0   \n",
       "149  2.143137e+10                 Y                                    12.0   \n",
       "\n",
       "     ...                       OmernikIWs         OmernikIIWs  \\\n",
       "148  ...  NORTHWESTERN FORESTED MOUNTAINS  WESTERN CORDILLERA   \n",
       "149  ...  NORTHWESTERN FORESTED MOUNTAINS  WESTERN CORDILLERA   \n",
       "\n",
       "                                          OmernikIIIWs source        gage_id  \\\n",
       "148  California Coastal Sage, Chaparral, and Oak Wo...   USGS  USGS-11447650   \n",
       "149  California Coastal Sage, Chaparral, and Oak Wo...   USGS  USGS-11447650   \n",
       "\n",
       "             CFS  flow_record  percentile_20  percentile_80  \\\n",
       "148  8050.000000  1980 - 2015   10700.000000    28500.00000   \n",
       "149  7794.104167  2008 - 2021    9405.895833    21837.91667   \n",
       "\n",
       "                                              flowlink  \n",
       "148  https://waterdata.usgs.gov/usa/nwis/dv?referre...  \n",
       "149  https://waterdata.usgs.gov/usa/nwis/uv?referre...  \n",
       "\n",
       "[2 rows x 304 columns]"
      ]
     },
     "execution_count": 20,
     "metadata": {},
     "output_type": "execute_result"
    }
   ],
   "source": [
    "nasqan2015_42=filtered_GROW[filtered_GROW['SampleName']=='NASQAN2015_042']\n",
    "nasqan2015_42"
   ]
  },
  {
   "cell_type": "markdown",
   "metadata": {},
   "source": [
    "Decided to drop the row containing the older data (as evidenced by column 'flow_record'), though there isn't much difference between them."
   ]
  },
  {
   "cell_type": "code",
   "execution_count": 21,
   "metadata": {},
   "outputs": [
    {
     "data": {
      "text/plain": [
       "{10700.0,\n",
       " '1980 - 2015',\n",
       " 28500.0,\n",
       " 8050.0,\n",
       " 'https://waterdata.usgs.gov/usa/nwis/dv?referred_module=sw&site_no=11447650',\n",
       " nan,\n",
       " nan,\n",
       " nan,\n",
       " nan,\n",
       " nan,\n",
       " nan,\n",
       " nan,\n",
       " nan,\n",
       " nan,\n",
       " nan,\n",
       " nan,\n",
       " nan,\n",
       " nan,\n",
       " nan,\n",
       " nan,\n",
       " nan,\n",
       " nan}"
      ]
     },
     "execution_count": 21,
     "metadata": {},
     "output_type": "execute_result"
    }
   ],
   "source": [
    "set148=set(filtered_GROW[filtered_GROW['SampleName']=='NASQAN2015_042'].loc[148])\n",
    "set149=set(filtered_GROW[filtered_GROW['SampleName']=='NASQAN2015_042'].loc[149])\n",
    "set148.difference(set149)"
   ]
  },
  {
   "cell_type": "code",
   "execution_count": 22,
   "metadata": {},
   "outputs": [],
   "source": [
    "filtered_GROW=filtered_GROW.drop(148)"
   ]
  },
  {
   "cell_type": "code",
   "execution_count": 23,
   "metadata": {},
   "outputs": [
    {
     "data": {
      "text/plain": [
       "(158, 304)"
      ]
     },
     "execution_count": 23,
     "metadata": {},
     "output_type": "execute_result"
    }
   ],
   "source": [
    "filtered_GROW.shape"
   ]
  },
  {
   "cell_type": "markdown",
   "metadata": {},
   "source": [
    "### Import sequencing data for plasmids/megabase"
   ]
  },
  {
   "cell_type": "code",
   "execution_count": 24,
   "metadata": {},
   "outputs": [],
   "source": [
    "#import sequencing effort data\n",
    "supppath=gitpath+'GROW_SuppFile1_Sequencing.csv'\n",
    "growsupp=pd.read_csv(supppath)\n",
    "growsupp.set_index('SampleName', inplace=True)\n",
    "growsuppdict=growsupp['MetaG Size_bp'].to_dict()"
   ]
  },
  {
   "cell_type": "code",
   "execution_count": 25,
   "metadata": {},
   "outputs": [
    {
     "data": {
      "text/html": [
       "<div>\n",
       "<style scoped>\n",
       "    .dataframe tbody tr th:only-of-type {\n",
       "        vertical-align: middle;\n",
       "    }\n",
       "\n",
       "    .dataframe tbody tr th {\n",
       "        vertical-align: top;\n",
       "    }\n",
       "\n",
       "    .dataframe thead th {\n",
       "        text-align: right;\n",
       "    }\n",
       "</style>\n",
       "<table border=\"1\" class=\"dataframe\">\n",
       "  <thead>\n",
       "    <tr style=\"text-align: right;\">\n",
       "      <th></th>\n",
       "      <th>Sample</th>\n",
       "      <th>Date</th>\n",
       "      <th>Project</th>\n",
       "      <th>contributing PI</th>\n",
       "      <th>MetaG Number_of_reads</th>\n",
       "      <th>MetaG Size_bp</th>\n",
       "      <th>Number_of_Bins_Medium_and_High_Quality</th>\n",
       "      <th>Country</th>\n",
       "      <th>GROW_version</th>\n",
       "      <th>has_MetaT</th>\n",
       "      <th>MetaT_bp</th>\n",
       "      <th>has_FTICR</th>\n",
       "      <th>Latitude</th>\n",
       "      <th>Longitude</th>\n",
       "      <th>MetaG_JGI_accession</th>\n",
       "      <th>MetaT sequencing location</th>\n",
       "      <th>MetaT_accession</th>\n",
       "      <th>MetaG mapping</th>\n",
       "      <th>Removed from mapping analysis</th>\n",
       "    </tr>\n",
       "    <tr>\n",
       "      <th>SampleName</th>\n",
       "      <th></th>\n",
       "      <th></th>\n",
       "      <th></th>\n",
       "      <th></th>\n",
       "      <th></th>\n",
       "      <th></th>\n",
       "      <th></th>\n",
       "      <th></th>\n",
       "      <th></th>\n",
       "      <th></th>\n",
       "      <th></th>\n",
       "      <th></th>\n",
       "      <th></th>\n",
       "      <th></th>\n",
       "      <th></th>\n",
       "      <th></th>\n",
       "      <th></th>\n",
       "      <th></th>\n",
       "      <th></th>\n",
       "    </tr>\n",
       "  </thead>\n",
       "  <tbody>\n",
       "    <tr>\n",
       "      <th>augustacreek_2019_sw_WHONDRS-S19S_0067</th>\n",
       "      <td>S19S_0067</td>\n",
       "      <td>8/12/19</td>\n",
       "      <td>WHONDRS</td>\n",
       "      <td>James Stegen</td>\n",
       "      <td>NaN</td>\n",
       "      <td>NaN</td>\n",
       "      <td>NaN</td>\n",
       "      <td>USA</td>\n",
       "      <td>v1</td>\n",
       "      <td>Y</td>\n",
       "      <td>1.802216e+10</td>\n",
       "      <td>Y</td>\n",
       "      <td>42.392100</td>\n",
       "      <td>-85.354120</td>\n",
       "      <td>NaN</td>\n",
       "      <td>JGI</td>\n",
       "      <td>3300042578</td>\n",
       "      <td>NaN</td>\n",
       "      <td>NaN</td>\n",
       "    </tr>\n",
       "    <tr>\n",
       "      <th>cachelapoudre_2019_sw_WHONDRS-S19S_0077</th>\n",
       "      <td>S19S_0077</td>\n",
       "      <td>8/18/19</td>\n",
       "      <td>WHONDRS</td>\n",
       "      <td>James Stegen</td>\n",
       "      <td>NaN</td>\n",
       "      <td>NaN</td>\n",
       "      <td>NaN</td>\n",
       "      <td>USA</td>\n",
       "      <td>v1</td>\n",
       "      <td>Y</td>\n",
       "      <td>1.005242e+10</td>\n",
       "      <td>Y</td>\n",
       "      <td>40.664030</td>\n",
       "      <td>-105.223141</td>\n",
       "      <td>NaN</td>\n",
       "      <td>UC Denver</td>\n",
       "      <td>TBD</td>\n",
       "      <td>NaN</td>\n",
       "      <td>NaN</td>\n",
       "    </tr>\n",
       "    <tr>\n",
       "      <th>cartcreek_2019_sw_WHONDRS-S19S_0073</th>\n",
       "      <td>S19S_0073</td>\n",
       "      <td>8/12/19</td>\n",
       "      <td>WHONDRS</td>\n",
       "      <td>James Stegen</td>\n",
       "      <td>NaN</td>\n",
       "      <td>NaN</td>\n",
       "      <td>NaN</td>\n",
       "      <td>USA</td>\n",
       "      <td>v1</td>\n",
       "      <td>Y</td>\n",
       "      <td>1.070084e+10</td>\n",
       "      <td>Y</td>\n",
       "      <td>42.768806</td>\n",
       "      <td>-70.916499</td>\n",
       "      <td>NaN</td>\n",
       "      <td>UC Denver</td>\n",
       "      <td>TBD</td>\n",
       "      <td>NaN</td>\n",
       "      <td>NaN</td>\n",
       "    </tr>\n",
       "    <tr>\n",
       "      <th>kingscreed_2019_sw_WHONDRS-S19S_0040</th>\n",
       "      <td>S19S_0040</td>\n",
       "      <td>8/5/19</td>\n",
       "      <td>WHONDRS</td>\n",
       "      <td>James Stegen</td>\n",
       "      <td>NaN</td>\n",
       "      <td>NaN</td>\n",
       "      <td>NaN</td>\n",
       "      <td>USA</td>\n",
       "      <td>v1</td>\n",
       "      <td>Y</td>\n",
       "      <td>8.300571e+09</td>\n",
       "      <td>Y</td>\n",
       "      <td>39.087889</td>\n",
       "      <td>-96.584725</td>\n",
       "      <td>NaN</td>\n",
       "      <td>UC Denver</td>\n",
       "      <td>TBD</td>\n",
       "      <td>NaN</td>\n",
       "      <td>NaN</td>\n",
       "    </tr>\n",
       "    <tr>\n",
       "      <th>sawmillbrook_2019_sw_WHONDRS-S19S_0072</th>\n",
       "      <td>S19S_0072</td>\n",
       "      <td>8/12/19</td>\n",
       "      <td>WHONDRS</td>\n",
       "      <td>James Stegen</td>\n",
       "      <td>NaN</td>\n",
       "      <td>NaN</td>\n",
       "      <td>NaN</td>\n",
       "      <td>USA</td>\n",
       "      <td>v1</td>\n",
       "      <td>Y</td>\n",
       "      <td>8.766472e+09</td>\n",
       "      <td>Y</td>\n",
       "      <td>42.523564</td>\n",
       "      <td>-71.184820</td>\n",
       "      <td>NaN</td>\n",
       "      <td>UC Denver</td>\n",
       "      <td>TBD</td>\n",
       "      <td>NaN</td>\n",
       "      <td>NaN</td>\n",
       "    </tr>\n",
       "    <tr>\n",
       "      <th>...</th>\n",
       "      <td>...</td>\n",
       "      <td>...</td>\n",
       "      <td>...</td>\n",
       "      <td>...</td>\n",
       "      <td>...</td>\n",
       "      <td>...</td>\n",
       "      <td>...</td>\n",
       "      <td>...</td>\n",
       "      <td>...</td>\n",
       "      <td>...</td>\n",
       "      <td>...</td>\n",
       "      <td>...</td>\n",
       "      <td>...</td>\n",
       "      <td>...</td>\n",
       "      <td>...</td>\n",
       "      <td>...</td>\n",
       "      <td>...</td>\n",
       "      <td>...</td>\n",
       "      <td>...</td>\n",
       "    </tr>\n",
       "    <tr>\n",
       "      <th>NASQAN2011_277</th>\n",
       "      <td>NASQAN2011_277</td>\n",
       "      <td>3/7/11</td>\n",
       "      <td>NASQAN</td>\n",
       "      <td>Byron Crump</td>\n",
       "      <td>53486686.0</td>\n",
       "      <td>8.076490e+09</td>\n",
       "      <td>0.0</td>\n",
       "      <td>USA</td>\n",
       "      <td>v1</td>\n",
       "      <td>N</td>\n",
       "      <td>NaN</td>\n",
       "      <td>N</td>\n",
       "      <td>41.780590</td>\n",
       "      <td>-90.252070</td>\n",
       "      <td>3.300047e+09</td>\n",
       "      <td>NaN</td>\n",
       "      <td>NaN</td>\n",
       "      <td>0.00000</td>\n",
       "      <td>Yes</td>\n",
       "    </tr>\n",
       "    <tr>\n",
       "      <th>NASQAN2011_229</th>\n",
       "      <td>NASQAN2011_229</td>\n",
       "      <td>8/25/11</td>\n",
       "      <td>NASQAN</td>\n",
       "      <td>Byron Crump</td>\n",
       "      <td>43763328.0</td>\n",
       "      <td>6.608263e+09</td>\n",
       "      <td>0.0</td>\n",
       "      <td>USA</td>\n",
       "      <td>v1</td>\n",
       "      <td>N</td>\n",
       "      <td>NaN</td>\n",
       "      <td>N</td>\n",
       "      <td>30.690740</td>\n",
       "      <td>-91.736230</td>\n",
       "      <td>3.300047e+09</td>\n",
       "      <td>NaN</td>\n",
       "      <td>NaN</td>\n",
       "      <td>0.00000</td>\n",
       "      <td>Yes</td>\n",
       "    </tr>\n",
       "    <tr>\n",
       "      <th>NASQAN2011_034</th>\n",
       "      <td>NASQAN2011_034</td>\n",
       "      <td>2/8/11</td>\n",
       "      <td>NASQAN</td>\n",
       "      <td>Byron Crump</td>\n",
       "      <td>41147108.0</td>\n",
       "      <td>6.213213e+09</td>\n",
       "      <td>0.0</td>\n",
       "      <td>USA</td>\n",
       "      <td>v1</td>\n",
       "      <td>N</td>\n",
       "      <td>NaN</td>\n",
       "      <td>N</td>\n",
       "      <td>38.130880</td>\n",
       "      <td>-87.941420</td>\n",
       "      <td>3.300047e+09</td>\n",
       "      <td>NaN</td>\n",
       "      <td>NaN</td>\n",
       "      <td>0.00000</td>\n",
       "      <td>Yes</td>\n",
       "    </tr>\n",
       "    <tr>\n",
       "      <th>NASQAN2012_107</th>\n",
       "      <td>NASQAN2012_107</td>\n",
       "      <td>7/18/12</td>\n",
       "      <td>NASQAN</td>\n",
       "      <td>Byron Crump</td>\n",
       "      <td>39255976.0</td>\n",
       "      <td>5.927652e+09</td>\n",
       "      <td>0.0</td>\n",
       "      <td>USA</td>\n",
       "      <td>v1</td>\n",
       "      <td>N</td>\n",
       "      <td>NaN</td>\n",
       "      <td>N</td>\n",
       "      <td>32.444170</td>\n",
       "      <td>-90.914170</td>\n",
       "      <td>3.300046e+09</td>\n",
       "      <td>NaN</td>\n",
       "      <td>NaN</td>\n",
       "      <td>20.40056</td>\n",
       "      <td>No</td>\n",
       "    </tr>\n",
       "    <tr>\n",
       "      <th>NASQAN2011_194</th>\n",
       "      <td>NASQAN2011_194</td>\n",
       "      <td>5/9/11</td>\n",
       "      <td>NASQAN</td>\n",
       "      <td>Byron Crump</td>\n",
       "      <td>27688102.0</td>\n",
       "      <td>4.180903e+09</td>\n",
       "      <td>0.0</td>\n",
       "      <td>USA</td>\n",
       "      <td>v1</td>\n",
       "      <td>N</td>\n",
       "      <td>NaN</td>\n",
       "      <td>N</td>\n",
       "      <td>30.758520</td>\n",
       "      <td>-91.395950</td>\n",
       "      <td>3.300047e+09</td>\n",
       "      <td>NaN</td>\n",
       "      <td>NaN</td>\n",
       "      <td>0.00000</td>\n",
       "      <td>Yes</td>\n",
       "    </tr>\n",
       "  </tbody>\n",
       "</table>\n",
       "<p>163 rows × 19 columns</p>\n",
       "</div>"
      ],
      "text/plain": [
       "                                                 Sample     Date  Project  \\\n",
       "SampleName                                                                  \n",
       "augustacreek_2019_sw_WHONDRS-S19S_0067        S19S_0067  8/12/19  WHONDRS   \n",
       "cachelapoudre_2019_sw_WHONDRS-S19S_0077       S19S_0077  8/18/19  WHONDRS   \n",
       "cartcreek_2019_sw_WHONDRS-S19S_0073           S19S_0073  8/12/19  WHONDRS   \n",
       "kingscreed_2019_sw_WHONDRS-S19S_0040          S19S_0040   8/5/19  WHONDRS   \n",
       "sawmillbrook_2019_sw_WHONDRS-S19S_0072        S19S_0072  8/12/19  WHONDRS   \n",
       "...                                                 ...      ...      ...   \n",
       "NASQAN2011_277                           NASQAN2011_277   3/7/11   NASQAN   \n",
       "NASQAN2011_229                           NASQAN2011_229  8/25/11   NASQAN   \n",
       "NASQAN2011_034                           NASQAN2011_034   2/8/11   NASQAN   \n",
       "NASQAN2012_107                           NASQAN2012_107  7/18/12   NASQAN   \n",
       "NASQAN2011_194                           NASQAN2011_194   5/9/11   NASQAN   \n",
       "\n",
       "                                        contributing PI  \\\n",
       "SampleName                                                \n",
       "augustacreek_2019_sw_WHONDRS-S19S_0067     James Stegen   \n",
       "cachelapoudre_2019_sw_WHONDRS-S19S_0077    James Stegen   \n",
       "cartcreek_2019_sw_WHONDRS-S19S_0073        James Stegen   \n",
       "kingscreed_2019_sw_WHONDRS-S19S_0040       James Stegen   \n",
       "sawmillbrook_2019_sw_WHONDRS-S19S_0072     James Stegen   \n",
       "...                                                 ...   \n",
       "NASQAN2011_277                              Byron Crump   \n",
       "NASQAN2011_229                              Byron Crump   \n",
       "NASQAN2011_034                              Byron Crump   \n",
       "NASQAN2012_107                              Byron Crump   \n",
       "NASQAN2011_194                              Byron Crump   \n",
       "\n",
       "                                         MetaG Number_of_reads  MetaG Size_bp  \\\n",
       "SampleName                                                                      \n",
       "augustacreek_2019_sw_WHONDRS-S19S_0067                     NaN            NaN   \n",
       "cachelapoudre_2019_sw_WHONDRS-S19S_0077                    NaN            NaN   \n",
       "cartcreek_2019_sw_WHONDRS-S19S_0073                        NaN            NaN   \n",
       "kingscreed_2019_sw_WHONDRS-S19S_0040                       NaN            NaN   \n",
       "sawmillbrook_2019_sw_WHONDRS-S19S_0072                     NaN            NaN   \n",
       "...                                                        ...            ...   \n",
       "NASQAN2011_277                                      53486686.0   8.076490e+09   \n",
       "NASQAN2011_229                                      43763328.0   6.608263e+09   \n",
       "NASQAN2011_034                                      41147108.0   6.213213e+09   \n",
       "NASQAN2012_107                                      39255976.0   5.927652e+09   \n",
       "NASQAN2011_194                                      27688102.0   4.180903e+09   \n",
       "\n",
       "                                         Number_of_Bins_Medium_and_High_Quality  \\\n",
       "SampleName                                                                        \n",
       "augustacreek_2019_sw_WHONDRS-S19S_0067                                      NaN   \n",
       "cachelapoudre_2019_sw_WHONDRS-S19S_0077                                     NaN   \n",
       "cartcreek_2019_sw_WHONDRS-S19S_0073                                         NaN   \n",
       "kingscreed_2019_sw_WHONDRS-S19S_0040                                        NaN   \n",
       "sawmillbrook_2019_sw_WHONDRS-S19S_0072                                      NaN   \n",
       "...                                                                         ...   \n",
       "NASQAN2011_277                                                              0.0   \n",
       "NASQAN2011_229                                                              0.0   \n",
       "NASQAN2011_034                                                              0.0   \n",
       "NASQAN2012_107                                                              0.0   \n",
       "NASQAN2011_194                                                              0.0   \n",
       "\n",
       "                                        Country GROW_version has_MetaT  \\\n",
       "SampleName                                                               \n",
       "augustacreek_2019_sw_WHONDRS-S19S_0067      USA           v1         Y   \n",
       "cachelapoudre_2019_sw_WHONDRS-S19S_0077     USA           v1         Y   \n",
       "cartcreek_2019_sw_WHONDRS-S19S_0073         USA           v1         Y   \n",
       "kingscreed_2019_sw_WHONDRS-S19S_0040        USA           v1         Y   \n",
       "sawmillbrook_2019_sw_WHONDRS-S19S_0072      USA           v1         Y   \n",
       "...                                         ...          ...       ...   \n",
       "NASQAN2011_277                              USA           v1         N   \n",
       "NASQAN2011_229                              USA           v1         N   \n",
       "NASQAN2011_034                              USA           v1         N   \n",
       "NASQAN2012_107                              USA           v1         N   \n",
       "NASQAN2011_194                              USA           v1         N   \n",
       "\n",
       "                                             MetaT_bp has_FTICR   Latitude  \\\n",
       "SampleName                                                                   \n",
       "augustacreek_2019_sw_WHONDRS-S19S_0067   1.802216e+10         Y  42.392100   \n",
       "cachelapoudre_2019_sw_WHONDRS-S19S_0077  1.005242e+10         Y  40.664030   \n",
       "cartcreek_2019_sw_WHONDRS-S19S_0073      1.070084e+10         Y  42.768806   \n",
       "kingscreed_2019_sw_WHONDRS-S19S_0040     8.300571e+09         Y  39.087889   \n",
       "sawmillbrook_2019_sw_WHONDRS-S19S_0072   8.766472e+09         Y  42.523564   \n",
       "...                                               ...       ...        ...   \n",
       "NASQAN2011_277                                    NaN         N  41.780590   \n",
       "NASQAN2011_229                                    NaN         N  30.690740   \n",
       "NASQAN2011_034                                    NaN         N  38.130880   \n",
       "NASQAN2012_107                                    NaN         N  32.444170   \n",
       "NASQAN2011_194                                    NaN         N  30.758520   \n",
       "\n",
       "                                          Longitude  MetaG_JGI_accession  \\\n",
       "SampleName                                                                 \n",
       "augustacreek_2019_sw_WHONDRS-S19S_0067   -85.354120                  NaN   \n",
       "cachelapoudre_2019_sw_WHONDRS-S19S_0077 -105.223141                  NaN   \n",
       "cartcreek_2019_sw_WHONDRS-S19S_0073      -70.916499                  NaN   \n",
       "kingscreed_2019_sw_WHONDRS-S19S_0040     -96.584725                  NaN   \n",
       "sawmillbrook_2019_sw_WHONDRS-S19S_0072   -71.184820                  NaN   \n",
       "...                                             ...                  ...   \n",
       "NASQAN2011_277                           -90.252070         3.300047e+09   \n",
       "NASQAN2011_229                           -91.736230         3.300047e+09   \n",
       "NASQAN2011_034                           -87.941420         3.300047e+09   \n",
       "NASQAN2012_107                           -90.914170         3.300046e+09   \n",
       "NASQAN2011_194                           -91.395950         3.300047e+09   \n",
       "\n",
       "                                        MetaT sequencing location  \\\n",
       "SampleName                                                          \n",
       "augustacreek_2019_sw_WHONDRS-S19S_0067                        JGI   \n",
       "cachelapoudre_2019_sw_WHONDRS-S19S_0077                 UC Denver   \n",
       "cartcreek_2019_sw_WHONDRS-S19S_0073                     UC Denver   \n",
       "kingscreed_2019_sw_WHONDRS-S19S_0040                    UC Denver   \n",
       "sawmillbrook_2019_sw_WHONDRS-S19S_0072                  UC Denver   \n",
       "...                                                           ...   \n",
       "NASQAN2011_277                                                NaN   \n",
       "NASQAN2011_229                                                NaN   \n",
       "NASQAN2011_034                                                NaN   \n",
       "NASQAN2012_107                                                NaN   \n",
       "NASQAN2011_194                                                NaN   \n",
       "\n",
       "                                        MetaT_accession  MetaG mapping  \\\n",
       "SampleName                                                               \n",
       "augustacreek_2019_sw_WHONDRS-S19S_0067       3300042578            NaN   \n",
       "cachelapoudre_2019_sw_WHONDRS-S19S_0077             TBD            NaN   \n",
       "cartcreek_2019_sw_WHONDRS-S19S_0073                 TBD            NaN   \n",
       "kingscreed_2019_sw_WHONDRS-S19S_0040                TBD            NaN   \n",
       "sawmillbrook_2019_sw_WHONDRS-S19S_0072              TBD            NaN   \n",
       "...                                                 ...            ...   \n",
       "NASQAN2011_277                                      NaN        0.00000   \n",
       "NASQAN2011_229                                      NaN        0.00000   \n",
       "NASQAN2011_034                                      NaN        0.00000   \n",
       "NASQAN2012_107                                      NaN       20.40056   \n",
       "NASQAN2011_194                                      NaN        0.00000   \n",
       "\n",
       "                                        Removed from mapping analysis  \n",
       "SampleName                                                             \n",
       "augustacreek_2019_sw_WHONDRS-S19S_0067                            NaN  \n",
       "cachelapoudre_2019_sw_WHONDRS-S19S_0077                           NaN  \n",
       "cartcreek_2019_sw_WHONDRS-S19S_0073                               NaN  \n",
       "kingscreed_2019_sw_WHONDRS-S19S_0040                              NaN  \n",
       "sawmillbrook_2019_sw_WHONDRS-S19S_0072                            NaN  \n",
       "...                                                               ...  \n",
       "NASQAN2011_277                                                    Yes  \n",
       "NASQAN2011_229                                                    Yes  \n",
       "NASQAN2011_034                                                    Yes  \n",
       "NASQAN2012_107                                                     No  \n",
       "NASQAN2011_194                                                    Yes  \n",
       "\n",
       "[163 rows x 19 columns]"
      ]
     },
     "execution_count": 25,
     "metadata": {},
     "output_type": "execute_result"
    }
   ],
   "source": [
    "growsupp"
   ]
  },
  {
   "cell_type": "markdown",
   "metadata": {},
   "source": [
    "### Default geNomad"
   ]
  },
  {
   "cell_type": "code",
   "execution_count": 26,
   "metadata": {
    "scrolled": true
   },
   "outputs": [],
   "source": [
    "#default geNomad import\n",
    "#samples=get_samples('default')"
   ]
  },
  {
   "cell_type": "code",
   "execution_count": 27,
   "metadata": {},
   "outputs": [],
   "source": [
    "listofAMRs, forpairs=prepares_for_pairs('default')"
   ]
  },
  {
   "cell_type": "code",
   "execution_count": 28,
   "metadata": {},
   "outputs": [
    {
     "data": {
      "image/png": "[encoded data removed]",
      "text/plain": [
       "<Figure size 720x720 with 20 Axes>"
      ]
     },
     "metadata": {
      "needs_background": "light"
     },
     "output_type": "display_data"
    }
   ],
   "source": [
    "plt=sns.pairplot(forpairs)"
   ]
  },
  {
   "cell_type": "code",
   "execution_count": 20,
   "metadata": {},
   "outputs": [
    {
     "data": {
      "image/png": "[encoded data removed]",
      "text/plain": [
       "<Figure size 959x720 with 20 Axes>"
      ]
     },
     "metadata": {
      "needs_background": "light"
     },
     "output_type": "display_data"
    }
   ],
   "source": [
    "#this was an exploratory figure that looks very cool and is not very interesting\n",
    "plt=sns.pairplot(forpairs, hue='OmernikISite')\n",
    "#plt.subtitle(\"Correlations Between Density of Wastewater Treatment Plants in Watershed with\\n Number of AMR Genes, Plasmids, and Plasmids per BP in Sample\")"
   ]
  },
  {
   "cell_type": "code",
   "execution_count": 54,
   "metadata": {},
   "outputs": [
    {
     "data": {
      "text/plain": [
       "SpearmanrResult(correlation=-0.26312823831557847, pvalue=0.0023016773149834597)"
      ]
     },
     "execution_count": 54,
     "metadata": {},
     "output_type": "execute_result"
    }
   ],
   "source": [
    "stats.spearmanr(np.array(forpairs['WWTPAllDensWs']), np.array(forpairs['Plasmids']),nan_policy=\"omit\")"
   ]
  },
  {
   "cell_type": "code",
   "execution_count": 55,
   "metadata": {},
   "outputs": [
    {
     "data": {
      "text/plain": [
       "SpearmanrResult(correlation=-0.2134578642928508, pvalue=0.013990330640447635)"
      ]
     },
     "execution_count": 55,
     "metadata": {},
     "output_type": "execute_result"
    }
   ],
   "source": [
    "stats.spearmanr(np.array(forpairs['WWTPAllDensWs']), np.array(forpairs['AMRgenes']),nan_policy=\"omit\")"
   ]
  },
  {
   "cell_type": "code",
   "execution_count": 56,
   "metadata": {},
   "outputs": [
    {
     "data": {
      "text/plain": [
       "SpearmanrResult(correlation=-0.2236952419838782, pvalue=0.00992653006049658)"
      ]
     },
     "execution_count": 56,
     "metadata": {},
     "output_type": "execute_result"
    }
   ],
   "source": [
    "stats.spearmanr(np.array(forpairs['WWTPAllDensWs']), np.array(forpairs['Plasmid/BP']),nan_policy=\"omit\")"
   ]
  },
  {
   "cell_type": "code",
   "execution_count": 64,
   "metadata": {},
   "outputs": [
    {
     "data": {
      "text/plain": [
       "58"
      ]
     },
     "execution_count": 64,
     "metadata": {},
     "output_type": "execute_result"
    }
   ],
   "source": [
    "countAMRs=Counter(listofAMRs)\n",
    "len(countAMRs)"
   ]
  },
  {
   "cell_type": "markdown",
   "metadata": {},
   "source": [
    "### Calibrated geNomad"
   ]
  },
  {
   "cell_type": "code",
   "execution_count": 65,
   "metadata": {},
   "outputs": [],
   "source": [
    "calilistofAMRs, forpairs=prepares_for_pairs('calibrated')"
   ]
  },
  {
   "cell_type": "code",
   "execution_count": 66,
   "metadata": {},
   "outputs": [
    {
     "data": {
      "image/png": "[encoded data removed]",
      "text/plain": [
       "<Figure size 720x720 with 20 Axes>"
      ]
     },
     "metadata": {
      "needs_background": "light"
     },
     "output_type": "display_data"
    }
   ],
   "source": [
    "pltcali=sns.pairplot(forpairs)"
   ]
  },
  {
   "cell_type": "code",
   "execution_count": 67,
   "metadata": {},
   "outputs": [
    {
     "data": {
      "text/plain": [
       "SpearmanrResult(correlation=-0.27126942339365523, pvalue=0.0016539721161025042)"
      ]
     },
     "execution_count": 67,
     "metadata": {},
     "output_type": "execute_result"
    }
   ],
   "source": [
    "stats.spearmanr(np.array(forpairs['WWTPAllDensWs']), np.array(forpairs['Plasmids']),nan_policy=\"omit\")"
   ]
  },
  {
   "cell_type": "code",
   "execution_count": 68,
   "metadata": {},
   "outputs": [
    {
     "data": {
      "text/plain": [
       "SpearmanrResult(correlation=-0.22936683556733595, pvalue=0.00815638061033582)"
      ]
     },
     "execution_count": 68,
     "metadata": {},
     "output_type": "execute_result"
    }
   ],
   "source": [
    "stats.spearmanr(np.array(forpairs['WWTPAllDensWs']), np.array(forpairs['AMRgenes']),nan_policy=\"omit\")"
   ]
  },
  {
   "cell_type": "code",
   "execution_count": 69,
   "metadata": {},
   "outputs": [
    {
     "data": {
      "text/plain": [
       "SpearmanrResult(correlation=-0.23931313575149277, pvalue=0.005716337551794554)"
      ]
     },
     "execution_count": 69,
     "metadata": {},
     "output_type": "execute_result"
    }
   ],
   "source": [
    "stats.spearmanr(np.array(forpairs['WWTPAllDensWs']), np.array(forpairs['Plasmid/BP']),nan_policy=\"omit\")"
   ]
  },
  {
   "cell_type": "code",
   "execution_count": 70,
   "metadata": {},
   "outputs": [],
   "source": [
    "countAMRs=Counter(calilistofAMRs)"
   ]
  },
  {
   "cell_type": "code",
   "execution_count": 71,
   "metadata": {},
   "outputs": [
    {
     "data": {
      "text/plain": [
       "Counter({'NF000496': 83,\n",
       "         'NF033156': 3,\n",
       "         'NF033144': 1,\n",
       "         'NF033105': 56,\n",
       "         'NF033087': 29,\n",
       "         'NF033145': 23,\n",
       "         'NF012147': 12,\n",
       "         'NF012174': 75,\n",
       "         'NF000138': 3,\n",
       "         'NF033135': 63,\n",
       "         'NF033117': 35,\n",
       "         'NF000402': 43,\n",
       "         'NF000272': 66,\n",
       "         'NF033088': 10,\n",
       "         'NF033068': 25,\n",
       "         'NF012212': 5,\n",
       "         'NF033476': 28,\n",
       "         'NF033083': 3,\n",
       "         'NF000025': 10,\n",
       "         'NF000373': 3,\n",
       "         'NF033134': 5,\n",
       "         'NF012178': 18,\n",
       "         'NF000091': 3,\n",
       "         'NF000005': 6,\n",
       "         'NF000493': 7,\n",
       "         'NF000027': 5,\n",
       "         'NF033103': 4,\n",
       "         'NF000270': 1,\n",
       "         'NF040806': 9,\n",
       "         'NF000052': 6,\n",
       "         'NF000469': 3,\n",
       "         'NF033085': 2,\n",
       "         'NF012171': 7,\n",
       "         'NF033129': 3,\n",
       "         'NF000088': 7,\n",
       "         'NF000456': 4,\n",
       "         'NF033075': 2,\n",
       "         'NF000246': 1,\n",
       "         'NF000095': 5,\n",
       "         'NF000125': 2,\n",
       "         'NF012176': 1,\n",
       "         'NF033115': 2,\n",
       "         'NF000241': 2,\n",
       "         'NF000482': 1,\n",
       "         'NF033693': 1,\n",
       "         'NF000034': 1,\n",
       "         'NF033114': 2,\n",
       "         'NF012229': 1,\n",
       "         'NF000406': 2})"
      ]
     },
     "execution_count": 71,
     "metadata": {},
     "output_type": "execute_result"
    }
   ],
   "source": [
    "countAMRs"
   ]
  },
  {
   "cell_type": "code",
   "execution_count": 72,
   "metadata": {},
   "outputs": [
    {
     "data": {
      "text/plain": [
       "49"
      ]
     },
     "execution_count": 72,
     "metadata": {},
     "output_type": "execute_result"
    }
   ],
   "source": [
    "len(countAMRs)"
   ]
  },
  {
   "cell_type": "code",
   "execution_count": 73,
   "metadata": {},
   "outputs": [
    {
     "data": {
      "text/plain": [
       "689"
      ]
     },
     "execution_count": 73,
     "metadata": {},
     "output_type": "execute_result"
    }
   ],
   "source": [
    "sum(countAMRs.values())"
   ]
  },
  {
   "cell_type": "code",
   "execution_count": 74,
   "metadata": {},
   "outputs": [],
   "source": [
    "#get top quarter of AMRs\n",
    "def get_top_quarter(counter):\n",
    "    # Sort the counter items by their counts in descending order\n",
    "    sorted_items = sorted(counter.items(), key=lambda item: item[1], reverse=True)\n",
    "    \n",
    "    # Determine the index to split the items into top and bottom halves\n",
    "    split_index = len(sorted_items) // 2\n",
    "    \n",
    "    # Create a new Counter for the top half\n",
    "    top_half = sorted_items[:split_index]\n",
    "    \n",
    "    return top_half"
   ]
  },
  {
   "cell_type": "code",
   "execution_count": 75,
   "metadata": {},
   "outputs": [],
   "source": [
    "topquarterAMRs=get_top_quarter(countAMRs)"
   ]
  },
  {
   "cell_type": "code",
   "execution_count": 76,
   "metadata": {},
   "outputs": [
    {
     "data": {
      "text/plain": [
       "[('NF000496', 83),\n",
       " ('NF012174', 75),\n",
       " ('NF000272', 66),\n",
       " ('NF033135', 63),\n",
       " ('NF033105', 56),\n",
       " ('NF000402', 43),\n",
       " ('NF033117', 35),\n",
       " ('NF033087', 29),\n",
       " ('NF033476', 28),\n",
       " ('NF033068', 25),\n",
       " ('NF033145', 23),\n",
       " ('NF012178', 18),\n",
       " ('NF012147', 12),\n",
       " ('NF033088', 10),\n",
       " ('NF000025', 10),\n",
       " ('NF040806', 9),\n",
       " ('NF000493', 7),\n",
       " ('NF012171', 7),\n",
       " ('NF000088', 7),\n",
       " ('NF000005', 6),\n",
       " ('NF000052', 6),\n",
       " ('NF012212', 5),\n",
       " ('NF033134', 5),\n",
       " ('NF000027', 5)]"
      ]
     },
     "execution_count": 76,
     "metadata": {},
     "output_type": "execute_result"
    }
   ],
   "source": [
    "topquarterAMRs"
   ]
  },
  {
   "cell_type": "code",
   "execution_count": 77,
   "metadata": {},
   "outputs": [],
   "source": [
    "amrs=[amrtuple[0] for amrtuple in topquarterAMRs]\n",
    "counts=[amrtuple[1] for amrtuple in topquarterAMRs]"
   ]
  },
  {
   "cell_type": "code",
   "execution_count": 36,
   "metadata": {},
   "outputs": [],
   "source": [
    "# from external searching\n",
    "\n",
    "more_info_xticks=[\n",
    "    'multidrug efflux RND transporter periplasmic adaptor subunit OqxA',\n",
    "    'Cmx/CmrA family chloramphenicol efflux MFS transporter',\n",
    "    'Tet(A)/Tet(B)/Tet(C) family tetracycline efflux MFS transporter',\n",
    "    'fosfomycin resistance glutathione transferase',\n",
    "    'subclass B3 metallo-beta-lactamase',\n",
    "    'vancomycin resistance response regulator transcription factor VanR-B',\n",
    "    'VanR-ABDEGLN family response regulator transcription factor',\n",
    "    'APH(3\\') family aminoglycoside O-phosphotransferase',\n",
    "    'tetracycline efflux MFS transporter Tet(V)',\n",
    "    'tetracycline destructase',\n",
    "    'IMP family subclass B1 metallo-beta-lactamase',\n",
    "    'rifampin monooxygenase',\n",
    "    'subclass B2 metallo-beta-lactamase',\n",
    "    'tetracenomycin C efflux MFS transporter',\n",
    "    'OXA-198 family carbapenem-hydrolyzing class D beta-lactamase',\n",
    "    'subclass B1 metallo-beta-lactamase',\n",
    "    'FosB/FosD family fosfomycin resistance bacillithiol transferase',\n",
    "    'BLMT family bleomycin binding protein',\n",
    "    'viomycin phosphotransferase',\n",
    "    'tetracycline destructase; subclass B2 metallo-beta-lactamase',\n",
    "    'CmlA/FloR family chloramphenicol efflux MFS transporter',\n",
    "    'bleomycin binding protein',\n",
    "]"
   ]
  },
  {
   "cell_type": "code",
   "execution_count": 37,
   "metadata": {},
   "outputs": [
    {
     "data": {
      "text/plain": [
       "22"
      ]
     },
     "execution_count": 37,
     "metadata": {},
     "output_type": "execute_result"
    }
   ],
   "source": [
    "len(more_info_xticks)"
   ]
  },
  {
   "cell_type": "code",
   "execution_count": 78,
   "metadata": {},
   "outputs": [
    {
     "data": {
      "text/plain": [
       "24"
      ]
     },
     "execution_count": 78,
     "metadata": {},
     "output_type": "execute_result"
    }
   ],
   "source": [
    "len(counts)"
   ]
  },
  {
   "cell_type": "code",
   "execution_count": 66,
   "metadata": {},
   "outputs": [],
   "source": [
    "counts=np.array(counts)"
   ]
  },
  {
   "cell_type": "code",
   "execution_count": 67,
   "metadata": {},
   "outputs": [
    {
     "ename": "ValueError",
     "evalue": "shape mismatch: objects cannot be broadcast to a single shape",
     "output_type": "error",
     "traceback": [
      "\u001b[0;31m---------------------------------------------------------------------------\u001b[0m",
      "\u001b[0;31mValueError\u001b[0m                                Traceback (most recent call last)",
      "\u001b[0;32m<ipython-input-67-573ac3fc66e5>\u001b[0m in \u001b[0;36m<module>\u001b[0;34m()\u001b[0m\n\u001b[0;32m----> 1\u001b[0;31m \u001b[0mplt\u001b[0m\u001b[0;34m.\u001b[0m\u001b[0mbarh\u001b[0m\u001b[0;34m(\u001b[0m\u001b[0mwidth\u001b[0m\u001b[0;34m=\u001b[0m\u001b[0mcounts\u001b[0m\u001b[0;34m,\u001b[0m \u001b[0my\u001b[0m\u001b[0;34m=\u001b[0m\u001b[0mmore_info_xticks\u001b[0m\u001b[0;34m)\u001b[0m\u001b[0;34m\u001b[0m\u001b[0;34m\u001b[0m\u001b[0m\n\u001b[0m\u001b[1;32m      2\u001b[0m \u001b[0;31m#plt.xticks(rotation=90)\u001b[0m\u001b[0;34m\u001b[0m\u001b[0;34m\u001b[0m\u001b[0;34m\u001b[0m\u001b[0m\n\u001b[1;32m      3\u001b[0m \u001b[0;31m#plt.title('Occurrence of Top Quartile of Antimicrobial Resistance \\n Genes in Calibrated geNomad')\u001b[0m\u001b[0;34m\u001b[0m\u001b[0;34m\u001b[0m\u001b[0;34m\u001b[0m\u001b[0m\n\u001b[1;32m      4\u001b[0m \u001b[0;31m#plt.ylabel('Counts')\u001b[0m\u001b[0;34m\u001b[0m\u001b[0;34m\u001b[0m\u001b[0;34m\u001b[0m\u001b[0m\n",
      "\u001b[0;32m/home/guatney/miniconda3/envs/jupyterlab/lib/python3.7/site-packages/matplotlib/pyplot.py\u001b[0m in \u001b[0;36mbarh\u001b[0;34m(y, width, height, left, align, **kwargs)\u001b[0m\n\u001b[1;32m   2402\u001b[0m \u001b[0;32mdef\u001b[0m \u001b[0mbarh\u001b[0m\u001b[0;34m(\u001b[0m\u001b[0my\u001b[0m\u001b[0;34m,\u001b[0m \u001b[0mwidth\u001b[0m\u001b[0;34m,\u001b[0m \u001b[0mheight\u001b[0m\u001b[0;34m=\u001b[0m\u001b[0;36m0.8\u001b[0m\u001b[0;34m,\u001b[0m \u001b[0mleft\u001b[0m\u001b[0;34m=\u001b[0m\u001b[0;32mNone\u001b[0m\u001b[0;34m,\u001b[0m \u001b[0;34m*\u001b[0m\u001b[0;34m,\u001b[0m \u001b[0malign\u001b[0m\u001b[0;34m=\u001b[0m\u001b[0;34m'center'\u001b[0m\u001b[0;34m,\u001b[0m \u001b[0;34m**\u001b[0m\u001b[0mkwargs\u001b[0m\u001b[0;34m)\u001b[0m\u001b[0;34m:\u001b[0m\u001b[0;34m\u001b[0m\u001b[0;34m\u001b[0m\u001b[0m\n\u001b[1;32m   2403\u001b[0m     return gca().barh(\n\u001b[0;32m-> 2404\u001b[0;31m         y, width, height=height, left=left, align=align, **kwargs)\n\u001b[0m\u001b[1;32m   2405\u001b[0m \u001b[0;34m\u001b[0m\u001b[0m\n\u001b[1;32m   2406\u001b[0m \u001b[0;34m\u001b[0m\u001b[0m\n",
      "\u001b[0;32m/home/guatney/miniconda3/envs/jupyterlab/lib/python3.7/site-packages/matplotlib/axes/_axes.py\u001b[0m in \u001b[0;36mbarh\u001b[0;34m(self, y, width, height, left, align, **kwargs)\u001b[0m\n\u001b[1;32m   2550\u001b[0m         \u001b[0mkwargs\u001b[0m\u001b[0;34m.\u001b[0m\u001b[0msetdefault\u001b[0m\u001b[0;34m(\u001b[0m\u001b[0;34m'orientation'\u001b[0m\u001b[0;34m,\u001b[0m \u001b[0;34m'horizontal'\u001b[0m\u001b[0;34m)\u001b[0m\u001b[0;34m\u001b[0m\u001b[0;34m\u001b[0m\u001b[0m\n\u001b[1;32m   2551\u001b[0m         patches = self.bar(x=left, height=height, width=width, bottom=y,\n\u001b[0;32m-> 2552\u001b[0;31m                            align=align, **kwargs)\n\u001b[0m\u001b[1;32m   2553\u001b[0m         \u001b[0;32mreturn\u001b[0m \u001b[0mpatches\u001b[0m\u001b[0;34m\u001b[0m\u001b[0;34m\u001b[0m\u001b[0m\n\u001b[1;32m   2554\u001b[0m \u001b[0;34m\u001b[0m\u001b[0m\n",
      "\u001b[0;32m/home/guatney/miniconda3/envs/jupyterlab/lib/python3.7/site-packages/matplotlib/__init__.py\u001b[0m in \u001b[0;36minner\u001b[0;34m(ax, data, *args, **kwargs)\u001b[0m\n\u001b[1;32m   1410\u001b[0m     \u001b[0;32mdef\u001b[0m \u001b[0minner\u001b[0m\u001b[0;34m(\u001b[0m\u001b[0max\u001b[0m\u001b[0;34m,\u001b[0m \u001b[0;34m*\u001b[0m\u001b[0margs\u001b[0m\u001b[0;34m,\u001b[0m \u001b[0mdata\u001b[0m\u001b[0;34m=\u001b[0m\u001b[0;32mNone\u001b[0m\u001b[0;34m,\u001b[0m \u001b[0;34m**\u001b[0m\u001b[0mkwargs\u001b[0m\u001b[0;34m)\u001b[0m\u001b[0;34m:\u001b[0m\u001b[0;34m\u001b[0m\u001b[0;34m\u001b[0m\u001b[0m\n\u001b[1;32m   1411\u001b[0m         \u001b[0;32mif\u001b[0m \u001b[0mdata\u001b[0m \u001b[0;32mis\u001b[0m \u001b[0;32mNone\u001b[0m\u001b[0;34m:\u001b[0m\u001b[0;34m\u001b[0m\u001b[0;34m\u001b[0m\u001b[0m\n\u001b[0;32m-> 1412\u001b[0;31m             \u001b[0;32mreturn\u001b[0m \u001b[0mfunc\u001b[0m\u001b[0;34m(\u001b[0m\u001b[0max\u001b[0m\u001b[0;34m,\u001b[0m \u001b[0;34m*\u001b[0m\u001b[0mmap\u001b[0m\u001b[0;34m(\u001b[0m\u001b[0msanitize_sequence\u001b[0m\u001b[0;34m,\u001b[0m \u001b[0margs\u001b[0m\u001b[0;34m)\u001b[0m\u001b[0;34m,\u001b[0m \u001b[0;34m**\u001b[0m\u001b[0mkwargs\u001b[0m\u001b[0;34m)\u001b[0m\u001b[0;34m\u001b[0m\u001b[0;34m\u001b[0m\u001b[0m\n\u001b[0m\u001b[1;32m   1413\u001b[0m \u001b[0;34m\u001b[0m\u001b[0m\n\u001b[1;32m   1414\u001b[0m         \u001b[0mbound\u001b[0m \u001b[0;34m=\u001b[0m \u001b[0mnew_sig\u001b[0m\u001b[0;34m.\u001b[0m\u001b[0mbind\u001b[0m\u001b[0;34m(\u001b[0m\u001b[0max\u001b[0m\u001b[0;34m,\u001b[0m \u001b[0;34m*\u001b[0m\u001b[0margs\u001b[0m\u001b[0;34m,\u001b[0m \u001b[0;34m**\u001b[0m\u001b[0mkwargs\u001b[0m\u001b[0;34m)\u001b[0m\u001b[0;34m\u001b[0m\u001b[0;34m\u001b[0m\u001b[0m\n",
      "\u001b[0;32m/home/guatney/miniconda3/envs/jupyterlab/lib/python3.7/site-packages/matplotlib/axes/_axes.py\u001b[0m in \u001b[0;36mbar\u001b[0;34m(self, x, height, width, bottom, align, **kwargs)\u001b[0m\n\u001b[1;32m   2342\u001b[0m         x, height, width, y, linewidth, hatch = np.broadcast_arrays(\n\u001b[1;32m   2343\u001b[0m             \u001b[0;31m# Make args iterable too.\u001b[0m\u001b[0;34m\u001b[0m\u001b[0;34m\u001b[0m\u001b[0;34m\u001b[0m\u001b[0m\n\u001b[0;32m-> 2344\u001b[0;31m             np.atleast_1d(x), height, width, y, linewidth, hatch)\n\u001b[0m\u001b[1;32m   2345\u001b[0m \u001b[0;34m\u001b[0m\u001b[0m\n\u001b[1;32m   2346\u001b[0m         \u001b[0;31m# Now that units have been converted, set the tick locations.\u001b[0m\u001b[0;34m\u001b[0m\u001b[0;34m\u001b[0m\u001b[0;34m\u001b[0m\u001b[0m\n",
      "\u001b[0;32m<__array_function__ internals>\u001b[0m in \u001b[0;36mbroadcast_arrays\u001b[0;34m(*args, **kwargs)\u001b[0m\n",
      "\u001b[0;32m/home/guatney/miniconda3/envs/jupyterlab/lib/python3.7/site-packages/numpy/lib/stride_tricks.py\u001b[0m in \u001b[0;36mbroadcast_arrays\u001b[0;34m(subok, *args)\u001b[0m\n\u001b[1;32m    536\u001b[0m     \u001b[0margs\u001b[0m \u001b[0;34m=\u001b[0m \u001b[0;34m[\u001b[0m\u001b[0mnp\u001b[0m\u001b[0;34m.\u001b[0m\u001b[0marray\u001b[0m\u001b[0;34m(\u001b[0m\u001b[0m_m\u001b[0m\u001b[0;34m,\u001b[0m \u001b[0mcopy\u001b[0m\u001b[0;34m=\u001b[0m\u001b[0;32mFalse\u001b[0m\u001b[0;34m,\u001b[0m \u001b[0msubok\u001b[0m\u001b[0;34m=\u001b[0m\u001b[0msubok\u001b[0m\u001b[0;34m)\u001b[0m \u001b[0;32mfor\u001b[0m \u001b[0m_m\u001b[0m \u001b[0;32min\u001b[0m \u001b[0margs\u001b[0m\u001b[0;34m]\u001b[0m\u001b[0;34m\u001b[0m\u001b[0;34m\u001b[0m\u001b[0m\n\u001b[1;32m    537\u001b[0m \u001b[0;34m\u001b[0m\u001b[0m\n\u001b[0;32m--> 538\u001b[0;31m     \u001b[0mshape\u001b[0m \u001b[0;34m=\u001b[0m \u001b[0m_broadcast_shape\u001b[0m\u001b[0;34m(\u001b[0m\u001b[0;34m*\u001b[0m\u001b[0margs\u001b[0m\u001b[0;34m)\u001b[0m\u001b[0;34m\u001b[0m\u001b[0;34m\u001b[0m\u001b[0m\n\u001b[0m\u001b[1;32m    539\u001b[0m \u001b[0;34m\u001b[0m\u001b[0m\n\u001b[1;32m    540\u001b[0m     \u001b[0;32mif\u001b[0m \u001b[0mall\u001b[0m\u001b[0;34m(\u001b[0m\u001b[0marray\u001b[0m\u001b[0;34m.\u001b[0m\u001b[0mshape\u001b[0m \u001b[0;34m==\u001b[0m \u001b[0mshape\u001b[0m \u001b[0;32mfor\u001b[0m \u001b[0marray\u001b[0m \u001b[0;32min\u001b[0m \u001b[0margs\u001b[0m\u001b[0;34m)\u001b[0m\u001b[0;34m:\u001b[0m\u001b[0;34m\u001b[0m\u001b[0;34m\u001b[0m\u001b[0m\n",
      "\u001b[0;32m/home/guatney/miniconda3/envs/jupyterlab/lib/python3.7/site-packages/numpy/lib/stride_tricks.py\u001b[0m in \u001b[0;36m_broadcast_shape\u001b[0;34m(*args)\u001b[0m\n\u001b[1;32m    418\u001b[0m     \u001b[0;31m# use the old-iterator because np.nditer does not handle size 0 arrays\u001b[0m\u001b[0;34m\u001b[0m\u001b[0;34m\u001b[0m\u001b[0;34m\u001b[0m\u001b[0m\n\u001b[1;32m    419\u001b[0m     \u001b[0;31m# consistently\u001b[0m\u001b[0;34m\u001b[0m\u001b[0;34m\u001b[0m\u001b[0;34m\u001b[0m\u001b[0m\n\u001b[0;32m--> 420\u001b[0;31m     \u001b[0mb\u001b[0m \u001b[0;34m=\u001b[0m \u001b[0mnp\u001b[0m\u001b[0;34m.\u001b[0m\u001b[0mbroadcast\u001b[0m\u001b[0;34m(\u001b[0m\u001b[0;34m*\u001b[0m\u001b[0margs\u001b[0m\u001b[0;34m[\u001b[0m\u001b[0;34m:\u001b[0m\u001b[0;36m32\u001b[0m\u001b[0;34m]\u001b[0m\u001b[0;34m)\u001b[0m\u001b[0;34m\u001b[0m\u001b[0;34m\u001b[0m\u001b[0m\n\u001b[0m\u001b[1;32m    421\u001b[0m     \u001b[0;31m# unfortunately, it cannot handle 32 or more arguments directly\u001b[0m\u001b[0;34m\u001b[0m\u001b[0;34m\u001b[0m\u001b[0;34m\u001b[0m\u001b[0m\n\u001b[1;32m    422\u001b[0m     \u001b[0;32mfor\u001b[0m \u001b[0mpos\u001b[0m \u001b[0;32min\u001b[0m \u001b[0mrange\u001b[0m\u001b[0;34m(\u001b[0m\u001b[0;36m32\u001b[0m\u001b[0;34m,\u001b[0m \u001b[0mlen\u001b[0m\u001b[0;34m(\u001b[0m\u001b[0margs\u001b[0m\u001b[0;34m)\u001b[0m\u001b[0;34m,\u001b[0m \u001b[0;36m31\u001b[0m\u001b[0;34m)\u001b[0m\u001b[0;34m:\u001b[0m\u001b[0;34m\u001b[0m\u001b[0;34m\u001b[0m\u001b[0m\n",
      "\u001b[0;31mValueError\u001b[0m: shape mismatch: objects cannot be broadcast to a single shape"
     ]
    },
    {
     "data": {
      "image/png": "[encoded data removed]",
      "text/plain": [
       "<Figure size 432x288 with 1 Axes>"
      ]
     },
     "metadata": {
      "needs_background": "light"
     },
     "output_type": "display_data"
    }
   ],
   "source": [
    "plt.barh(width=counts, y=more_info_xticks)\n",
    "#plt.xticks(rotation=90)\n",
    "#plt.title('Occurrence of Top Quartile of Antimicrobial Resistance \\n Genes in Calibrated geNomad')\n",
    "#plt.ylabel('Counts')"
   ]
  },
  {
   "cell_type": "markdown",
   "metadata": {},
   "source": [
    "### Conservative geNomad"
   ]
  },
  {
   "cell_type": "code",
   "execution_count": 41,
   "metadata": {},
   "outputs": [],
   "source": [
    "conslistofAMRs, forpairs=prepares_for_pairs('conservative')"
   ]
  },
  {
   "cell_type": "code",
   "execution_count": 42,
   "metadata": {},
   "outputs": [
    {
     "data": {
      "image/png": "[encoded data removed]",
      "text/plain": [
       "<Figure size 720x720 with 20 Axes>"
      ]
     },
     "metadata": {
      "needs_background": "light"
     },
     "output_type": "display_data"
    }
   ],
   "source": [
    "consplt=sns.pairplot(forpairs)"
   ]
  },
  {
   "cell_type": "code",
   "execution_count": 43,
   "metadata": {},
   "outputs": [
    {
     "data": {
      "text/plain": [
       "SpearmanrResult(correlation=-0.22872715571539382, pvalue=0.00834097329073077)"
      ]
     },
     "execution_count": 43,
     "metadata": {},
     "output_type": "execute_result"
    }
   ],
   "source": [
    "stats.spearmanr(np.array(forpairs['WWTPAllDensWs']), np.array(forpairs['Plasmids']),nan_policy=\"omit\")"
   ]
  },
  {
   "cell_type": "code",
   "execution_count": 44,
   "metadata": {},
   "outputs": [
    {
     "data": {
      "text/plain": [
       "SpearmanrResult(correlation=-0.1523757456175594, pvalue=0.08112188232641439)"
      ]
     },
     "execution_count": 44,
     "metadata": {},
     "output_type": "execute_result"
    }
   ],
   "source": [
    "stats.spearmanr(np.array(forpairs['WWTPAllDensWs']), np.array(forpairs['AMRgenes']),nan_policy=\"omit\")"
   ]
  },
  {
   "cell_type": "code",
   "execution_count": 45,
   "metadata": {},
   "outputs": [
    {
     "data": {
      "text/plain": [
       "SpearmanrResult(correlation=-0.1805756120114144, pvalue=0.038266532832523306)"
      ]
     },
     "execution_count": 45,
     "metadata": {},
     "output_type": "execute_result"
    }
   ],
   "source": [
    "stats.spearmanr(np.array(forpairs['WWTPAllDensWs']), np.array(forpairs['Plasmid/BP']),nan_policy=\"omit\")"
   ]
  },
  {
   "cell_type": "code",
   "execution_count": 50,
   "metadata": {},
   "outputs": [],
   "source": [
    "countAMRs=Counter(calilistofAMRs)"
   ]
  },
  {
   "cell_type": "code",
   "execution_count": 51,
   "metadata": {},
   "outputs": [
    {
     "data": {
      "text/plain": [
       "49"
      ]
     },
     "execution_count": 51,
     "metadata": {},
     "output_type": "execute_result"
    }
   ],
   "source": [
    "len(countAMRs)"
   ]
  },
  {
   "cell_type": "code",
   "execution_count": 52,
   "metadata": {},
   "outputs": [
    {
     "name": "stdout",
     "output_type": "stream",
     "text": [
      "NF000496: 83\n",
      "NF012174: 75\n",
      "NF000272: 66\n",
      "NF033135: 63\n",
      "NF033105: 56\n",
      "NF000402: 43\n",
      "NF033117: 35\n",
      "NF033087: 29\n",
      "NF033476: 28\n",
      "NF033068: 25\n",
      "NF033145: 23\n",
      "NF012178: 18\n",
      "NF012147: 12\n",
      "NF033088: 10\n",
      "NF000025: 10\n",
      "NF040806: 9\n",
      "NF000493: 7\n",
      "NF012171: 7\n",
      "NF000088: 7\n",
      "NF000005: 6\n",
      "NF000052: 6\n",
      "NF012212: 5\n",
      "NF033134: 5\n",
      "NF000027: 5\n",
      "NF000095: 5\n",
      "NF033103: 4\n",
      "NF000456: 4\n",
      "NF033156: 3\n",
      "NF000138: 3\n",
      "NF033083: 3\n",
      "NF000373: 3\n",
      "NF000091: 3\n",
      "NF000469: 3\n",
      "NF033129: 3\n",
      "NF033085: 2\n",
      "NF033075: 2\n",
      "NF000125: 2\n",
      "NF033115: 2\n",
      "NF000241: 2\n",
      "NF033114: 2\n",
      "NF000406: 2\n",
      "NF033144: 1\n",
      "NF000270: 1\n",
      "NF000246: 1\n",
      "NF012176: 1\n",
      "NF000482: 1\n",
      "NF033693: 1\n",
      "NF000034: 1\n",
      "NF012229: 1\n"
     ]
    }
   ],
   "source": [
    "sortedAMRs=countAMRs.most_common()\n",
    "sortAMRcounts=[]\n",
    "for item, count in sortedAMRs:\n",
    "    sortAMRcounts.append(count)\n",
    "    print(f\"{item}: {count}\")"
   ]
  },
  {
   "cell_type": "code",
   "execution_count": 46,
   "metadata": {},
   "outputs": [],
   "source": [
    "growsupp=pd.read_csv(\"/home/guatney/plasmidome/GROW_SuppFile1_Sequencing.csv\")\n",
    "growsupp.set_index('SampleName', inplace=True)\n",
    "growsuppdict=growsupp['MetaG Size_bp'].to_dict()"
   ]
  },
  {
   "cell_type": "code",
   "execution_count": 47,
   "metadata": {},
   "outputs": [],
   "source": [
    "#get number of AMRs per sample\n",
    "plasmidsdict={}\n",
    "\n",
    "for sample in samples:\n",
    "    tempfilepath=f'/home/guatney/plasmidome/genomad_calibrated/{sample}_B_1000_plasmid_summary.tsv'\n",
    "    tempDF=pd.read_csv(tempfilepath, sep = \"\\t\")\n",
    "    numPlasmid=tempDF.shape[0]\n",
    "    plasmidPerBP=numPlasmid/growsuppdict[sample]\n",
    "    plasmidsdict[sample]=[sample, numPlasmid, plasmidPerBP]"
   ]
  },
  {
   "cell_type": "code",
   "execution_count": 48,
   "metadata": {},
   "outputs": [
    {
     "ename": "NameError",
     "evalue": "name 'amrbysample' is not defined",
     "output_type": "error",
     "traceback": [
      "\u001b[0;31m---------------------------------------------------------------------------\u001b[0m",
      "\u001b[0;31mNameError\u001b[0m                                 Traceback (most recent call last)",
      "\u001b[0;32m<ipython-input-48-ec7ddf569bfb>\u001b[0m in \u001b[0;36m<module>\u001b[0;34m()\u001b[0m\n\u001b[0;32m----> 1\u001b[0;31m \u001b[0mamrbysampledf\u001b[0m\u001b[0;34m=\u001b[0m\u001b[0mpd\u001b[0m\u001b[0;34m.\u001b[0m\u001b[0mDataFrame\u001b[0m\u001b[0;34m.\u001b[0m\u001b[0mfrom_dict\u001b[0m\u001b[0;34m(\u001b[0m\u001b[0mamrbysample\u001b[0m\u001b[0;34m,\u001b[0m \u001b[0morient\u001b[0m\u001b[0;34m=\u001b[0m\u001b[0;34m'index'\u001b[0m\u001b[0;34m,\u001b[0m \u001b[0mcolumns\u001b[0m\u001b[0;34m=\u001b[0m\u001b[0;34m[\u001b[0m\u001b[0;34m\"SampleName\"\u001b[0m\u001b[0;34m,\u001b[0m\u001b[0;34m\"AMRgenes\"\u001b[0m\u001b[0;34m]\u001b[0m\u001b[0;34m)\u001b[0m\u001b[0;34m\u001b[0m\u001b[0;34m\u001b[0m\u001b[0m\n\u001b[0m\u001b[1;32m      2\u001b[0m \u001b[0mamrbysampledf\u001b[0m\u001b[0;34m.\u001b[0m\u001b[0mhead\u001b[0m\u001b[0;34m(\u001b[0m\u001b[0;34m)\u001b[0m\u001b[0;34m\u001b[0m\u001b[0;34m\u001b[0m\u001b[0m\n",
      "\u001b[0;31mNameError\u001b[0m: name 'amrbysample' is not defined"
     ]
    }
   ],
   "source": [
    "amrbysampledf=pd.DataFrame.from_dict(amrbysample, orient='index', columns=[\"SampleName\",\"AMRgenes\"])\n",
    "amrbysampledf.head()"
   ]
  },
  {
   "cell_type": "code",
   "execution_count": 62,
   "metadata": {},
   "outputs": [],
   "source": [
    "#may consider going back to change var names here\n",
    "result=pd.merge(growGS, amrbysampledf, how= 'right')"
   ]
  },
  {
   "cell_type": "code",
   "execution_count": 63,
   "metadata": {},
   "outputs": [],
   "source": [
    "plasmidsdictdf=pd.DataFrame.from_dict(plasmidsdict, columns=[\"SampleName\", \"Plasmids\", \"Plasmid/BP\"], orient=\"index\")"
   ]
  },
  {
   "cell_type": "code",
   "execution_count": 64,
   "metadata": {},
   "outputs": [],
   "source": [
    "#amrbysampledf=pd.DataFrame.from_dict(amrbysample, orient='index', columns=[\"SampleName\",\"AMRgenes\"])\n",
    "#growGS.set_index('SampleName', inplace=True)\n",
    "#result=pd.merge(growGS, amrbysampledf)\n",
    "result2=pd.merge(result, plasmidsdictdf, how=\"outer\")"
   ]
  },
  {
   "cell_type": "code",
   "execution_count": 65,
   "metadata": {},
   "outputs": [
    {
     "data": {
      "text/plain": [
       "Index(['SampleName', 'Sample', 'Date', 'Time', 'Project_PI', 'Location',\n",
       "       'Number_of_reads', 'Size_bp', '3_Assemblies_done',\n",
       "       'Number_of_Bins_Medium_and_High_Quality',\n",
       "       ...\n",
       "       'source', 'gage_id', 'CFS', 'flow_record', 'percentile_20',\n",
       "       'percentile_80', 'flowlink', 'AMRgenes', 'Plasmids', 'Plasmid/BP'],\n",
       "      dtype='object', length=307)"
      ]
     },
     "execution_count": 65,
     "metadata": {},
     "output_type": "execute_result"
    }
   ],
   "source": [
    "result2.columns"
   ]
  },
  {
   "cell_type": "code",
   "execution_count": 66,
   "metadata": {},
   "outputs": [],
   "source": [
    "justwwtp=['WWTPAllDensWs', 'AMRgenes', 'Plasmids', 'Plasmid/BP', 'OmernikISite']\n",
    "forpairs=result2[justwwtp]"
   ]
  },
  {
   "cell_type": "code",
   "execution_count": 67,
   "metadata": {},
   "outputs": [
    {
     "data": {
      "text/plain": [
       "<seaborn.axisgrid.PairGrid at 0x7f211273af10>"
      ]
     },
     "execution_count": 67,
     "metadata": {},
     "output_type": "execute_result"
    },
    {
     "data": {
      "image/png": "[encoded data removed]",
      "text/plain": [
       "<Figure size 959x720 with 20 Axes>"
      ]
     },
     "metadata": {
      "needs_background": "light"
     },
     "output_type": "display_data"
    }
   ],
   "source": [
    "import seaborn as sns\n",
    "\n",
    "sns.pairplot(forpairs, hue='OmernikISite')"
   ]
  },
  {
   "cell_type": "code",
   "execution_count": 68,
   "metadata": {},
   "outputs": [
    {
     "data": {
      "text/plain": [
       "<seaborn.axisgrid.PairGrid at 0x7f211300a990>"
      ]
     },
     "execution_count": 68,
     "metadata": {},
     "output_type": "execute_result"
    },
    {
     "data": {
      "image/png": "[encoded data removed]",
      "text/plain": [
       "<Figure size 720x720 with 20 Axes>"
      ]
     },
     "metadata": {
      "needs_background": "light"
     },
     "output_type": "display_data"
    }
   ],
   "source": [
    "sns.pairplot(forpairs)"
   ]
  },
  {
   "cell_type": "markdown",
   "metadata": {},
   "source": [
    "### Next time we will add conservative from where I've just left off\n",
    "\n",
    "Consider making a function so that you look less like an idiot"
   ]
  },
  {
   "cell_type": "code",
   "execution_count": null,
   "metadata": {},
   "outputs": [],
   "source": [
    "amrDict"
   ]
  },
  {
   "cell_type": "code",
   "execution_count": null,
   "metadata": {},
   "outputs": [],
   "source": [
    "totalAMR"
   ]
  },
  {
   "cell_type": "code",
   "execution_count": null,
   "metadata": {},
   "outputs": [],
   "source": [
    "amrDict"
   ]
  },
  {
   "cell_type": "code",
   "execution_count": 70,
   "metadata": {},
   "outputs": [
    {
     "ename": "ValueError",
     "evalue": "All arrays must be of the same length",
     "output_type": "error",
     "traceback": [
      "\u001b[0;31m---------------------------------------------------------------------------\u001b[0m",
      "\u001b[0;31mValueError\u001b[0m                                Traceback (most recent call last)",
      "\u001b[0;32m<ipython-input-70-4eef2692be44>\u001b[0m in \u001b[0;36m<module>\u001b[0;34m()\u001b[0m\n\u001b[0;32m----> 1\u001b[0;31m \u001b[0mpd\u001b[0m\u001b[0;34m.\u001b[0m\u001b[0mconcat\u001b[0m\u001b[0;34m(\u001b[0m\u001b[0mgrowGS\u001b[0m\u001b[0;34m,\u001b[0m \u001b[0mpd\u001b[0m\u001b[0;34m.\u001b[0m\u001b[0mDataFrame\u001b[0m\u001b[0;34m(\u001b[0m\u001b[0mamrDict\u001b[0m\u001b[0;34m)\u001b[0m\u001b[0;34m)\u001b[0m\u001b[0;34m\u001b[0m\u001b[0;34m\u001b[0m\u001b[0m\n\u001b[0m",
      "\u001b[0;32m/home/guatney/miniconda3/envs/jupyterlab/lib/python3.7/site-packages/pandas/core/frame.py\u001b[0m in \u001b[0;36m__init__\u001b[0;34m(self, data, index, columns, dtype, copy)\u001b[0m\n\u001b[1;32m    612\u001b[0m         \u001b[0;32melif\u001b[0m \u001b[0misinstance\u001b[0m\u001b[0;34m(\u001b[0m\u001b[0mdata\u001b[0m\u001b[0;34m,\u001b[0m \u001b[0mdict\u001b[0m\u001b[0;34m)\u001b[0m\u001b[0;34m:\u001b[0m\u001b[0;34m\u001b[0m\u001b[0;34m\u001b[0m\u001b[0m\n\u001b[1;32m    613\u001b[0m             \u001b[0;31m# GH#38939 de facto copy defaults to False only in non-dict cases\u001b[0m\u001b[0;34m\u001b[0m\u001b[0;34m\u001b[0m\u001b[0;34m\u001b[0m\u001b[0m\n\u001b[0;32m--> 614\u001b[0;31m             \u001b[0mmgr\u001b[0m \u001b[0;34m=\u001b[0m \u001b[0mdict_to_mgr\u001b[0m\u001b[0;34m(\u001b[0m\u001b[0mdata\u001b[0m\u001b[0;34m,\u001b[0m \u001b[0mindex\u001b[0m\u001b[0;34m,\u001b[0m \u001b[0mcolumns\u001b[0m\u001b[0;34m,\u001b[0m \u001b[0mdtype\u001b[0m\u001b[0;34m=\u001b[0m\u001b[0mdtype\u001b[0m\u001b[0;34m,\u001b[0m \u001b[0mcopy\u001b[0m\u001b[0;34m=\u001b[0m\u001b[0mcopy\u001b[0m\u001b[0;34m,\u001b[0m \u001b[0mtyp\u001b[0m\u001b[0;34m=\u001b[0m\u001b[0mmanager\u001b[0m\u001b[0;34m)\u001b[0m\u001b[0;34m\u001b[0m\u001b[0;34m\u001b[0m\u001b[0m\n\u001b[0m\u001b[1;32m    615\u001b[0m         \u001b[0;32melif\u001b[0m \u001b[0misinstance\u001b[0m\u001b[0;34m(\u001b[0m\u001b[0mdata\u001b[0m\u001b[0;34m,\u001b[0m \u001b[0mma\u001b[0m\u001b[0;34m.\u001b[0m\u001b[0mMaskedArray\u001b[0m\u001b[0;34m)\u001b[0m\u001b[0;34m:\u001b[0m\u001b[0;34m\u001b[0m\u001b[0;34m\u001b[0m\u001b[0m\n\u001b[1;32m    616\u001b[0m             \u001b[0;32mimport\u001b[0m \u001b[0mnumpy\u001b[0m\u001b[0;34m.\u001b[0m\u001b[0mma\u001b[0m\u001b[0;34m.\u001b[0m\u001b[0mmrecords\u001b[0m \u001b[0;32mas\u001b[0m \u001b[0mmrecords\u001b[0m\u001b[0;34m\u001b[0m\u001b[0;34m\u001b[0m\u001b[0m\n",
      "\u001b[0;32m/home/guatney/miniconda3/envs/jupyterlab/lib/python3.7/site-packages/pandas/core/internals/construction.py\u001b[0m in \u001b[0;36mdict_to_mgr\u001b[0;34m(data, index, columns, dtype, typ, copy)\u001b[0m\n\u001b[1;32m    463\u001b[0m \u001b[0;34m\u001b[0m\u001b[0m\n\u001b[1;32m    464\u001b[0m     return arrays_to_mgr(\n\u001b[0;32m--> 465\u001b[0;31m         \u001b[0marrays\u001b[0m\u001b[0;34m,\u001b[0m \u001b[0mdata_names\u001b[0m\u001b[0;34m,\u001b[0m \u001b[0mindex\u001b[0m\u001b[0;34m,\u001b[0m \u001b[0mcolumns\u001b[0m\u001b[0;34m,\u001b[0m \u001b[0mdtype\u001b[0m\u001b[0;34m=\u001b[0m\u001b[0mdtype\u001b[0m\u001b[0;34m,\u001b[0m \u001b[0mtyp\u001b[0m\u001b[0;34m=\u001b[0m\u001b[0mtyp\u001b[0m\u001b[0;34m,\u001b[0m \u001b[0mconsolidate\u001b[0m\u001b[0;34m=\u001b[0m\u001b[0mcopy\u001b[0m\u001b[0;34m\u001b[0m\u001b[0;34m\u001b[0m\u001b[0m\n\u001b[0m\u001b[1;32m    466\u001b[0m     )\n\u001b[1;32m    467\u001b[0m \u001b[0;34m\u001b[0m\u001b[0m\n",
      "\u001b[0;32m/home/guatney/miniconda3/envs/jupyterlab/lib/python3.7/site-packages/pandas/core/internals/construction.py\u001b[0m in \u001b[0;36marrays_to_mgr\u001b[0;34m(arrays, arr_names, index, columns, dtype, verify_integrity, typ, consolidate)\u001b[0m\n\u001b[1;32m    117\u001b[0m         \u001b[0;31m# figure out the index, if necessary\u001b[0m\u001b[0;34m\u001b[0m\u001b[0;34m\u001b[0m\u001b[0;34m\u001b[0m\u001b[0m\n\u001b[1;32m    118\u001b[0m         \u001b[0;32mif\u001b[0m \u001b[0mindex\u001b[0m \u001b[0;32mis\u001b[0m \u001b[0;32mNone\u001b[0m\u001b[0;34m:\u001b[0m\u001b[0;34m\u001b[0m\u001b[0;34m\u001b[0m\u001b[0m\n\u001b[0;32m--> 119\u001b[0;31m             \u001b[0mindex\u001b[0m \u001b[0;34m=\u001b[0m \u001b[0m_extract_index\u001b[0m\u001b[0;34m(\u001b[0m\u001b[0marrays\u001b[0m\u001b[0;34m)\u001b[0m\u001b[0;34m\u001b[0m\u001b[0;34m\u001b[0m\u001b[0m\n\u001b[0m\u001b[1;32m    120\u001b[0m         \u001b[0;32melse\u001b[0m\u001b[0;34m:\u001b[0m\u001b[0;34m\u001b[0m\u001b[0;34m\u001b[0m\u001b[0m\n\u001b[1;32m    121\u001b[0m             \u001b[0mindex\u001b[0m \u001b[0;34m=\u001b[0m \u001b[0mensure_index\u001b[0m\u001b[0;34m(\u001b[0m\u001b[0mindex\u001b[0m\u001b[0;34m)\u001b[0m\u001b[0;34m\u001b[0m\u001b[0;34m\u001b[0m\u001b[0m\n",
      "\u001b[0;32m/home/guatney/miniconda3/envs/jupyterlab/lib/python3.7/site-packages/pandas/core/internals/construction.py\u001b[0m in \u001b[0;36m_extract_index\u001b[0;34m(data)\u001b[0m\n\u001b[1;32m    633\u001b[0m             \u001b[0mlengths\u001b[0m \u001b[0;34m=\u001b[0m \u001b[0mlist\u001b[0m\u001b[0;34m(\u001b[0m\u001b[0mset\u001b[0m\u001b[0;34m(\u001b[0m\u001b[0mraw_lengths\u001b[0m\u001b[0;34m)\u001b[0m\u001b[0;34m)\u001b[0m\u001b[0;34m\u001b[0m\u001b[0;34m\u001b[0m\u001b[0m\n\u001b[1;32m    634\u001b[0m             \u001b[0;32mif\u001b[0m \u001b[0mlen\u001b[0m\u001b[0;34m(\u001b[0m\u001b[0mlengths\u001b[0m\u001b[0;34m)\u001b[0m \u001b[0;34m>\u001b[0m \u001b[0;36m1\u001b[0m\u001b[0;34m:\u001b[0m\u001b[0;34m\u001b[0m\u001b[0;34m\u001b[0m\u001b[0m\n\u001b[0;32m--> 635\u001b[0;31m                 \u001b[0;32mraise\u001b[0m \u001b[0mValueError\u001b[0m\u001b[0;34m(\u001b[0m\u001b[0;34m\"All arrays must be of the same length\"\u001b[0m\u001b[0;34m)\u001b[0m\u001b[0;34m\u001b[0m\u001b[0;34m\u001b[0m\u001b[0m\n\u001b[0m\u001b[1;32m    636\u001b[0m \u001b[0;34m\u001b[0m\u001b[0m\n\u001b[1;32m    637\u001b[0m             \u001b[0;32mif\u001b[0m \u001b[0mhave_dicts\u001b[0m\u001b[0;34m:\u001b[0m\u001b[0;34m\u001b[0m\u001b[0;34m\u001b[0m\u001b[0m\n",
      "\u001b[0;31mValueError\u001b[0m: All arrays must be of the same length"
     ]
    }
   ],
   "source": [
    "pd.concat(growGS, pd.DataFrame(amrDict))"
   ]
  },
  {
   "cell_type": "code",
   "execution_count": null,
   "metadata": {},
   "outputs": [],
   "source": [
    "len(list(filtered_GROW['SampleName']))"
   ]
  },
  {
   "cell_type": "code",
   "execution_count": 68,
   "metadata": {},
   "outputs": [
    {
     "data": {
      "text/plain": [
       "['NF000496',\n",
       " 'NF033144',\n",
       " 'NF033105',\n",
       " 'NF033156',\n",
       " 'NF012147',\n",
       " 'NF000138',\n",
       " 'NF033087',\n",
       " 'NF000138',\n",
       " 'NF033135',\n",
       " 'NF033087;NF033145;NF000496',\n",
       " 'NF012174',\n",
       " 'NF033117',\n",
       " 'NF033105',\n",
       " 'NF000402',\n",
       " 'NF000272',\n",
       " 'NF000272',\n",
       " 'NF033105',\n",
       " 'NF012174;NF012174;NF033145',\n",
       " 'NF033088',\n",
       " 'NF012174',\n",
       " 'NF033068',\n",
       " 'NF033135',\n",
       " 'NF012174',\n",
       " 'NF033135',\n",
       " 'NF000272',\n",
       " 'NF033145',\n",
       " 'NF033117',\n",
       " 'NF033105',\n",
       " 'NF033135',\n",
       " 'NF012212',\n",
       " 'NF000402',\n",
       " 'NF000272',\n",
       " 'NF000272',\n",
       " 'NF012147',\n",
       " 'NF033476',\n",
       " 'NF000272',\n",
       " 'NF000272',\n",
       " 'NF000272',\n",
       " 'NF033083',\n",
       " 'NF012147',\n",
       " 'NF012174',\n",
       " 'NF000272',\n",
       " 'NF012147',\n",
       " 'NF012174',\n",
       " 'NF000402',\n",
       " 'NF033117',\n",
       " 'NF033087;NF033476',\n",
       " 'NF033083',\n",
       " 'NF000025',\n",
       " 'NF033068',\n",
       " 'NF012147',\n",
       " 'NF012174',\n",
       " 'NF033105',\n",
       " 'NF012174',\n",
       " 'NF033087;NF033476;NF000496',\n",
       " 'NF012174',\n",
       " 'NF033476;NF033088',\n",
       " 'NF033105',\n",
       " 'NF033145',\n",
       " 'NF033476;NF033087',\n",
       " 'NF033135',\n",
       " 'NF033476',\n",
       " 'NF000373',\n",
       " 'NF000496',\n",
       " 'NF000272',\n",
       " 'NF012174',\n",
       " 'NF000272',\n",
       " 'NF033068',\n",
       " 'NF033135',\n",
       " 'NF012174',\n",
       " 'NF000496',\n",
       " 'NF000272',\n",
       " 'NF033135',\n",
       " 'NF000496',\n",
       " 'NF033105;NF012178',\n",
       " 'NF000402',\n",
       " 'NF000272',\n",
       " 'NF033088',\n",
       " 'NF012178',\n",
       " 'NF033135',\n",
       " 'NF000272',\n",
       " 'NF033105',\n",
       " 'NF000496;NF033145',\n",
       " 'NF000272',\n",
       " 'NF033134',\n",
       " 'NF033105',\n",
       " 'NF000272',\n",
       " 'NF000496',\n",
       " 'NF033117',\n",
       " 'NF033105',\n",
       " 'NF000091',\n",
       " 'NF033476',\n",
       " 'NF000402',\n",
       " 'NF000272',\n",
       " 'NF033117',\n",
       " 'NF000025',\n",
       " 'NF033117',\n",
       " 'NF000402',\n",
       " 'NF000493',\n",
       " 'NF000402',\n",
       " 'NF033135',\n",
       " 'NF033105',\n",
       " 'NF012174',\n",
       " 'NF000005',\n",
       " 'NF000027',\n",
       " 'NF033117',\n",
       " 'NF033476;NF033087',\n",
       " 'NF033135',\n",
       " 'NF033105',\n",
       " 'NF000496',\n",
       " 'NF033068',\n",
       " 'NF033105',\n",
       " 'NF000493',\n",
       " 'NF000496',\n",
       " 'NF000272',\n",
       " 'NF033087',\n",
       " 'NF000272',\n",
       " 'NF033135',\n",
       " 'NF033105',\n",
       " 'NF012178',\n",
       " 'NF000027',\n",
       " 'NF000402',\n",
       " 'NF000496',\n",
       " 'NF033105',\n",
       " 'NF000373',\n",
       " 'NF033135',\n",
       " 'NF033476;NF033087',\n",
       " 'NF000272',\n",
       " 'NF033103',\n",
       " 'NF000272',\n",
       " 'NF000272',\n",
       " 'NF012212;NF000270',\n",
       " 'NF012178',\n",
       " 'NF033135',\n",
       " 'NF000402',\n",
       " 'NF033105',\n",
       " 'NF000272',\n",
       " 'NF000272',\n",
       " 'NF012174',\n",
       " 'NF033117',\n",
       " 'NF000402',\n",
       " 'NF000496',\n",
       " 'NF000272',\n",
       " 'NF000402',\n",
       " 'NF033087;NF033145;NF000496',\n",
       " 'NF040806',\n",
       " 'NF000402',\n",
       " 'NF000272',\n",
       " 'NF000402',\n",
       " 'NF000469',\n",
       " 'NF000272',\n",
       " 'NF033129',\n",
       " 'NF000402',\n",
       " 'NF033105',\n",
       " 'NF000402',\n",
       " 'NF033117;NF012178',\n",
       " 'NF033087',\n",
       " 'NF000052',\n",
       " 'NF000496',\n",
       " 'NF033135',\n",
       " 'NF033105',\n",
       " 'NF000052;NF012171',\n",
       " 'NF040806',\n",
       " 'NF000402',\n",
       " 'NF000272',\n",
       " 'NF000402;NF000272',\n",
       " 'NF000402',\n",
       " 'NF000272',\n",
       " 'NF040806',\n",
       " 'NF000272',\n",
       " 'NF000402',\n",
       " 'NF040806',\n",
       " 'NF033085',\n",
       " 'NF012174;NF000402',\n",
       " 'NF000402',\n",
       " 'NF000272',\n",
       " 'NF000272',\n",
       " 'NF033117',\n",
       " 'NF000025',\n",
       " 'NF033068',\n",
       " 'NF000402',\n",
       " 'NF033087;NF000496',\n",
       " 'NF000088',\n",
       " 'NF000005',\n",
       " 'NF000027',\n",
       " 'NF033105',\n",
       " 'NF033105',\n",
       " 'NF033105',\n",
       " 'NF033135',\n",
       " 'NF012171',\n",
       " 'NF000402',\n",
       " 'NF012212',\n",
       " 'NF033135',\n",
       " 'NF033087',\n",
       " 'NF000496',\n",
       " 'NF012174',\n",
       " 'NF000493',\n",
       " 'NF000272;NF000496;NF033087',\n",
       " 'NF000496',\n",
       " 'NF000402',\n",
       " 'NF033476',\n",
       " 'NF000272',\n",
       " 'NF033117',\n",
       " 'NF033088',\n",
       " 'NF012147',\n",
       " 'NF012174',\n",
       " 'NF000456',\n",
       " 'NF033075',\n",
       " 'NF000456',\n",
       " 'NF033068;NF033135',\n",
       " 'NF012147',\n",
       " 'NF012174;NF000493;NF012174',\n",
       " 'NF012178',\n",
       " 'NF033476',\n",
       " 'NF000025',\n",
       " 'NF033135',\n",
       " 'NF033145',\n",
       " 'NF000005',\n",
       " 'NF000246',\n",
       " 'NF000402',\n",
       " 'NF000272',\n",
       " 'NF000402',\n",
       " 'NF012174',\n",
       " 'NF000272',\n",
       " 'NF033135',\n",
       " 'NF000496',\n",
       " 'NF000456',\n",
       " 'NF033068',\n",
       " 'NF012174',\n",
       " 'NF012174',\n",
       " 'NF012174',\n",
       " 'NF033476',\n",
       " 'NF012174',\n",
       " 'NF000493',\n",
       " 'NF000025;NF012174;NF000496',\n",
       " 'NF033105;NF033135;NF000095',\n",
       " 'NF012174',\n",
       " 'NF000125',\n",
       " 'NF033117',\n",
       " 'NF012174',\n",
       " 'NF012174',\n",
       " 'NF033129',\n",
       " 'NF000272',\n",
       " 'NF000496;NF033145',\n",
       " 'NF033105',\n",
       " 'NF033117',\n",
       " 'NF033117',\n",
       " 'NF033134',\n",
       " 'NF012174;NF033105',\n",
       " 'NF033135',\n",
       " 'NF033117',\n",
       " 'NF000272',\n",
       " 'NF033087;NF033145;NF000496',\n",
       " 'NF012174',\n",
       " 'NF012176',\n",
       " 'NF033135',\n",
       " 'NF012174',\n",
       " 'NF000272',\n",
       " 'NF012174',\n",
       " 'NF000496',\n",
       " 'NF000272',\n",
       " 'NF012171',\n",
       " 'NF012178',\n",
       " 'NF012174',\n",
       " 'NF012174',\n",
       " 'NF012174',\n",
       " 'NF000005',\n",
       " 'NF012174',\n",
       " 'NF033105',\n",
       " 'NF012147',\n",
       " 'NF033135',\n",
       " 'NF000272',\n",
       " 'NF033476',\n",
       " 'NF000402',\n",
       " 'NF012174;NF033068;NF000052',\n",
       " 'NF000272',\n",
       " 'NF012174',\n",
       " 'NF000402',\n",
       " 'NF000496',\n",
       " 'NF000272',\n",
       " 'NF033117',\n",
       " 'NF033115',\n",
       " 'NF000272',\n",
       " 'NF000456',\n",
       " 'NF000402',\n",
       " 'NF033105',\n",
       " 'NF012174',\n",
       " 'NF033105',\n",
       " 'NF033085',\n",
       " 'NF000402;NF033068',\n",
       " 'NF033117',\n",
       " 'NF033135',\n",
       " 'NF000272',\n",
       " 'NF000496',\n",
       " 'NF033135',\n",
       " 'NF012171',\n",
       " 'NF000241;NF012174',\n",
       " 'NF033135',\n",
       " 'NF012174',\n",
       " 'NF040806',\n",
       " 'NF000496',\n",
       " 'NF012147',\n",
       " 'NF033117',\n",
       " 'NF000496',\n",
       " 'NF012174',\n",
       " 'NF012171',\n",
       " 'NF000496',\n",
       " 'NF000496',\n",
       " 'NF040806',\n",
       " 'NF000496',\n",
       " 'NF000496',\n",
       " 'NF012174',\n",
       " 'NF033145',\n",
       " 'NF000402',\n",
       " 'NF033117',\n",
       " 'NF000482',\n",
       " 'NF033476;NF033087',\n",
       " 'NF012178',\n",
       " 'NF000493',\n",
       " 'NF033105',\n",
       " 'NF012178',\n",
       " 'NF012178',\n",
       " 'NF012174',\n",
       " 'NF012212',\n",
       " 'NF000496',\n",
       " 'NF000095',\n",
       " 'NF033129',\n",
       " 'NF033117',\n",
       " 'NF000496',\n",
       " 'NF033134',\n",
       " 'NF033105',\n",
       " 'NF033117',\n",
       " 'NF033117',\n",
       " 'NF012174',\n",
       " 'NF033105',\n",
       " 'NF033117',\n",
       " 'NF033088',\n",
       " 'NF033088;NF033476',\n",
       " 'NF040806',\n",
       " 'NF012174',\n",
       " 'NF012174;NF033135',\n",
       " 'NF000496',\n",
       " 'NF000402',\n",
       " 'NF000496',\n",
       " 'NF000496',\n",
       " 'NF000496',\n",
       " 'NF033135',\n",
       " 'NF033105',\n",
       " 'NF000088',\n",
       " 'NF000496',\n",
       " 'NF033135',\n",
       " 'NF000402',\n",
       " 'NF033103',\n",
       " 'NF033087;NF033476;NF000496',\n",
       " 'NF033135',\n",
       " 'NF012174',\n",
       " 'NF033105',\n",
       " 'NF033087',\n",
       " 'NF000496',\n",
       " 'NF012174',\n",
       " 'NF000272',\n",
       " 'NF000496',\n",
       " 'NF033087;NF033476;NF000496',\n",
       " 'NF012174',\n",
       " 'NF012174',\n",
       " 'NF033476',\n",
       " 'NF000402',\n",
       " 'NF000272',\n",
       " 'NF033068',\n",
       " 'NF000095',\n",
       " 'NF000402',\n",
       " 'NF033476',\n",
       " 'NF000496;NF033117',\n",
       " 'NF033693',\n",
       " 'NF012174',\n",
       " 'NF033117',\n",
       " 'NF000095',\n",
       " 'NF033087;NF000496',\n",
       " 'NF033145',\n",
       " 'NF033135',\n",
       " 'NF000496',\n",
       " 'NF033105',\n",
       " 'NF012174',\n",
       " 'NF033135;NF012174;NF033068',\n",
       " 'NF000272',\n",
       " 'NF012212',\n",
       " 'NF033145',\n",
       " 'NF000496',\n",
       " 'NF000402',\n",
       " 'NF012174',\n",
       " 'NF012174',\n",
       " 'NF000088',\n",
       " 'NF033476',\n",
       " 'NF040806',\n",
       " 'NF000496',\n",
       " 'NF000272',\n",
       " 'NF000496',\n",
       " 'NF033135',\n",
       " 'NF000025',\n",
       " 'NF033105',\n",
       " 'NF033087',\n",
       " 'NF033083',\n",
       " 'NF033145',\n",
       " 'NF000496',\n",
       " 'NF000272;NF000496',\n",
       " 'NF012174;NF012174;NF033145',\n",
       " 'NF033105',\n",
       " 'NF000496',\n",
       " 'NF033117',\n",
       " 'NF000496',\n",
       " 'NF000496;NF000496',\n",
       " 'NF033105',\n",
       " 'NF012174',\n",
       " 'NF033068',\n",
       " 'NF000496',\n",
       " 'NF000034',\n",
       " 'NF033156',\n",
       " 'NF033117',\n",
       " 'NF000005',\n",
       " 'NF000496',\n",
       " 'NF000125',\n",
       " 'NF000496',\n",
       " 'NF033135',\n",
       " 'NF000493',\n",
       " 'NF012174',\n",
       " 'NF033105',\n",
       " 'NF033105',\n",
       " 'NF033068',\n",
       " 'NF033117',\n",
       " 'NF012174;NF012147;NF033476;NF000496',\n",
       " 'NF033068',\n",
       " 'NF000272',\n",
       " 'NF033068',\n",
       " 'NF000025',\n",
       " 'NF033117;NF033068',\n",
       " 'NF033114;NF033114',\n",
       " 'NF033476',\n",
       " 'NF000052',\n",
       " 'NF000241;NF000052;NF000088',\n",
       " 'NF000025',\n",
       " 'NF033068;NF012171',\n",
       " 'NF033068',\n",
       " 'NF000496',\n",
       " 'NF033117',\n",
       " 'NF000095',\n",
       " 'NF033135',\n",
       " 'NF012174',\n",
       " 'NF033105',\n",
       " 'NF000496',\n",
       " 'NF033075',\n",
       " 'NF012174',\n",
       " 'NF033135',\n",
       " 'NF033105',\n",
       " 'NF033117',\n",
       " 'NF012229',\n",
       " 'NF033087;NF033476',\n",
       " 'NF033087;NF033145;NF000496',\n",
       " 'NF033105',\n",
       " 'NF033103',\n",
       " 'NF000402',\n",
       " 'NF000027',\n",
       " 'NF033476',\n",
       " 'NF033068',\n",
       " 'NF033087',\n",
       " 'NF000272',\n",
       " 'NF000373',\n",
       " 'NF012174;NF000496;NF033087',\n",
       " 'NF000091',\n",
       " 'NF033135',\n",
       " 'NF033088',\n",
       " 'NF033135',\n",
       " 'NF000496',\n",
       " 'NF000496;NF012174',\n",
       " 'NF000272',\n",
       " 'NF033088',\n",
       " 'NF033135',\n",
       " 'NF033068',\n",
       " 'NF033105',\n",
       " 'NF033105',\n",
       " 'NF000496',\n",
       " 'NF033135',\n",
       " 'NF033068',\n",
       " 'NF033135',\n",
       " 'NF033068',\n",
       " 'NF000027',\n",
       " 'NF033117',\n",
       " 'NF033476;NF033087',\n",
       " 'NF033135',\n",
       " 'NF033476;NF033105',\n",
       " 'NF012178',\n",
       " 'NF033088',\n",
       " 'NF033105',\n",
       " 'NF012178',\n",
       " 'NF033135',\n",
       " 'NF000402',\n",
       " 'NF033156',\n",
       " 'NF033117',\n",
       " 'NF040806',\n",
       " 'NF000088',\n",
       " 'NF000496',\n",
       " 'NF033135',\n",
       " 'NF000272',\n",
       " 'NF033135',\n",
       " 'NF033105',\n",
       " 'NF033105;NF033105',\n",
       " 'NF033105',\n",
       " 'NF000088',\n",
       " 'NF000402',\n",
       " 'NF033134',\n",
       " 'NF033105',\n",
       " 'NF033476',\n",
       " 'NF033135',\n",
       " 'NF033103',\n",
       " 'NF000402',\n",
       " 'NF012178',\n",
       " 'NF000052;NF012171',\n",
       " 'NF033135',\n",
       " 'NF000496',\n",
       " 'NF033105',\n",
       " 'NF012174',\n",
       " 'NF012174',\n",
       " 'NF012174',\n",
       " 'NF012174',\n",
       " 'NF000272',\n",
       " 'NF033087',\n",
       " 'NF000496;NF000496',\n",
       " 'NF012174',\n",
       " 'NF000272',\n",
       " 'NF000496',\n",
       " 'NF033135',\n",
       " 'NF000406',\n",
       " 'NF012178',\n",
       " 'NF033145;NF000496',\n",
       " 'NF012178',\n",
       " 'NF033068',\n",
       " 'NF033135',\n",
       " 'NF000402',\n",
       " 'NF000088',\n",
       " 'NF033135',\n",
       " 'NF000469',\n",
       " 'NF012178',\n",
       " 'NF000496',\n",
       " 'NF033476',\n",
       " 'NF033145;NF000496',\n",
       " 'NF000025',\n",
       " 'NF033145',\n",
       " 'NF000402',\n",
       " 'NF033135',\n",
       " 'NF000496',\n",
       " 'NF033135',\n",
       " 'NF000272',\n",
       " 'NF000272',\n",
       " 'NF033145',\n",
       " 'NF000272',\n",
       " 'NF000496',\n",
       " 'NF012174',\n",
       " 'NF033135',\n",
       " 'NF000496;NF033145',\n",
       " 'NF012174',\n",
       " 'NF033135',\n",
       " 'NF000091',\n",
       " 'NF033134',\n",
       " 'NF012174',\n",
       " 'NF000272',\n",
       " 'NF033135',\n",
       " 'NF000005',\n",
       " 'NF033135',\n",
       " 'NF033135',\n",
       " 'NF012178',\n",
       " 'NF033145',\n",
       " 'NF033105',\n",
       " 'NF000406',\n",
       " 'NF033087',\n",
       " 'NF033088',\n",
       " 'NF033117',\n",
       " 'NF000272',\n",
       " 'NF000272',\n",
       " 'NF033135',\n",
       " 'NF033068',\n",
       " 'NF033115',\n",
       " 'NF012147;NF033145;NF000496',\n",
       " 'NF012174',\n",
       " 'NF000025',\n",
       " 'NF012178',\n",
       " 'NF000496',\n",
       " 'NF033135',\n",
       " 'NF033135',\n",
       " 'NF000496',\n",
       " 'NF033068',\n",
       " 'NF000272',\n",
       " 'NF000402',\n",
       " 'NF033135',\n",
       " 'NF000496',\n",
       " 'NF000496',\n",
       " 'NF012147',\n",
       " 'NF033105',\n",
       " 'NF033105',\n",
       " 'NF033117',\n",
       " 'NF033135',\n",
       " 'NF033105',\n",
       " 'NF033087;NF000469',\n",
       " 'NF000496',\n",
       " 'NF033105',\n",
       " 'NF033145;NF033087;NF000272',\n",
       " 'NF000496',\n",
       " 'NF033135',\n",
       " 'NF000272',\n",
       " 'NF012174',\n",
       " 'NF000138']"
      ]
     },
     "execution_count": 68,
     "metadata": {},
     "output_type": "execute_result"
    }
   ],
   "source": [
    "listofAMRs=[]\n",
    "for sample in amrDict:\n",
    "    listofAMRs.extend(amrDict[sample])\n",
    "listofAMRs"
   ]
  },
  {
   "cell_type": "code",
   "execution_count": 27,
   "metadata": {},
   "outputs": [],
   "source": [
    "from collections import Counter\n",
    "countAMRs=Counter(listofAMRs)\n",
    "#countAMRs"
   ]
  },
  {
   "cell_type": "code",
   "execution_count": 42,
   "metadata": {},
   "outputs": [
    {
     "name": "stdout",
     "output_type": "stream",
     "text": [
      "NF012174: 8\n",
      "NF000496: 8\n",
      "NF033135: 5\n",
      "NF033117: 4\n",
      "NF033145: 4\n",
      "NF033105: 3\n",
      "NF000272: 2\n",
      "NF000402: 2\n",
      "NF033068: 2\n",
      "NF033087: 1\n",
      "NF000095: 1\n",
      "NF033129: 1\n",
      "NF000241: 1\n",
      "NF033476: 1\n"
     ]
    }
   ],
   "source": [
    "sortedAMRs=countAMRs.most_common()\n",
    "sortAMRcounts=[]\n",
    "for item, count in sortedAMRs:\n",
    "    sortAMRcounts.append(count)\n",
    "    print(f\"{item}: {count}\")"
   ]
  },
  {
   "cell_type": "code",
   "execution_count": 37,
   "metadata": {},
   "outputs": [
    {
     "data": {
      "text/plain": [
       "['NF012174',\n",
       " 'NF000496',\n",
       " 'NF033135',\n",
       " 'NF033117',\n",
       " 'NF033145',\n",
       " 'NF033105',\n",
       " 'NF000272',\n",
       " 'NF000402',\n",
       " 'NF033068',\n",
       " 'NF033087',\n",
       " 'NF000095',\n",
       " 'NF033129',\n",
       " 'NF000241',\n",
       " 'NF033476']"
      ]
     },
     "execution_count": 37,
     "metadata": {},
     "output_type": "execute_result"
    }
   ],
   "source": [
    "reversesortAMRcounts=[]\n",
    "reversesortAMRvalues=[]\n",
    "for pair in sortedAMRs:\n",
    "    reversesortAMRvalues.append(pair[0])\n",
    "    reversesortAMRcounts.append(pair[1])\n",
    "reversesortAMRvalues"
   ]
  },
  {
   "cell_type": "code",
   "execution_count": null,
   "metadata": {},
   "outputs": [],
   "source": [
    "moreinformativexlabels=['Tet(A)/Tet(B)/Tet(C) family tetracycline efflux MFS transporter',\n",
    "                        'fosfomycin resistance glutathione transferase',\n",
    "                        'Cmx/CmrA family chloramphenicol efflux MFS transporter',\n",
    "                        'VanR-ABDEGLN family response regulator transcription factor',\n",
    "                        'rifampin monooxygenase',\n",
    "                        'subclass B3 metallo-beta-lactamase',\n",
    "                        'multidrug efflux RND transporter periplasmic adaptor subunit OqxA',\n",
    "                        'vancomycin resistance response regulator transcription factor VanR-B',\n",
    "                        'APH(3\\') family aminoglycoside O-phosphotransferase',\n",
    "                        'subclass B2 metallo-beta-lactamase',\n",
    "                        'oxytetracycline resistance efflux MFS transporter OtrB',\n",
    "                        'macrolide-inactivating glycosyltransferase',\n",
    "                        'Mph(E)/Mph(G) family macrolide 2\\'-phosphotransferase',\n",
    "                        'tetracycline destructase'\n",
    "                       ]"
   ]
  },
  {
   "cell_type": "code",
   "execution_count": null,
   "metadata": {},
   "outputs": [],
   "source": [
    "moreinformativexlabels.reverse()"
   ]
  },
  {
   "cell_type": "code",
   "execution_count": null,
   "metadata": {},
   "outputs": [],
   "source": [
    "import matplotlib.pyplot as plt\n",
    "\n",
    "plt.barh(moreinformativexlabels.reverse(), sortAMRcounts)\n",
    "plt.xticks(rotation=90)\n",
    "plt.title('Occurrence of All Antimicrobial Resistance Genes in Conservative geNomad')\n",
    "#plt.ylabel('Counts')"
   ]
  },
  {
   "cell_type": "code",
   "execution_count": 29,
   "metadata": {},
   "outputs": [],
   "source": [
    "'''\n",
    "moreinformativexlabels=['Mph(E)/Mph(G) family macrolide 2\\'-phosphotransferase',\n",
    "                        'Tet(A)/Tet(B)/Tet(C) family tetracycline efflux MFS transporter',\n",
    "                        'fosfomycin resistance glutathione transferase',\n",
    "                        'APH(3\\') family aminoglycoside O-phosphotransferase',\n",
    "                        'VanR-ABDEGLN family response regulator transcription factor',\n",
    "                        'multidrug efflux RND transporter periplasmic adaptor subunit OqxA',\n",
    "                        'rifampin monooxygenase',\n",
    "                        'subclass B3 metallo-beta-lactamase',\n",
    "                        'Cmx/CmrA family chloramphenicol efflux MFS transporter',\n",
    "                        'subclass B2 metallo-beta-lactamase',\n",
    "                        'vancomycin resistance response regulator transcription factor VanR-B',\n",
    "                        'oxytetracycline resistance efflux MFS transporter OtrB',\n",
    "                        'macrolide-inactivating glycosyltransferase',\n",
    "                        'tetracycline destructase'\n",
    "                       ]\n",
    "'''"
   ]
  },
  {
   "cell_type": "code",
   "execution_count": 30,
   "metadata": {},
   "outputs": [
    {
     "data": {
      "text/plain": [
       "Text(0.5, 1.0, 'Occurrence of All Antimicrobial Resistance Genes in Conservative geNomad')"
      ]
     },
     "execution_count": 30,
     "metadata": {},
     "output_type": "execute_result"
    },
    {
     "data": {
      "image/png": "[encoded data removed]",
      "text/plain": [
       "<Figure size 432x288 with 1 Axes>"
      ]
     },
     "metadata": {
      "needs_background": "light"
     },
     "output_type": "display_data"
    }
   ],
   "source": [
    "'''\n",
    "import matplotlib.pyplot as plt\n",
    "\n",
    "plt.barh(moreinformativexlabels, list(countAMRs.values()),)\n",
    "plt.xticks(rotation=90)\n",
    "plt.title('Occurrence of All Antimicrobial Resistance Genes in Conservative geNomad')\n",
    "#plt.ylabel('Counts')\n",
    "'''"
   ]
  },
  {
   "cell_type": "code",
   "execution_count": null,
   "metadata": {},
   "outputs": [],
   "source": []
  }
 ],
 "metadata": {
  "kernelspec": {
   "display_name": "Python 3",
   "language": "python",
   "name": "python3"
  },
  "language_info": {
   "codemirror_mode": {
    "name": "ipython",
    "version": 3
   },
   "file_extension": ".py",
   "mimetype": "text/x-python",
   "name": "python",
   "nbconvert_exporter": "python",
   "pygments_lexer": "ipython3",
   "version": "3.7.11"
  }
 },
 "nbformat": 4,
 "nbformat_minor": 4
}
