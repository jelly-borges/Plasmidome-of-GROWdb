{
 "cells": [
  {
   "cell_type": "markdown",
   "metadata": {},
   "source": [
    "This script is a mess >.<"
   ]
  },
  {
   "cell_type": "code",
   "execution_count": 1,
   "metadata": {},
   "outputs": [],
   "source": [
    "import pandas as pd\n",
    "import re\n",
    "import matplotlib.pyplot as plt\n",
    "import numpy as np"
   ]
  },
  {
   "cell_type": "code",
   "execution_count": 2,
   "metadata": {},
   "outputs": [],
   "source": [
    "gitpath = '/home/guatney/Plasmidome-of-GROWdb/'"
   ]
  },
  {
   "cell_type": "code",
   "execution_count": 3,
   "metadata": {},
   "outputs": [],
   "source": [
    "def findhypotheticalanno(df):\n",
    "    kegghypo=0\n",
    "    pfamhypo=0\n",
    "    #transposasekeggcounts=0\n",
    "    #transposasepfamcounts=0\n",
    "\n",
    "    for index, row in df.iterrows():\n",
    "        keggstring=str(row['kegg_hit']).lower()\n",
    "        pfamstring=str(row['pfam_hits']).lower()\n",
    "        if re.search(\"uncharacterized protein\", keggstring):\n",
    "            kegghypo += 1\n",
    "        if re.search(\".?duf\\d+.?\", pfamstring):\n",
    "            pfamhypo += 1\n",
    "        #if re.search(\".?transposase.?\", keggstring):\n",
    "        #    transposasekeggcounts += 1\n",
    "        #if re.search(\".?transposase.?\", pfamstring):\n",
    "        #    transposasepfamcounts += 1\n",
    "    return (kegghypo, pfamhypo)"
   ]
  },
  {
   "cell_type": "code",
   "execution_count": 4,
   "metadata": {},
   "outputs": [],
   "source": [
    "def findanno(df):\n",
    "    totalanno=0\n",
    "    #transposasekeggcounts=0\n",
    "    #transposasepfamcounts=0\n",
    "\n",
    "    for index, row in df.iterrows():\n",
    "        keggstring=str(row['kegg_hit']).lower()\n",
    "        pfamstring=str(row['pfam_hits']).lower()\n",
    "        if keggstring!=\"nan\" or pfamstring!=\"nan\":\n",
    "            #print(keggstring)\n",
    "            #print(pfamstring)\n",
    "            totalanno+=1\n",
    "        #if re.search(\".?transposase.?\", keggstring):\n",
    "        #    transposasekeggcounts += 1\n",
    "        #if re.search(\".?transposase.?\", pfamstring):\n",
    "        #    transposasepfamcounts += 1\n",
    "    return totalanno"
   ]
  },
  {
   "cell_type": "code",
   "execution_count": 5,
   "metadata": {},
   "outputs": [],
   "source": [
    "def appendfindannooutputtodf(listofdfs):\n",
    "    totalannos=[]\n",
    "    for df in listofdfs:\n",
    "        totalanno = findanno(df)\n",
    "        totalannos.append(totalanno)\n",
    "        #pfamlist.append(pfamval)\n",
    "    return totalannos"
   ]
  },
  {
   "cell_type": "code",
   "execution_count": 6,
   "metadata": {},
   "outputs": [],
   "source": [
    "def getnumberofgenespercontig(dfslist):\n",
    "    outlistoflists=[]\n",
    "    \n",
    "    for df in dfslist:\n",
    "        max_gene_position={}\n",
    "        for index, row in df.iterrows():\n",
    "            scaffold=row['scaffold']\n",
    "            gene_pos=row['gene_position']\n",
    "            max_gene_position[scaffold]=gene_pos\n",
    "            #if scaffold not in max_gene_position:\n",
    "            #    max_gene_position[scaffold]=gene_pos\n",
    "            #else:\n",
    "            #    max_gene_position[scaffold]=gene_pos\n",
    "        outlistoflists.append(list(max_gene_position.values()))\n",
    "    return outlistoflists"
   ]
  },
  {
   "cell_type": "code",
   "execution_count": 7,
   "metadata": {},
   "outputs": [],
   "source": [
    "def groupedbarchart(df, ylabstr, titlestr):\n",
    "\n",
    "    outputs=['Unfiltered \\nPlaton', 'Filtered \\nPlaton', 'Default \\ngeNomad', 'Calibrated \\ngeNomad', 'Conservative \\ngeNomad']\n",
    "\n",
    "    fig, ax = plt.subplots(layout='constrained')\n",
    "\n",
    "    x = np.arange(len(outputs))\n",
    "    width = 0.1  # the width of the bars\n",
    "    multiplier = 0\n",
    "\n",
    "    for attribute, measurement in df.items():\n",
    "        offset = width * multiplier\n",
    "        rects = ax.bar(x + offset, measurement, width, label=attribute)\n",
    "        #ax.bar_label(rects, padding=3)\n",
    "        multiplier += 1\n",
    "\n",
    "    # Add some text for labels, title and custom x-axis tick labels, etc.\n",
    "    ax.set_ylabel(ylabstr)\n",
    "    ax.set_title(titlestr)\n",
    "    ax.set_xticks(x + width, outputs)\n",
    "    #ax.legend(loc='upper left')\n",
    "    ax.legend(loc='upper right', ncol=2)\n",
    "    ax.set_ylim(0,0.065)"
   ]
  },
  {
   "cell_type": "code",
   "execution_count": 8,
   "metadata": {},
   "outputs": [],
   "source": [
    "def appendfindoutputtodf(listofdfs):\n",
    "    kegglist=[]\n",
    "    pfamlist=[]\n",
    "    for df in listofdfs:\n",
    "        keggval, pfamval = findhypotheticalanno(df)\n",
    "        kegglist.append(keggval)\n",
    "        pfamlist.append(pfamval)\n",
    "    return pd.DataFrame({'KEGG Hypotheticals': kegglist, 'Pfam Hypotheticals': pfamlist})"
   ]
  },
  {
   "cell_type": "code",
   "execution_count": 9,
   "metadata": {},
   "outputs": [],
   "source": [
    "def countpilustranshits(df):\n",
    "    keggcounts=0\n",
    "    pfamcounts=0\n",
    "    transposasekeggcounts=0\n",
    "    transposasepfamcounts=0\n",
    "\n",
    "    for index, row in df.iterrows():\n",
    "        keggstring=str(row['kegg_hit']).lower()\n",
    "        pfamstring=str(row['pfam_hits']).lower()\n",
    "        if re.search(\".?type iv.?\", keggstring) or re.search(\".?conjuga.?\", keggstring) or re.search(\".?virb.?\", keggstring) or re.search(\".?pilus.?\", keggstring):\n",
    "            keggcounts += 1\n",
    "        if re.search(\".?type iv.?\", pfamstring) or re.search(\".?conjuga.?\", pfamstring) or re.search(\".?virb.?\", pfamstring) or re.search(\".?pilus.?\", pfamstring):\n",
    "            pfamcounts += 1\n",
    "        if re.search(\".?transposase.?\", keggstring):\n",
    "            transposasekeggcounts += 1\n",
    "        if re.search(\".?transposase.?\", pfamstring):\n",
    "            transposasepfamcounts += 1\n",
    "    return(keggcounts, pfamcounts, transposasekeggcounts, transposasepfamcounts)"
   ]
  },
  {
   "cell_type": "code",
   "execution_count": 10,
   "metadata": {},
   "outputs": [],
   "source": [
    "def countphageribohits(df):\n",
    "    phkeggcounts=0\n",
    "    phpfamcounts=0\n",
    "    ribokeggcounts=0\n",
    "    ribopfamcounts=0\n",
    "\n",
    "    for index, row in df.iterrows():\n",
    "        keggstring=str(row['kegg_hit']).lower()\n",
    "        pfamstring=str(row['pfam_hits']).lower()\n",
    "        if re.search(\".?phage.?\", keggstring):\n",
    "            phkeggcounts += 1\n",
    "        if re.search(\".?phage.?\", pfamstring):\n",
    "            phpfamcounts += 1\n",
    "        if re.search(\".?ribosom.?\", keggstring):\n",
    "            ribokeggcounts += 1\n",
    "        if re.search(\".?ribosom.?\", pfamstring):\n",
    "            ribopfamcounts += 1\n",
    "    return(phkeggcounts, phpfamcounts, ribokeggcounts, ribopfamcounts)"
   ]
  },
  {
   "cell_type": "code",
   "execution_count": 27,
   "metadata": {},
   "outputs": [],
   "source": [
    "def executefunconplasmethods(function):\n",
    "    plasmethods=[unfilteredplaton, filteredplaton, defaultgenomad, calibratedgenomad, conservativegenomad]\n",
    "    \n",
    "    finaloutput=[]\n",
    "    for df in plasmethods:\n",
    "        output=function(df)\n",
    "        finaloutput.append(output)\n",
    "    return finaloutput"
   ]
  },
  {
   "cell_type": "code",
   "execution_count": 11,
   "metadata": {},
   "outputs": [],
   "source": [
    "teststring=\"type IV conjugal pilus\"\n",
    "teststring2=\"nope\""
   ]
  },
  {
   "cell_type": "code",
   "execution_count": 12,
   "metadata": {},
   "outputs": [
    {
     "data": {
      "text/plain": [
       "<re.Match object; span=(0, 8), match='type iv '>"
      ]
     },
     "execution_count": 12,
     "metadata": {},
     "output_type": "execute_result"
    }
   ],
   "source": [
    "re.search(pattern=\".?type iv.?\", string=teststring.lower())"
   ]
  },
  {
   "cell_type": "code",
   "execution_count": 13,
   "metadata": {},
   "outputs": [],
   "source": [
    "re.search(pattern=\".?type iv.?\", string=teststring2.lower())"
   ]
  },
  {
   "cell_type": "code",
   "execution_count": 14,
   "metadata": {},
   "outputs": [
    {
     "data": {
      "text/html": [
       "<div>\n",
       "<style scoped>\n",
       "    .dataframe tbody tr th:only-of-type {\n",
       "        vertical-align: middle;\n",
       "    }\n",
       "\n",
       "    .dataframe tbody tr th {\n",
       "        vertical-align: top;\n",
       "    }\n",
       "\n",
       "    .dataframe thead th {\n",
       "        text-align: right;\n",
       "    }\n",
       "</style>\n",
       "<table border=\"1\" class=\"dataframe\">\n",
       "  <thead>\n",
       "    <tr style=\"text-align: right;\">\n",
       "      <th></th>\n",
       "      <th>Unnamed: 0</th>\n",
       "      <th>fasta</th>\n",
       "      <th>scaffold</th>\n",
       "      <th>gene_position</th>\n",
       "      <th>start_position</th>\n",
       "      <th>end_position</th>\n",
       "      <th>strandedness</th>\n",
       "      <th>rank</th>\n",
       "      <th>ko_id</th>\n",
       "      <th>kegg_hit</th>\n",
       "      <th>...</th>\n",
       "      <th>peptidase_RBH</th>\n",
       "      <th>peptidase_bitScore</th>\n",
       "      <th>peptidase_eVal</th>\n",
       "      <th>peptidase_identity</th>\n",
       "      <th>pfam_hits</th>\n",
       "      <th>cazy_ids</th>\n",
       "      <th>cazy_hits</th>\n",
       "      <th>cazy_subfam_ec</th>\n",
       "      <th>cazy_best_hit</th>\n",
       "      <th>heme_regulatory_motif_count</th>\n",
       "    </tr>\n",
       "  </thead>\n",
       "  <tbody>\n",
       "    <tr>\n",
       "      <th>0</th>\n",
       "      <td>NASQAN2010_127_B_1000_plasmid_conservative___k...</td>\n",
       "      <td>NASQAN2010_127_B_1000_plasmid_conservative__</td>\n",
       "      <td>k121_43221</td>\n",
       "      <td>1</td>\n",
       "      <td>1</td>\n",
       "      <td>1017</td>\n",
       "      <td>-1</td>\n",
       "      <td>E</td>\n",
       "      <td>NaN</td>\n",
       "      <td>NaN</td>\n",
       "      <td>...</td>\n",
       "      <td>NaN</td>\n",
       "      <td>NaN</td>\n",
       "      <td>NaN</td>\n",
       "      <td>NaN</td>\n",
       "      <td>NaN</td>\n",
       "      <td>NaN</td>\n",
       "      <td>NaN</td>\n",
       "      <td>NaN</td>\n",
       "      <td>NaN</td>\n",
       "      <td>0</td>\n",
       "    </tr>\n",
       "    <tr>\n",
       "      <th>1</th>\n",
       "      <td>NASQAN2010_127_B_1000_plasmid_conservative___k...</td>\n",
       "      <td>NASQAN2010_127_B_1000_plasmid_conservative__</td>\n",
       "      <td>k121_606620</td>\n",
       "      <td>1</td>\n",
       "      <td>1</td>\n",
       "      <td>1086</td>\n",
       "      <td>-1</td>\n",
       "      <td>D</td>\n",
       "      <td>NaN</td>\n",
       "      <td>NaN</td>\n",
       "      <td>...</td>\n",
       "      <td>NaN</td>\n",
       "      <td>NaN</td>\n",
       "      <td>NaN</td>\n",
       "      <td>NaN</td>\n",
       "      <td>MobA/MobL family [PF03389.18]</td>\n",
       "      <td>NaN</td>\n",
       "      <td>NaN</td>\n",
       "      <td>NaN</td>\n",
       "      <td>NaN</td>\n",
       "      <td>0</td>\n",
       "    </tr>\n",
       "    <tr>\n",
       "      <th>2</th>\n",
       "      <td>NASQAN2010_127_B_1000_plasmid_conservative___k...</td>\n",
       "      <td>NASQAN2010_127_B_1000_plasmid_conservative__</td>\n",
       "      <td>k121_634694</td>\n",
       "      <td>1</td>\n",
       "      <td>2</td>\n",
       "      <td>466</td>\n",
       "      <td>1</td>\n",
       "      <td>C</td>\n",
       "      <td>K08309</td>\n",
       "      <td>soluble lytic murein transglycosylase [EC:4.2....</td>\n",
       "      <td>...</td>\n",
       "      <td>False</td>\n",
       "      <td>85.0</td>\n",
       "      <td>4.429000e-18</td>\n",
       "      <td>0.618</td>\n",
       "      <td>Transglycosylase SLT domain [PF01464.23]</td>\n",
       "      <td>GH23</td>\n",
       "      <td>GH23 lysozyme type G (EC 3.2.1.17); peptidogly...</td>\n",
       "      <td>3.2.1.17,3.2.1.17_or_4.2.2.n1,4.2.2.n1</td>\n",
       "      <td>GH23.hmm</td>\n",
       "      <td>0</td>\n",
       "    </tr>\n",
       "    <tr>\n",
       "      <th>3</th>\n",
       "      <td>NASQAN2010_127_B_1000_plasmid_conservative___k...</td>\n",
       "      <td>NASQAN2010_127_B_1000_plasmid_conservative__</td>\n",
       "      <td>k121_634694</td>\n",
       "      <td>2</td>\n",
       "      <td>475</td>\n",
       "      <td>792</td>\n",
       "      <td>1</td>\n",
       "      <td>C</td>\n",
       "      <td>K03197</td>\n",
       "      <td>type IV secretion system protein VirB2</td>\n",
       "      <td>...</td>\n",
       "      <td>NaN</td>\n",
       "      <td>NaN</td>\n",
       "      <td>NaN</td>\n",
       "      <td>NaN</td>\n",
       "      <td>TrbC/VIRB2 pilin [PF04956.16]</td>\n",
       "      <td>NaN</td>\n",
       "      <td>NaN</td>\n",
       "      <td>NaN</td>\n",
       "      <td>NaN</td>\n",
       "      <td>0</td>\n",
       "    </tr>\n",
       "    <tr>\n",
       "      <th>4</th>\n",
       "      <td>NASQAN2010_127_B_1000_plasmid_conservative___k...</td>\n",
       "      <td>NASQAN2010_127_B_1000_plasmid_conservative__</td>\n",
       "      <td>k121_634694</td>\n",
       "      <td>3</td>\n",
       "      <td>796</td>\n",
       "      <td>1080</td>\n",
       "      <td>1</td>\n",
       "      <td>C</td>\n",
       "      <td>K03198</td>\n",
       "      <td>type IV secretion system protein VirB3</td>\n",
       "      <td>...</td>\n",
       "      <td>NaN</td>\n",
       "      <td>NaN</td>\n",
       "      <td>NaN</td>\n",
       "      <td>NaN</td>\n",
       "      <td>Type IV secretory pathway, VirB3-like protein ...</td>\n",
       "      <td>NaN</td>\n",
       "      <td>NaN</td>\n",
       "      <td>NaN</td>\n",
       "      <td>NaN</td>\n",
       "      <td>0</td>\n",
       "    </tr>\n",
       "  </tbody>\n",
       "</table>\n",
       "<p>5 rows × 23 columns</p>\n",
       "</div>"
      ],
      "text/plain": [
       "                                          Unnamed: 0  \\\n",
       "0  NASQAN2010_127_B_1000_plasmid_conservative___k...   \n",
       "1  NASQAN2010_127_B_1000_plasmid_conservative___k...   \n",
       "2  NASQAN2010_127_B_1000_plasmid_conservative___k...   \n",
       "3  NASQAN2010_127_B_1000_plasmid_conservative___k...   \n",
       "4  NASQAN2010_127_B_1000_plasmid_conservative___k...   \n",
       "\n",
       "                                          fasta     scaffold  gene_position  \\\n",
       "0  NASQAN2010_127_B_1000_plasmid_conservative__   k121_43221              1   \n",
       "1  NASQAN2010_127_B_1000_plasmid_conservative__  k121_606620              1   \n",
       "2  NASQAN2010_127_B_1000_plasmid_conservative__  k121_634694              1   \n",
       "3  NASQAN2010_127_B_1000_plasmid_conservative__  k121_634694              2   \n",
       "4  NASQAN2010_127_B_1000_plasmid_conservative__  k121_634694              3   \n",
       "\n",
       "   start_position  end_position  strandedness rank   ko_id  \\\n",
       "0               1          1017            -1    E     NaN   \n",
       "1               1          1086            -1    D     NaN   \n",
       "2               2           466             1    C  K08309   \n",
       "3             475           792             1    C  K03197   \n",
       "4             796          1080             1    C  K03198   \n",
       "\n",
       "                                            kegg_hit  ... peptidase_RBH  \\\n",
       "0                                                NaN  ...           NaN   \n",
       "1                                                NaN  ...           NaN   \n",
       "2  soluble lytic murein transglycosylase [EC:4.2....  ...         False   \n",
       "3             type IV secretion system protein VirB2  ...           NaN   \n",
       "4             type IV secretion system protein VirB3  ...           NaN   \n",
       "\n",
       "  peptidase_bitScore peptidase_eVal peptidase_identity  \\\n",
       "0                NaN            NaN                NaN   \n",
       "1                NaN            NaN                NaN   \n",
       "2               85.0   4.429000e-18              0.618   \n",
       "3                NaN            NaN                NaN   \n",
       "4                NaN            NaN                NaN   \n",
       "\n",
       "                                           pfam_hits  cazy_ids  \\\n",
       "0                                                NaN       NaN   \n",
       "1                      MobA/MobL family [PF03389.18]       NaN   \n",
       "2           Transglycosylase SLT domain [PF01464.23]      GH23   \n",
       "3                      TrbC/VIRB2 pilin [PF04956.16]       NaN   \n",
       "4  Type IV secretory pathway, VirB3-like protein ...       NaN   \n",
       "\n",
       "                                           cazy_hits  \\\n",
       "0                                                NaN   \n",
       "1                                                NaN   \n",
       "2  GH23 lysozyme type G (EC 3.2.1.17); peptidogly...   \n",
       "3                                                NaN   \n",
       "4                                                NaN   \n",
       "\n",
       "                           cazy_subfam_ec cazy_best_hit  \\\n",
       "0                                     NaN           NaN   \n",
       "1                                     NaN           NaN   \n",
       "2  3.2.1.17,3.2.1.17_or_4.2.2.n1,4.2.2.n1      GH23.hmm   \n",
       "3                                     NaN           NaN   \n",
       "4                                     NaN           NaN   \n",
       "\n",
       "  heme_regulatory_motif_count  \n",
       "0                           0  \n",
       "1                           0  \n",
       "2                           0  \n",
       "3                           0  \n",
       "4                           0  \n",
       "\n",
       "[5 rows x 23 columns]"
      ]
     },
     "execution_count": 14,
     "metadata": {},
     "output_type": "execute_result"
    }
   ],
   "source": [
    "conservativegenomad=pd.read_csv(gitpath+\"DRAM_and_geNomad_annotations/conservative_annotations.tsv\", sep = \"\\t\")\n",
    "conservativegenomad.head()"
   ]
  },
  {
   "cell_type": "code",
   "execution_count": 15,
   "metadata": {},
   "outputs": [
    {
     "data": {
      "text/html": [
       "<div>\n",
       "<style scoped>\n",
       "    .dataframe tbody tr th:only-of-type {\n",
       "        vertical-align: middle;\n",
       "    }\n",
       "\n",
       "    .dataframe tbody tr th {\n",
       "        vertical-align: top;\n",
       "    }\n",
       "\n",
       "    .dataframe thead th {\n",
       "        text-align: right;\n",
       "    }\n",
       "</style>\n",
       "<table border=\"1\" class=\"dataframe\">\n",
       "  <thead>\n",
       "    <tr style=\"text-align: right;\">\n",
       "      <th></th>\n",
       "      <th>Unnamed: 0</th>\n",
       "      <th>fasta</th>\n",
       "      <th>scaffold</th>\n",
       "      <th>gene_position</th>\n",
       "      <th>start_position</th>\n",
       "      <th>end_position</th>\n",
       "      <th>strandedness</th>\n",
       "      <th>rank</th>\n",
       "      <th>ko_id</th>\n",
       "      <th>kegg_hit</th>\n",
       "      <th>...</th>\n",
       "      <th>peptidase_RBH</th>\n",
       "      <th>peptidase_identity</th>\n",
       "      <th>peptidase_bitScore</th>\n",
       "      <th>peptidase_eVal</th>\n",
       "      <th>pfam_hits</th>\n",
       "      <th>cazy_ids</th>\n",
       "      <th>cazy_hits</th>\n",
       "      <th>cazy_subfam_ec</th>\n",
       "      <th>cazy_best_hit</th>\n",
       "      <th>heme_regulatory_motif_count</th>\n",
       "    </tr>\n",
       "  </thead>\n",
       "  <tbody>\n",
       "    <tr>\n",
       "      <th>0</th>\n",
       "      <td>NASQAN2010_127_B_1000.plasmid___k121_108115_1</td>\n",
       "      <td>NASQAN2010_127_B_1000.plasmid__</td>\n",
       "      <td>k121_108115</td>\n",
       "      <td>1</td>\n",
       "      <td>128</td>\n",
       "      <td>1477</td>\n",
       "      <td>1</td>\n",
       "      <td>E</td>\n",
       "      <td>NaN</td>\n",
       "      <td>NaN</td>\n",
       "      <td>...</td>\n",
       "      <td>NaN</td>\n",
       "      <td>NaN</td>\n",
       "      <td>NaN</td>\n",
       "      <td>NaN</td>\n",
       "      <td>NaN</td>\n",
       "      <td>NaN</td>\n",
       "      <td>NaN</td>\n",
       "      <td>NaN</td>\n",
       "      <td>NaN</td>\n",
       "      <td>0</td>\n",
       "    </tr>\n",
       "    <tr>\n",
       "      <th>1</th>\n",
       "      <td>NASQAN2010_127_B_1000.plasmid___k121_108115_2</td>\n",
       "      <td>NASQAN2010_127_B_1000.plasmid__</td>\n",
       "      <td>k121_108115</td>\n",
       "      <td>2</td>\n",
       "      <td>1637</td>\n",
       "      <td>5449</td>\n",
       "      <td>1</td>\n",
       "      <td>D</td>\n",
       "      <td>NaN</td>\n",
       "      <td>NaN</td>\n",
       "      <td>...</td>\n",
       "      <td>NaN</td>\n",
       "      <td>NaN</td>\n",
       "      <td>NaN</td>\n",
       "      <td>NaN</td>\n",
       "      <td>Reverse transcriptase (RNA-dependent DNA polym...</td>\n",
       "      <td>NaN</td>\n",
       "      <td>NaN</td>\n",
       "      <td>NaN</td>\n",
       "      <td>NaN</td>\n",
       "      <td>0</td>\n",
       "    </tr>\n",
       "    <tr>\n",
       "      <th>2</th>\n",
       "      <td>NASQAN2010_127_B_1000.plasmid___k121_108115_3</td>\n",
       "      <td>NASQAN2010_127_B_1000.plasmid__</td>\n",
       "      <td>k121_108115</td>\n",
       "      <td>3</td>\n",
       "      <td>5553</td>\n",
       "      <td>5747</td>\n",
       "      <td>-1</td>\n",
       "      <td>E</td>\n",
       "      <td>NaN</td>\n",
       "      <td>NaN</td>\n",
       "      <td>...</td>\n",
       "      <td>NaN</td>\n",
       "      <td>NaN</td>\n",
       "      <td>NaN</td>\n",
       "      <td>NaN</td>\n",
       "      <td>NaN</td>\n",
       "      <td>NaN</td>\n",
       "      <td>NaN</td>\n",
       "      <td>NaN</td>\n",
       "      <td>NaN</td>\n",
       "      <td>0</td>\n",
       "    </tr>\n",
       "    <tr>\n",
       "      <th>3</th>\n",
       "      <td>NASQAN2010_127_B_1000.plasmid___k121_180373_1</td>\n",
       "      <td>NASQAN2010_127_B_1000.plasmid__</td>\n",
       "      <td>k121_180373</td>\n",
       "      <td>1</td>\n",
       "      <td>2</td>\n",
       "      <td>2800</td>\n",
       "      <td>1</td>\n",
       "      <td>D</td>\n",
       "      <td>NaN</td>\n",
       "      <td>NaN</td>\n",
       "      <td>...</td>\n",
       "      <td>NaN</td>\n",
       "      <td>NaN</td>\n",
       "      <td>NaN</td>\n",
       "      <td>NaN</td>\n",
       "      <td>Reverse transcriptase (RNA-dependent DNA polym...</td>\n",
       "      <td>NaN</td>\n",
       "      <td>NaN</td>\n",
       "      <td>NaN</td>\n",
       "      <td>NaN</td>\n",
       "      <td>0</td>\n",
       "    </tr>\n",
       "    <tr>\n",
       "      <th>4</th>\n",
       "      <td>NASQAN2010_127_B_1000.plasmid___k121_180373_2</td>\n",
       "      <td>NASQAN2010_127_B_1000.plasmid__</td>\n",
       "      <td>k121_180373</td>\n",
       "      <td>2</td>\n",
       "      <td>3124</td>\n",
       "      <td>6504</td>\n",
       "      <td>1</td>\n",
       "      <td>E</td>\n",
       "      <td>NaN</td>\n",
       "      <td>NaN</td>\n",
       "      <td>...</td>\n",
       "      <td>NaN</td>\n",
       "      <td>NaN</td>\n",
       "      <td>NaN</td>\n",
       "      <td>NaN</td>\n",
       "      <td>NaN</td>\n",
       "      <td>NaN</td>\n",
       "      <td>NaN</td>\n",
       "      <td>NaN</td>\n",
       "      <td>NaN</td>\n",
       "      <td>0</td>\n",
       "    </tr>\n",
       "  </tbody>\n",
       "</table>\n",
       "<p>5 rows × 23 columns</p>\n",
       "</div>"
      ],
      "text/plain": [
       "                                      Unnamed: 0  \\\n",
       "0  NASQAN2010_127_B_1000.plasmid___k121_108115_1   \n",
       "1  NASQAN2010_127_B_1000.plasmid___k121_108115_2   \n",
       "2  NASQAN2010_127_B_1000.plasmid___k121_108115_3   \n",
       "3  NASQAN2010_127_B_1000.plasmid___k121_180373_1   \n",
       "4  NASQAN2010_127_B_1000.plasmid___k121_180373_2   \n",
       "\n",
       "                             fasta     scaffold  gene_position  \\\n",
       "0  NASQAN2010_127_B_1000.plasmid__  k121_108115              1   \n",
       "1  NASQAN2010_127_B_1000.plasmid__  k121_108115              2   \n",
       "2  NASQAN2010_127_B_1000.plasmid__  k121_108115              3   \n",
       "3  NASQAN2010_127_B_1000.plasmid__  k121_180373              1   \n",
       "4  NASQAN2010_127_B_1000.plasmid__  k121_180373              2   \n",
       "\n",
       "   start_position  end_position  strandedness rank ko_id kegg_hit  ...  \\\n",
       "0             128          1477             1    E   NaN      NaN  ...   \n",
       "1            1637          5449             1    D   NaN      NaN  ...   \n",
       "2            5553          5747            -1    E   NaN      NaN  ...   \n",
       "3               2          2800             1    D   NaN      NaN  ...   \n",
       "4            3124          6504             1    E   NaN      NaN  ...   \n",
       "\n",
       "  peptidase_RBH peptidase_identity peptidase_bitScore peptidase_eVal  \\\n",
       "0           NaN                NaN                NaN            NaN   \n",
       "1           NaN                NaN                NaN            NaN   \n",
       "2           NaN                NaN                NaN            NaN   \n",
       "3           NaN                NaN                NaN            NaN   \n",
       "4           NaN                NaN                NaN            NaN   \n",
       "\n",
       "                                           pfam_hits  cazy_ids  cazy_hits  \\\n",
       "0                                                NaN       NaN        NaN   \n",
       "1  Reverse transcriptase (RNA-dependent DNA polym...       NaN        NaN   \n",
       "2                                                NaN       NaN        NaN   \n",
       "3  Reverse transcriptase (RNA-dependent DNA polym...       NaN        NaN   \n",
       "4                                                NaN       NaN        NaN   \n",
       "\n",
       "  cazy_subfam_ec cazy_best_hit heme_regulatory_motif_count  \n",
       "0            NaN           NaN                           0  \n",
       "1            NaN           NaN                           0  \n",
       "2            NaN           NaN                           0  \n",
       "3            NaN           NaN                           0  \n",
       "4            NaN           NaN                           0  \n",
       "\n",
       "[5 rows x 23 columns]"
      ]
     },
     "execution_count": 15,
     "metadata": {},
     "output_type": "execute_result"
    }
   ],
   "source": [
    "unfilteredplaton=pd.read_csv(gitpath+\"DRAM_and_geNomad_annotations/GROWunfilteredplatonannotations.tsv\", sep = \"\\t\")\n",
    "unfilteredplaton.head()"
   ]
  },
  {
   "cell_type": "code",
   "execution_count": 16,
   "metadata": {},
   "outputs": [
    {
     "data": {
      "text/html": [
       "<div>\n",
       "<style scoped>\n",
       "    .dataframe tbody tr th:only-of-type {\n",
       "        vertical-align: middle;\n",
       "    }\n",
       "\n",
       "    .dataframe tbody tr th {\n",
       "        vertical-align: top;\n",
       "    }\n",
       "\n",
       "    .dataframe thead th {\n",
       "        text-align: right;\n",
       "    }\n",
       "</style>\n",
       "<table border=\"1\" class=\"dataframe\">\n",
       "  <thead>\n",
       "    <tr style=\"text-align: right;\">\n",
       "      <th></th>\n",
       "      <th>Unnamed: 0</th>\n",
       "      <th>fasta</th>\n",
       "      <th>scaffold</th>\n",
       "      <th>gene_position</th>\n",
       "      <th>start_position</th>\n",
       "      <th>end_position</th>\n",
       "      <th>strandedness</th>\n",
       "      <th>rank</th>\n",
       "      <th>ko_id</th>\n",
       "      <th>kegg_hit</th>\n",
       "      <th>...</th>\n",
       "      <th>peptidase_RBH</th>\n",
       "      <th>peptidase_identity</th>\n",
       "      <th>peptidase_bitScore</th>\n",
       "      <th>peptidase_eVal</th>\n",
       "      <th>pfam_hits</th>\n",
       "      <th>cazy_ids</th>\n",
       "      <th>cazy_hits</th>\n",
       "      <th>cazy_subfam_ec</th>\n",
       "      <th>cazy_best_hit</th>\n",
       "      <th>heme_regulatory_motif_count</th>\n",
       "    </tr>\n",
       "  </thead>\n",
       "  <tbody>\n",
       "    <tr>\n",
       "      <th>0</th>\n",
       "      <td>NASQAN2010_121_B_1000_plasmid___k121_111206_1</td>\n",
       "      <td>NASQAN2010_121_B_1000_plasmid__</td>\n",
       "      <td>k121_111206</td>\n",
       "      <td>1</td>\n",
       "      <td>1</td>\n",
       "      <td>522</td>\n",
       "      <td>1</td>\n",
       "      <td>D</td>\n",
       "      <td>NaN</td>\n",
       "      <td>NaN</td>\n",
       "      <td>...</td>\n",
       "      <td>NaN</td>\n",
       "      <td>NaN</td>\n",
       "      <td>NaN</td>\n",
       "      <td>NaN</td>\n",
       "      <td>Binding-protein-dependent transport system inn...</td>\n",
       "      <td>NaN</td>\n",
       "      <td>NaN</td>\n",
       "      <td>NaN</td>\n",
       "      <td>NaN</td>\n",
       "      <td>0</td>\n",
       "    </tr>\n",
       "    <tr>\n",
       "      <th>1</th>\n",
       "      <td>NASQAN2010_121_B_1000_plasmid___k121_111206_2</td>\n",
       "      <td>NASQAN2010_121_B_1000_plasmid__</td>\n",
       "      <td>k121_111206</td>\n",
       "      <td>2</td>\n",
       "      <td>519</td>\n",
       "      <td>1400</td>\n",
       "      <td>1</td>\n",
       "      <td>C</td>\n",
       "      <td>K17317</td>\n",
       "      <td>glucose/mannose transport system permease protein</td>\n",
       "      <td>...</td>\n",
       "      <td>NaN</td>\n",
       "      <td>NaN</td>\n",
       "      <td>NaN</td>\n",
       "      <td>NaN</td>\n",
       "      <td>Binding-protein-dependent transport system inn...</td>\n",
       "      <td>NaN</td>\n",
       "      <td>NaN</td>\n",
       "      <td>NaN</td>\n",
       "      <td>NaN</td>\n",
       "      <td>0</td>\n",
       "    </tr>\n",
       "    <tr>\n",
       "      <th>2</th>\n",
       "      <td>NASQAN2010_121_B_1000_plasmid___k121_111206_3</td>\n",
       "      <td>NASQAN2010_121_B_1000_plasmid__</td>\n",
       "      <td>k121_111206</td>\n",
       "      <td>3</td>\n",
       "      <td>1404</td>\n",
       "      <td>2516</td>\n",
       "      <td>1</td>\n",
       "      <td>C</td>\n",
       "      <td>K10112</td>\n",
       "      <td>multiple sugar transport system ATP-binding pr...</td>\n",
       "      <td>...</td>\n",
       "      <td>NaN</td>\n",
       "      <td>NaN</td>\n",
       "      <td>NaN</td>\n",
       "      <td>NaN</td>\n",
       "      <td>ABC transporter [PF00005.30]; MalK OB fold dom...</td>\n",
       "      <td>NaN</td>\n",
       "      <td>NaN</td>\n",
       "      <td>NaN</td>\n",
       "      <td>NaN</td>\n",
       "      <td>0</td>\n",
       "    </tr>\n",
       "    <tr>\n",
       "      <th>3</th>\n",
       "      <td>NASQAN2010_121_B_1000_plasmid___k121_111206_4</td>\n",
       "      <td>NASQAN2010_121_B_1000_plasmid__</td>\n",
       "      <td>k121_111206</td>\n",
       "      <td>4</td>\n",
       "      <td>2513</td>\n",
       "      <td>3157</td>\n",
       "      <td>1</td>\n",
       "      <td>D</td>\n",
       "      <td>NaN</td>\n",
       "      <td>NaN</td>\n",
       "      <td>...</td>\n",
       "      <td>NaN</td>\n",
       "      <td>NaN</td>\n",
       "      <td>NaN</td>\n",
       "      <td>NaN</td>\n",
       "      <td>GMC oxidoreductase [PF00732.22]; FAD binding d...</td>\n",
       "      <td>NaN</td>\n",
       "      <td>NaN</td>\n",
       "      <td>NaN</td>\n",
       "      <td>NaN</td>\n",
       "      <td>0</td>\n",
       "    </tr>\n",
       "    <tr>\n",
       "      <th>4</th>\n",
       "      <td>NASQAN2010_121_B_1000_plasmid___k121_113216_1</td>\n",
       "      <td>NASQAN2010_121_B_1000_plasmid__</td>\n",
       "      <td>k121_113216</td>\n",
       "      <td>1</td>\n",
       "      <td>2</td>\n",
       "      <td>448</td>\n",
       "      <td>-1</td>\n",
       "      <td>D</td>\n",
       "      <td>NaN</td>\n",
       "      <td>NaN</td>\n",
       "      <td>...</td>\n",
       "      <td>NaN</td>\n",
       "      <td>NaN</td>\n",
       "      <td>NaN</td>\n",
       "      <td>NaN</td>\n",
       "      <td>Chromate resistance exported protein [PF09828....</td>\n",
       "      <td>NaN</td>\n",
       "      <td>NaN</td>\n",
       "      <td>NaN</td>\n",
       "      <td>NaN</td>\n",
       "      <td>0</td>\n",
       "    </tr>\n",
       "  </tbody>\n",
       "</table>\n",
       "<p>5 rows × 23 columns</p>\n",
       "</div>"
      ],
      "text/plain": [
       "                                      Unnamed: 0  \\\n",
       "0  NASQAN2010_121_B_1000_plasmid___k121_111206_1   \n",
       "1  NASQAN2010_121_B_1000_plasmid___k121_111206_2   \n",
       "2  NASQAN2010_121_B_1000_plasmid___k121_111206_3   \n",
       "3  NASQAN2010_121_B_1000_plasmid___k121_111206_4   \n",
       "4  NASQAN2010_121_B_1000_plasmid___k121_113216_1   \n",
       "\n",
       "                             fasta     scaffold  gene_position  \\\n",
       "0  NASQAN2010_121_B_1000_plasmid__  k121_111206              1   \n",
       "1  NASQAN2010_121_B_1000_plasmid__  k121_111206              2   \n",
       "2  NASQAN2010_121_B_1000_plasmid__  k121_111206              3   \n",
       "3  NASQAN2010_121_B_1000_plasmid__  k121_111206              4   \n",
       "4  NASQAN2010_121_B_1000_plasmid__  k121_113216              1   \n",
       "\n",
       "   start_position  end_position  strandedness rank   ko_id  \\\n",
       "0               1           522             1    D     NaN   \n",
       "1             519          1400             1    C  K17317   \n",
       "2            1404          2516             1    C  K10112   \n",
       "3            2513          3157             1    D     NaN   \n",
       "4               2           448            -1    D     NaN   \n",
       "\n",
       "                                            kegg_hit  ... peptidase_RBH  \\\n",
       "0                                                NaN  ...           NaN   \n",
       "1  glucose/mannose transport system permease protein  ...           NaN   \n",
       "2  multiple sugar transport system ATP-binding pr...  ...           NaN   \n",
       "3                                                NaN  ...           NaN   \n",
       "4                                                NaN  ...           NaN   \n",
       "\n",
       "  peptidase_identity peptidase_bitScore peptidase_eVal  \\\n",
       "0                NaN                NaN            NaN   \n",
       "1                NaN                NaN            NaN   \n",
       "2                NaN                NaN            NaN   \n",
       "3                NaN                NaN            NaN   \n",
       "4                NaN                NaN            NaN   \n",
       "\n",
       "                                           pfam_hits  cazy_ids  cazy_hits  \\\n",
       "0  Binding-protein-dependent transport system inn...       NaN        NaN   \n",
       "1  Binding-protein-dependent transport system inn...       NaN        NaN   \n",
       "2  ABC transporter [PF00005.30]; MalK OB fold dom...       NaN        NaN   \n",
       "3  GMC oxidoreductase [PF00732.22]; FAD binding d...       NaN        NaN   \n",
       "4  Chromate resistance exported protein [PF09828....       NaN        NaN   \n",
       "\n",
       "  cazy_subfam_ec cazy_best_hit heme_regulatory_motif_count  \n",
       "0            NaN           NaN                           0  \n",
       "1            NaN           NaN                           0  \n",
       "2            NaN           NaN                           0  \n",
       "3            NaN           NaN                           0  \n",
       "4            NaN           NaN                           0  \n",
       "\n",
       "[5 rows x 23 columns]"
      ]
     },
     "execution_count": 16,
     "metadata": {},
     "output_type": "execute_result"
    }
   ],
   "source": [
    "defaultgenomad=pd.read_csv(gitpath+\"DRAM_and_geNomad_annotations/genomad_annotations.tsv\", sep=\"\\t\")\n",
    "defaultgenomad.head()"
   ]
  },
  {
   "cell_type": "code",
   "execution_count": 17,
   "metadata": {},
   "outputs": [
    {
     "data": {
      "text/html": [
       "<div>\n",
       "<style scoped>\n",
       "    .dataframe tbody tr th:only-of-type {\n",
       "        vertical-align: middle;\n",
       "    }\n",
       "\n",
       "    .dataframe tbody tr th {\n",
       "        vertical-align: top;\n",
       "    }\n",
       "\n",
       "    .dataframe thead th {\n",
       "        text-align: right;\n",
       "    }\n",
       "</style>\n",
       "<table border=\"1\" class=\"dataframe\">\n",
       "  <thead>\n",
       "    <tr style=\"text-align: right;\">\n",
       "      <th></th>\n",
       "      <th>Unnamed: 0</th>\n",
       "      <th>fasta</th>\n",
       "      <th>scaffold</th>\n",
       "      <th>gene_position</th>\n",
       "      <th>start_position</th>\n",
       "      <th>end_position</th>\n",
       "      <th>strandedness</th>\n",
       "      <th>rank</th>\n",
       "      <th>ko_id</th>\n",
       "      <th>kegg_hit</th>\n",
       "      <th>...</th>\n",
       "      <th>peptidase_RBH</th>\n",
       "      <th>peptidase_identity</th>\n",
       "      <th>peptidase_bitScore</th>\n",
       "      <th>peptidase_eVal</th>\n",
       "      <th>pfam_hits</th>\n",
       "      <th>heme_regulatory_motif_count</th>\n",
       "      <th>cazy_ids</th>\n",
       "      <th>cazy_hits</th>\n",
       "      <th>cazy_subfam_ec</th>\n",
       "      <th>cazy_best_hit</th>\n",
       "    </tr>\n",
       "  </thead>\n",
       "  <tbody>\n",
       "    <tr>\n",
       "      <th>0</th>\n",
       "      <td>NASQAN2010_121_B_1000_plasmid_calibrated___k12...</td>\n",
       "      <td>NASQAN2010_121_B_1000_plasmid_calibrated__</td>\n",
       "      <td>k121_111206</td>\n",
       "      <td>1</td>\n",
       "      <td>1</td>\n",
       "      <td>522</td>\n",
       "      <td>1</td>\n",
       "      <td>D</td>\n",
       "      <td>NaN</td>\n",
       "      <td>NaN</td>\n",
       "      <td>...</td>\n",
       "      <td>NaN</td>\n",
       "      <td>NaN</td>\n",
       "      <td>NaN</td>\n",
       "      <td>NaN</td>\n",
       "      <td>Binding-protein-dependent transport system inn...</td>\n",
       "      <td>0</td>\n",
       "      <td>NaN</td>\n",
       "      <td>NaN</td>\n",
       "      <td>NaN</td>\n",
       "      <td>NaN</td>\n",
       "    </tr>\n",
       "    <tr>\n",
       "      <th>1</th>\n",
       "      <td>NASQAN2010_121_B_1000_plasmid_calibrated___k12...</td>\n",
       "      <td>NASQAN2010_121_B_1000_plasmid_calibrated__</td>\n",
       "      <td>k121_111206</td>\n",
       "      <td>2</td>\n",
       "      <td>519</td>\n",
       "      <td>1400</td>\n",
       "      <td>1</td>\n",
       "      <td>C</td>\n",
       "      <td>K17317</td>\n",
       "      <td>glucose/mannose transport system permease protein</td>\n",
       "      <td>...</td>\n",
       "      <td>NaN</td>\n",
       "      <td>NaN</td>\n",
       "      <td>NaN</td>\n",
       "      <td>NaN</td>\n",
       "      <td>Binding-protein-dependent transport system inn...</td>\n",
       "      <td>0</td>\n",
       "      <td>NaN</td>\n",
       "      <td>NaN</td>\n",
       "      <td>NaN</td>\n",
       "      <td>NaN</td>\n",
       "    </tr>\n",
       "    <tr>\n",
       "      <th>2</th>\n",
       "      <td>NASQAN2010_121_B_1000_plasmid_calibrated___k12...</td>\n",
       "      <td>NASQAN2010_121_B_1000_plasmid_calibrated__</td>\n",
       "      <td>k121_111206</td>\n",
       "      <td>3</td>\n",
       "      <td>1404</td>\n",
       "      <td>2516</td>\n",
       "      <td>1</td>\n",
       "      <td>C</td>\n",
       "      <td>K10112</td>\n",
       "      <td>multiple sugar transport system ATP-binding pr...</td>\n",
       "      <td>...</td>\n",
       "      <td>NaN</td>\n",
       "      <td>NaN</td>\n",
       "      <td>NaN</td>\n",
       "      <td>NaN</td>\n",
       "      <td>ABC transporter [PF00005.30]; MalK OB fold dom...</td>\n",
       "      <td>0</td>\n",
       "      <td>NaN</td>\n",
       "      <td>NaN</td>\n",
       "      <td>NaN</td>\n",
       "      <td>NaN</td>\n",
       "    </tr>\n",
       "    <tr>\n",
       "      <th>3</th>\n",
       "      <td>NASQAN2010_121_B_1000_plasmid_calibrated___k12...</td>\n",
       "      <td>NASQAN2010_121_B_1000_plasmid_calibrated__</td>\n",
       "      <td>k121_111206</td>\n",
       "      <td>4</td>\n",
       "      <td>2513</td>\n",
       "      <td>3157</td>\n",
       "      <td>1</td>\n",
       "      <td>D</td>\n",
       "      <td>NaN</td>\n",
       "      <td>NaN</td>\n",
       "      <td>...</td>\n",
       "      <td>NaN</td>\n",
       "      <td>NaN</td>\n",
       "      <td>NaN</td>\n",
       "      <td>NaN</td>\n",
       "      <td>GMC oxidoreductase [PF00732.22]; FAD binding d...</td>\n",
       "      <td>0</td>\n",
       "      <td>NaN</td>\n",
       "      <td>NaN</td>\n",
       "      <td>NaN</td>\n",
       "      <td>NaN</td>\n",
       "    </tr>\n",
       "    <tr>\n",
       "      <th>4</th>\n",
       "      <td>NASQAN2010_121_B_1000_plasmid_calibrated___k12...</td>\n",
       "      <td>NASQAN2010_121_B_1000_plasmid_calibrated__</td>\n",
       "      <td>k121_126471</td>\n",
       "      <td>1</td>\n",
       "      <td>1</td>\n",
       "      <td>393</td>\n",
       "      <td>-1</td>\n",
       "      <td>E</td>\n",
       "      <td>NaN</td>\n",
       "      <td>NaN</td>\n",
       "      <td>...</td>\n",
       "      <td>NaN</td>\n",
       "      <td>NaN</td>\n",
       "      <td>NaN</td>\n",
       "      <td>NaN</td>\n",
       "      <td>NaN</td>\n",
       "      <td>0</td>\n",
       "      <td>NaN</td>\n",
       "      <td>NaN</td>\n",
       "      <td>NaN</td>\n",
       "      <td>NaN</td>\n",
       "    </tr>\n",
       "  </tbody>\n",
       "</table>\n",
       "<p>5 rows × 23 columns</p>\n",
       "</div>"
      ],
      "text/plain": [
       "                                          Unnamed: 0  \\\n",
       "0  NASQAN2010_121_B_1000_plasmid_calibrated___k12...   \n",
       "1  NASQAN2010_121_B_1000_plasmid_calibrated___k12...   \n",
       "2  NASQAN2010_121_B_1000_plasmid_calibrated___k12...   \n",
       "3  NASQAN2010_121_B_1000_plasmid_calibrated___k12...   \n",
       "4  NASQAN2010_121_B_1000_plasmid_calibrated___k12...   \n",
       "\n",
       "                                        fasta     scaffold  gene_position  \\\n",
       "0  NASQAN2010_121_B_1000_plasmid_calibrated__  k121_111206              1   \n",
       "1  NASQAN2010_121_B_1000_plasmid_calibrated__  k121_111206              2   \n",
       "2  NASQAN2010_121_B_1000_plasmid_calibrated__  k121_111206              3   \n",
       "3  NASQAN2010_121_B_1000_plasmid_calibrated__  k121_111206              4   \n",
       "4  NASQAN2010_121_B_1000_plasmid_calibrated__  k121_126471              1   \n",
       "\n",
       "   start_position  end_position  strandedness rank   ko_id  \\\n",
       "0               1           522             1    D     NaN   \n",
       "1             519          1400             1    C  K17317   \n",
       "2            1404          2516             1    C  K10112   \n",
       "3            2513          3157             1    D     NaN   \n",
       "4               1           393            -1    E     NaN   \n",
       "\n",
       "                                            kegg_hit  ... peptidase_RBH  \\\n",
       "0                                                NaN  ...           NaN   \n",
       "1  glucose/mannose transport system permease protein  ...           NaN   \n",
       "2  multiple sugar transport system ATP-binding pr...  ...           NaN   \n",
       "3                                                NaN  ...           NaN   \n",
       "4                                                NaN  ...           NaN   \n",
       "\n",
       "  peptidase_identity peptidase_bitScore peptidase_eVal  \\\n",
       "0                NaN                NaN            NaN   \n",
       "1                NaN                NaN            NaN   \n",
       "2                NaN                NaN            NaN   \n",
       "3                NaN                NaN            NaN   \n",
       "4                NaN                NaN            NaN   \n",
       "\n",
       "                                           pfam_hits  \\\n",
       "0  Binding-protein-dependent transport system inn...   \n",
       "1  Binding-protein-dependent transport system inn...   \n",
       "2  ABC transporter [PF00005.30]; MalK OB fold dom...   \n",
       "3  GMC oxidoreductase [PF00732.22]; FAD binding d...   \n",
       "4                                                NaN   \n",
       "\n",
       "   heme_regulatory_motif_count  cazy_ids cazy_hits  cazy_subfam_ec  \\\n",
       "0                            0       NaN       NaN             NaN   \n",
       "1                            0       NaN       NaN             NaN   \n",
       "2                            0       NaN       NaN             NaN   \n",
       "3                            0       NaN       NaN             NaN   \n",
       "4                            0       NaN       NaN             NaN   \n",
       "\n",
       "  cazy_best_hit  \n",
       "0           NaN  \n",
       "1           NaN  \n",
       "2           NaN  \n",
       "3           NaN  \n",
       "4           NaN  \n",
       "\n",
       "[5 rows x 23 columns]"
      ]
     },
     "execution_count": 17,
     "metadata": {},
     "output_type": "execute_result"
    }
   ],
   "source": [
    "calibratedgenomad=pd.read_csv(gitpath+\"DRAM_and_geNomad_annotations/calibratedgenomadannotations.tsv\", sep=\"\\t\")\n",
    "calibratedgenomad.head()"
   ]
  },
  {
   "cell_type": "code",
   "execution_count": 18,
   "metadata": {},
   "outputs": [
    {
     "data": {
      "text/html": [
       "<div>\n",
       "<style scoped>\n",
       "    .dataframe tbody tr th:only-of-type {\n",
       "        vertical-align: middle;\n",
       "    }\n",
       "\n",
       "    .dataframe tbody tr th {\n",
       "        vertical-align: top;\n",
       "    }\n",
       "\n",
       "    .dataframe thead th {\n",
       "        text-align: right;\n",
       "    }\n",
       "</style>\n",
       "<table border=\"1\" class=\"dataframe\">\n",
       "  <thead>\n",
       "    <tr style=\"text-align: right;\">\n",
       "      <th></th>\n",
       "      <th>Unnamed: 0</th>\n",
       "      <th>Unnamed: 0.1</th>\n",
       "      <th>fasta</th>\n",
       "      <th>scaffold</th>\n",
       "      <th>gene_position</th>\n",
       "      <th>start_position</th>\n",
       "      <th>end_position</th>\n",
       "      <th>strandedness</th>\n",
       "      <th>rank</th>\n",
       "      <th>ko_id</th>\n",
       "      <th>...</th>\n",
       "      <th>peptidase_RBH</th>\n",
       "      <th>peptidase_identity</th>\n",
       "      <th>peptidase_bitScore</th>\n",
       "      <th>peptidase_eVal</th>\n",
       "      <th>pfam_hits</th>\n",
       "      <th>cazy_ids</th>\n",
       "      <th>cazy_hits</th>\n",
       "      <th>cazy_subfam_ec</th>\n",
       "      <th>cazy_best_hit</th>\n",
       "      <th>heme_regulatory_motif_count</th>\n",
       "    </tr>\n",
       "  </thead>\n",
       "  <tbody>\n",
       "    <tr>\n",
       "      <th>0</th>\n",
       "      <td>14746</td>\n",
       "      <td>altamaha_2019_sw_WHONDRS-S19S_0010_B_1000.plas...</td>\n",
       "      <td>altamaha_2019_sw_WHONDRS-S19S_0010_B_1000.plas...</td>\n",
       "      <td>k121_1081908</td>\n",
       "      <td>1</td>\n",
       "      <td>95</td>\n",
       "      <td>469</td>\n",
       "      <td>-1</td>\n",
       "      <td>E</td>\n",
       "      <td>NaN</td>\n",
       "      <td>...</td>\n",
       "      <td>NaN</td>\n",
       "      <td>NaN</td>\n",
       "      <td>NaN</td>\n",
       "      <td>NaN</td>\n",
       "      <td>NaN</td>\n",
       "      <td>NaN</td>\n",
       "      <td>NaN</td>\n",
       "      <td>NaN</td>\n",
       "      <td>NaN</td>\n",
       "      <td>0</td>\n",
       "    </tr>\n",
       "    <tr>\n",
       "      <th>1</th>\n",
       "      <td>14747</td>\n",
       "      <td>altamaha_2019_sw_WHONDRS-S19S_0010_B_1000.plas...</td>\n",
       "      <td>altamaha_2019_sw_WHONDRS-S19S_0010_B_1000.plas...</td>\n",
       "      <td>k121_1081908</td>\n",
       "      <td>2</td>\n",
       "      <td>551</td>\n",
       "      <td>1294</td>\n",
       "      <td>-1</td>\n",
       "      <td>D</td>\n",
       "      <td>NaN</td>\n",
       "      <td>...</td>\n",
       "      <td>NaN</td>\n",
       "      <td>NaN</td>\n",
       "      <td>NaN</td>\n",
       "      <td>NaN</td>\n",
       "      <td>IstB-like ATP binding protein [PF01695.20]; Ba...</td>\n",
       "      <td>NaN</td>\n",
       "      <td>NaN</td>\n",
       "      <td>NaN</td>\n",
       "      <td>NaN</td>\n",
       "      <td>0</td>\n",
       "    </tr>\n",
       "    <tr>\n",
       "      <th>2</th>\n",
       "      <td>14748</td>\n",
       "      <td>altamaha_2019_sw_WHONDRS-S19S_0010_B_1000.plas...</td>\n",
       "      <td>altamaha_2019_sw_WHONDRS-S19S_0010_B_1000.plas...</td>\n",
       "      <td>k121_1081908</td>\n",
       "      <td>3</td>\n",
       "      <td>1309</td>\n",
       "      <td>2844</td>\n",
       "      <td>-1</td>\n",
       "      <td>E</td>\n",
       "      <td>NaN</td>\n",
       "      <td>...</td>\n",
       "      <td>NaN</td>\n",
       "      <td>NaN</td>\n",
       "      <td>NaN</td>\n",
       "      <td>NaN</td>\n",
       "      <td>NaN</td>\n",
       "      <td>NaN</td>\n",
       "      <td>NaN</td>\n",
       "      <td>NaN</td>\n",
       "      <td>NaN</td>\n",
       "      <td>0</td>\n",
       "    </tr>\n",
       "    <tr>\n",
       "      <th>3</th>\n",
       "      <td>15061</td>\n",
       "      <td>altamaha_2019_sw_WHONDRS-S19S_0010_B_1000.plas...</td>\n",
       "      <td>altamaha_2019_sw_WHONDRS-S19S_0010_B_1000.plas...</td>\n",
       "      <td>k121_1310888</td>\n",
       "      <td>1</td>\n",
       "      <td>522</td>\n",
       "      <td>3437</td>\n",
       "      <td>1</td>\n",
       "      <td>D</td>\n",
       "      <td>NaN</td>\n",
       "      <td>...</td>\n",
       "      <td>NaN</td>\n",
       "      <td>NaN</td>\n",
       "      <td>NaN</td>\n",
       "      <td>NaN</td>\n",
       "      <td>Tn3 transposase DDE domain [PF01526.20]; Domai...</td>\n",
       "      <td>NaN</td>\n",
       "      <td>NaN</td>\n",
       "      <td>NaN</td>\n",
       "      <td>NaN</td>\n",
       "      <td>0</td>\n",
       "    </tr>\n",
       "    <tr>\n",
       "      <th>4</th>\n",
       "      <td>15062</td>\n",
       "      <td>altamaha_2019_sw_WHONDRS-S19S_0010_B_1000.plas...</td>\n",
       "      <td>altamaha_2019_sw_WHONDRS-S19S_0010_B_1000.plas...</td>\n",
       "      <td>k121_1310888</td>\n",
       "      <td>2</td>\n",
       "      <td>3531</td>\n",
       "      <td>3701</td>\n",
       "      <td>1</td>\n",
       "      <td>E</td>\n",
       "      <td>NaN</td>\n",
       "      <td>...</td>\n",
       "      <td>NaN</td>\n",
       "      <td>NaN</td>\n",
       "      <td>NaN</td>\n",
       "      <td>NaN</td>\n",
       "      <td>NaN</td>\n",
       "      <td>NaN</td>\n",
       "      <td>NaN</td>\n",
       "      <td>NaN</td>\n",
       "      <td>NaN</td>\n",
       "      <td>0</td>\n",
       "    </tr>\n",
       "  </tbody>\n",
       "</table>\n",
       "<p>5 rows × 24 columns</p>\n",
       "</div>"
      ],
      "text/plain": [
       "   Unnamed: 0                                       Unnamed: 0.1  \\\n",
       "0       14746  altamaha_2019_sw_WHONDRS-S19S_0010_B_1000.plas...   \n",
       "1       14747  altamaha_2019_sw_WHONDRS-S19S_0010_B_1000.plas...   \n",
       "2       14748  altamaha_2019_sw_WHONDRS-S19S_0010_B_1000.plas...   \n",
       "3       15061  altamaha_2019_sw_WHONDRS-S19S_0010_B_1000.plas...   \n",
       "4       15062  altamaha_2019_sw_WHONDRS-S19S_0010_B_1000.plas...   \n",
       "\n",
       "                                               fasta      scaffold  \\\n",
       "0  altamaha_2019_sw_WHONDRS-S19S_0010_B_1000.plas...  k121_1081908   \n",
       "1  altamaha_2019_sw_WHONDRS-S19S_0010_B_1000.plas...  k121_1081908   \n",
       "2  altamaha_2019_sw_WHONDRS-S19S_0010_B_1000.plas...  k121_1081908   \n",
       "3  altamaha_2019_sw_WHONDRS-S19S_0010_B_1000.plas...  k121_1310888   \n",
       "4  altamaha_2019_sw_WHONDRS-S19S_0010_B_1000.plas...  k121_1310888   \n",
       "\n",
       "   gene_position  start_position  end_position  strandedness rank ko_id  ...  \\\n",
       "0              1              95           469            -1    E   NaN  ...   \n",
       "1              2             551          1294            -1    D   NaN  ...   \n",
       "2              3            1309          2844            -1    E   NaN  ...   \n",
       "3              1             522          3437             1    D   NaN  ...   \n",
       "4              2            3531          3701             1    E   NaN  ...   \n",
       "\n",
       "  peptidase_RBH peptidase_identity peptidase_bitScore peptidase_eVal  \\\n",
       "0           NaN                NaN                NaN            NaN   \n",
       "1           NaN                NaN                NaN            NaN   \n",
       "2           NaN                NaN                NaN            NaN   \n",
       "3           NaN                NaN                NaN            NaN   \n",
       "4           NaN                NaN                NaN            NaN   \n",
       "\n",
       "                                           pfam_hits  cazy_ids  cazy_hits  \\\n",
       "0                                                NaN       NaN        NaN   \n",
       "1  IstB-like ATP binding protein [PF01695.20]; Ba...       NaN        NaN   \n",
       "2                                                NaN       NaN        NaN   \n",
       "3  Tn3 transposase DDE domain [PF01526.20]; Domai...       NaN        NaN   \n",
       "4                                                NaN       NaN        NaN   \n",
       "\n",
       "   cazy_subfam_ec cazy_best_hit heme_regulatory_motif_count  \n",
       "0             NaN           NaN                           0  \n",
       "1             NaN           NaN                           0  \n",
       "2             NaN           NaN                           0  \n",
       "3             NaN           NaN                           0  \n",
       "4             NaN           NaN                           0  \n",
       "\n",
       "[5 rows x 24 columns]"
      ]
     },
     "execution_count": 18,
     "metadata": {},
     "output_type": "execute_result"
    }
   ],
   "source": [
    "filteredplaton=pd.read_csv(gitpath+\"DRAM_and_geNomad_annotations/GROWcanonfilteredplatonannotation.csv\")\n",
    "filteredplaton.head()"
   ]
  },
  {
   "cell_type": "code",
   "execution_count": 32,
   "metadata": {},
   "outputs": [],
   "source": [
    "totalkeggannotations=[9816, 4578, 93067, 56414, 7847]\n",
    "totalpfamannotations=[31277, 9700, 191462, 175815, 14535]\n",
    "totalgenes=[unfilteredplaton.shape[0], filteredplaton.shape[0], defaultgenomad.shape[0], calibratedgenomad.shape[0], conservativegenomad.shape[0]]"
   ]
  },
  {
   "cell_type": "code",
   "execution_count": null,
   "metadata": {},
   "outputs": [],
   "source": [
    "executefunconplasmethods()"
   ]
  },
  {
   "cell_type": "code",
   "execution_count": 20,
   "metadata": {},
   "outputs": [],
   "source": [
    "plasmethods=[unfilteredplaton, filteredplaton, defaultgenomad, calibratedgenomad, conservativegenomad]"
   ]
  },
  {
   "cell_type": "code",
   "execution_count": null,
   "metadata": {},
   "outputs": [],
   "source": []
  },
  {
   "cell_type": "code",
   "execution_count": 21,
   "metadata": {},
   "outputs": [],
   "source": [
    "annos=appendfindannooutputtodf(plasmethods)"
   ]
  },
  {
   "cell_type": "code",
   "execution_count": 23,
   "metadata": {},
   "outputs": [
    {
     "data": {
      "text/plain": [
       "[31842, 9958, 196708, 122883, 15415]"
      ]
     },
     "execution_count": 23,
     "metadata": {},
     "output_type": "execute_result"
    }
   ],
   "source": [
    "annos"
   ]
  },
  {
   "cell_type": "code",
   "execution_count": 29,
   "metadata": {},
   "outputs": [],
   "source": [
    "outputs=['Unfiltered \\nPlaton', 'Filtered \\nPlaton', 'Default \\ngeNomad', 'Calibrated \\ngeNomad', 'Conservative \\ngeNomad']"
   ]
  },
  {
   "cell_type": "code",
   "execution_count": 30,
   "metadata": {},
   "outputs": [
    {
     "data": {
      "text/plain": [
       "<BarContainer object of 5 artists>"
      ]
     },
     "execution_count": 30,
     "metadata": {},
     "output_type": "execute_result"
    },
    {
     "data": {
      "image/png": "[encoded data removed]",
      "text/plain": [
       "<Figure size 432x288 with 1 Axes>"
      ]
     },
     "metadata": {
      "needs_background": "light"
     },
     "output_type": "display_data"
    }
   ],
   "source": [
    "plt.bar(height=annos, x=outputs)"
   ]
  },
  {
   "cell_type": "code",
   "execution_count": 33,
   "metadata": {},
   "outputs": [
    {
     "data": {
      "text/plain": [
       "Text(0.5, 1.0, 'Percent of Putative Plasmid Genes Annotated')"
      ]
     },
     "execution_count": 33,
     "metadata": {},
     "output_type": "execute_result"
    },
    {
     "data": {
      "image/png": "[encoded data removed]",
      "text/plain": [
       "<Figure size 432x288 with 1 Axes>"
      ]
     },
     "metadata": {
      "needs_background": "light"
     },
     "output_type": "display_data"
    }
   ],
   "source": [
    "plt.bar(height=np.array(annos)/np.array(totalgenes), x=outputs)\n",
    "plt.ylim(0,1)\n",
    "plt.title(\"Percent of Putative Plasmid Genes Annotated\")"
   ]
  },
  {
   "cell_type": "code",
   "execution_count": 34,
   "metadata": {},
   "outputs": [],
   "source": [
    "hypotheticalsdf=appendfindoutputtodf(plasmethods)"
   ]
  },
  {
   "cell_type": "code",
   "execution_count": 35,
   "metadata": {},
   "outputs": [
    {
     "data": {
      "text/html": [
       "<div>\n",
       "<style scoped>\n",
       "    .dataframe tbody tr th:only-of-type {\n",
       "        vertical-align: middle;\n",
       "    }\n",
       "\n",
       "    .dataframe tbody tr th {\n",
       "        vertical-align: top;\n",
       "    }\n",
       "\n",
       "    .dataframe thead th {\n",
       "        text-align: right;\n",
       "    }\n",
       "</style>\n",
       "<table border=\"1\" class=\"dataframe\">\n",
       "  <thead>\n",
       "    <tr style=\"text-align: right;\">\n",
       "      <th></th>\n",
       "      <th>KEGG Hypotheticals</th>\n",
       "      <th>Pfam Hypotheticals</th>\n",
       "    </tr>\n",
       "  </thead>\n",
       "  <tbody>\n",
       "    <tr>\n",
       "      <th>0</th>\n",
       "      <td>612</td>\n",
       "      <td>3723</td>\n",
       "    </tr>\n",
       "    <tr>\n",
       "      <th>1</th>\n",
       "      <td>184</td>\n",
       "      <td>910</td>\n",
       "    </tr>\n",
       "    <tr>\n",
       "      <th>2</th>\n",
       "      <td>3606</td>\n",
       "      <td>14474</td>\n",
       "    </tr>\n",
       "    <tr>\n",
       "      <th>3</th>\n",
       "      <td>2116</td>\n",
       "      <td>9695</td>\n",
       "    </tr>\n",
       "    <tr>\n",
       "      <th>4</th>\n",
       "      <td>133</td>\n",
       "      <td>1227</td>\n",
       "    </tr>\n",
       "  </tbody>\n",
       "</table>\n",
       "</div>"
      ],
      "text/plain": [
       "   KEGG Hypotheticals  Pfam Hypotheticals\n",
       "0                 612                3723\n",
       "1                 184                 910\n",
       "2                3606               14474\n",
       "3                2116                9695\n",
       "4                 133                1227"
      ]
     },
     "execution_count": 35,
     "metadata": {},
     "output_type": "execute_result"
    }
   ],
   "source": [
    "hypotheticalsdf.head()"
   ]
  },
  {
   "cell_type": "code",
   "execution_count": 36,
   "metadata": {},
   "outputs": [
    {
     "data": {
      "image/png": "[encoded data removed]",
      "text/plain": [
       "<Figure size 432x288 with 1 Axes>"
      ]
     },
     "metadata": {
      "needs_background": "light"
     },
     "output_type": "display_data"
    }
   ],
   "source": [
    "groupedbarchart(hypotheticalsdf, \"Hypothetical Annotations\", \"Number of Hypothetical Annotations by Plasmid Detection Method\")"
   ]
  },
  {
   "cell_type": "code",
   "execution_count": 37,
   "metadata": {},
   "outputs": [
    {
     "data": {
      "image/png": "[encoded data removed]",
      "text/plain": [
       "<Figure size 432x288 with 1 Axes>"
      ]
     },
     "metadata": {
      "needs_background": "light"
     },
     "output_type": "display_data"
    }
   ],
   "source": [
    "groupedbarchart(hypotheticalsdf.divide(totalgenes, axis=0), \"Hypothetical Annotations per Gene\", \"Number of Hypothetical Annotations per Gene by Plasmid Detection Method\")"
   ]
  },
  {
   "cell_type": "code",
   "execution_count": 38,
   "metadata": {},
   "outputs": [
    {
     "ename": "KeyError",
     "evalue": "'kegg_hypotheticals'",
     "output_type": "error",
     "traceback": [
      "\u001b[0;31m---------------------------------------------------------------------------\u001b[0m",
      "\u001b[0;31mKeyError\u001b[0m                                  Traceback (most recent call last)",
      "\u001b[0;32m/home/guatney/miniconda3/envs/jupyterlab/lib/python3.7/site-packages/pandas/core/indexes/base.py\u001b[0m in \u001b[0;36mget_loc\u001b[0;34m(self, key, method, tolerance)\u001b[0m\n\u001b[1;32m   3360\u001b[0m             \u001b[0;32mtry\u001b[0m\u001b[0;34m:\u001b[0m\u001b[0;34m\u001b[0m\u001b[0;34m\u001b[0m\u001b[0m\n\u001b[0;32m-> 3361\u001b[0;31m                 \u001b[0;32mreturn\u001b[0m \u001b[0mself\u001b[0m\u001b[0;34m.\u001b[0m\u001b[0m_engine\u001b[0m\u001b[0;34m.\u001b[0m\u001b[0mget_loc\u001b[0m\u001b[0;34m(\u001b[0m\u001b[0mcasted_key\u001b[0m\u001b[0;34m)\u001b[0m\u001b[0;34m\u001b[0m\u001b[0;34m\u001b[0m\u001b[0m\n\u001b[0m\u001b[1;32m   3362\u001b[0m             \u001b[0;32mexcept\u001b[0m \u001b[0mKeyError\u001b[0m \u001b[0;32mas\u001b[0m \u001b[0merr\u001b[0m\u001b[0;34m:\u001b[0m\u001b[0;34m\u001b[0m\u001b[0;34m\u001b[0m\u001b[0m\n",
      "\u001b[0;32m/home/guatney/miniconda3/envs/jupyterlab/lib/python3.7/site-packages/pandas/_libs/index.pyx\u001b[0m in \u001b[0;36mpandas._libs.index.IndexEngine.get_loc\u001b[0;34m()\u001b[0m\n",
      "\u001b[0;32m/home/guatney/miniconda3/envs/jupyterlab/lib/python3.7/site-packages/pandas/_libs/index.pyx\u001b[0m in \u001b[0;36mpandas._libs.index.IndexEngine.get_loc\u001b[0;34m()\u001b[0m\n",
      "\u001b[0;32mpandas/_libs/hashtable_class_helper.pxi\u001b[0m in \u001b[0;36mpandas._libs.hashtable.PyObjectHashTable.get_item\u001b[0;34m()\u001b[0m\n",
      "\u001b[0;32mpandas/_libs/hashtable_class_helper.pxi\u001b[0m in \u001b[0;36mpandas._libs.hashtable.PyObjectHashTable.get_item\u001b[0;34m()\u001b[0m\n",
      "\u001b[0;31mKeyError\u001b[0m: 'kegg_hypotheticals'",
      "\nThe above exception was the direct cause of the following exception:\n",
      "\u001b[0;31mKeyError\u001b[0m                                  Traceback (most recent call last)",
      "\u001b[0;32m<ipython-input-38-bf0ee4241d4d>\u001b[0m in \u001b[0;36m<module>\u001b[0;34m()\u001b[0m\n\u001b[0;32m----> 1\u001b[0;31m \u001b[0mhypotheticalbyannotations\u001b[0m\u001b[0;34m=\u001b[0m\u001b[0mpd\u001b[0m\u001b[0;34m.\u001b[0m\u001b[0mDataFrame\u001b[0m\u001b[0;34m(\u001b[0m\u001b[0;34m{\u001b[0m\u001b[0;34m'KEGG Hypotheticals'\u001b[0m\u001b[0;34m:\u001b[0m \u001b[0mhypotheticalsdf\u001b[0m\u001b[0;34m[\u001b[0m\u001b[0;34m'kegg_hypotheticals'\u001b[0m\u001b[0;34m]\u001b[0m\u001b[0;34m.\u001b[0m\u001b[0mdivide\u001b[0m\u001b[0;34m(\u001b[0m\u001b[0mtotalkeggannotations\u001b[0m\u001b[0;34m)\u001b[0m\u001b[0;34m,\u001b[0m \u001b[0;34m'Pfam Hypotheticals'\u001b[0m\u001b[0;34m:\u001b[0m \u001b[0mhypotheticalsdf\u001b[0m\u001b[0;34m[\u001b[0m\u001b[0;34m'pfam_hypotheticals'\u001b[0m\u001b[0;34m]\u001b[0m\u001b[0;34m.\u001b[0m\u001b[0mdivide\u001b[0m\u001b[0;34m(\u001b[0m\u001b[0mtotalpfamannotations\u001b[0m\u001b[0;34m)\u001b[0m\u001b[0;34m}\u001b[0m\u001b[0;34m)\u001b[0m\u001b[0;34m\u001b[0m\u001b[0;34m\u001b[0m\u001b[0m\n\u001b[0m",
      "\u001b[0;32m/home/guatney/miniconda3/envs/jupyterlab/lib/python3.7/site-packages/pandas/core/frame.py\u001b[0m in \u001b[0;36m__getitem__\u001b[0;34m(self, key)\u001b[0m\n\u001b[1;32m   3456\u001b[0m             \u001b[0;32mif\u001b[0m \u001b[0mself\u001b[0m\u001b[0;34m.\u001b[0m\u001b[0mcolumns\u001b[0m\u001b[0;34m.\u001b[0m\u001b[0mnlevels\u001b[0m \u001b[0;34m>\u001b[0m \u001b[0;36m1\u001b[0m\u001b[0;34m:\u001b[0m\u001b[0;34m\u001b[0m\u001b[0;34m\u001b[0m\u001b[0m\n\u001b[1;32m   3457\u001b[0m                 \u001b[0;32mreturn\u001b[0m \u001b[0mself\u001b[0m\u001b[0;34m.\u001b[0m\u001b[0m_getitem_multilevel\u001b[0m\u001b[0;34m(\u001b[0m\u001b[0mkey\u001b[0m\u001b[0;34m)\u001b[0m\u001b[0;34m\u001b[0m\u001b[0;34m\u001b[0m\u001b[0m\n\u001b[0;32m-> 3458\u001b[0;31m             \u001b[0mindexer\u001b[0m \u001b[0;34m=\u001b[0m \u001b[0mself\u001b[0m\u001b[0;34m.\u001b[0m\u001b[0mcolumns\u001b[0m\u001b[0;34m.\u001b[0m\u001b[0mget_loc\u001b[0m\u001b[0;34m(\u001b[0m\u001b[0mkey\u001b[0m\u001b[0;34m)\u001b[0m\u001b[0;34m\u001b[0m\u001b[0;34m\u001b[0m\u001b[0m\n\u001b[0m\u001b[1;32m   3459\u001b[0m             \u001b[0;32mif\u001b[0m \u001b[0mis_integer\u001b[0m\u001b[0;34m(\u001b[0m\u001b[0mindexer\u001b[0m\u001b[0;34m)\u001b[0m\u001b[0;34m:\u001b[0m\u001b[0;34m\u001b[0m\u001b[0;34m\u001b[0m\u001b[0m\n\u001b[1;32m   3460\u001b[0m                 \u001b[0mindexer\u001b[0m \u001b[0;34m=\u001b[0m \u001b[0;34m[\u001b[0m\u001b[0mindexer\u001b[0m\u001b[0;34m]\u001b[0m\u001b[0;34m\u001b[0m\u001b[0;34m\u001b[0m\u001b[0m\n",
      "\u001b[0;32m/home/guatney/miniconda3/envs/jupyterlab/lib/python3.7/site-packages/pandas/core/indexes/base.py\u001b[0m in \u001b[0;36mget_loc\u001b[0;34m(self, key, method, tolerance)\u001b[0m\n\u001b[1;32m   3361\u001b[0m                 \u001b[0;32mreturn\u001b[0m \u001b[0mself\u001b[0m\u001b[0;34m.\u001b[0m\u001b[0m_engine\u001b[0m\u001b[0;34m.\u001b[0m\u001b[0mget_loc\u001b[0m\u001b[0;34m(\u001b[0m\u001b[0mcasted_key\u001b[0m\u001b[0;34m)\u001b[0m\u001b[0;34m\u001b[0m\u001b[0;34m\u001b[0m\u001b[0m\n\u001b[1;32m   3362\u001b[0m             \u001b[0;32mexcept\u001b[0m \u001b[0mKeyError\u001b[0m \u001b[0;32mas\u001b[0m \u001b[0merr\u001b[0m\u001b[0;34m:\u001b[0m\u001b[0;34m\u001b[0m\u001b[0;34m\u001b[0m\u001b[0m\n\u001b[0;32m-> 3363\u001b[0;31m                 \u001b[0;32mraise\u001b[0m \u001b[0mKeyError\u001b[0m\u001b[0;34m(\u001b[0m\u001b[0mkey\u001b[0m\u001b[0;34m)\u001b[0m \u001b[0;32mfrom\u001b[0m \u001b[0merr\u001b[0m\u001b[0;34m\u001b[0m\u001b[0;34m\u001b[0m\u001b[0m\n\u001b[0m\u001b[1;32m   3364\u001b[0m \u001b[0;34m\u001b[0m\u001b[0m\n\u001b[1;32m   3365\u001b[0m         \u001b[0;32mif\u001b[0m \u001b[0mis_scalar\u001b[0m\u001b[0;34m(\u001b[0m\u001b[0mkey\u001b[0m\u001b[0;34m)\u001b[0m \u001b[0;32mand\u001b[0m \u001b[0misna\u001b[0m\u001b[0;34m(\u001b[0m\u001b[0mkey\u001b[0m\u001b[0;34m)\u001b[0m \u001b[0;32mand\u001b[0m \u001b[0;32mnot\u001b[0m \u001b[0mself\u001b[0m\u001b[0;34m.\u001b[0m\u001b[0mhasnans\u001b[0m\u001b[0;34m:\u001b[0m\u001b[0;34m\u001b[0m\u001b[0;34m\u001b[0m\u001b[0m\n",
      "\u001b[0;31mKeyError\u001b[0m: 'kegg_hypotheticals'"
     ]
    }
   ],
   "source": [
    "hypotheticalbyannotations=pd.DataFrame({'KEGG Hypotheticals': hypotheticalsdf['kegg_hypotheticals'].divide(totalkeggannotations), 'Pfam Hypotheticals': hypotheticalsdf['pfam_hypotheticals'].divide(totalpfamannotations)})"
   ]
  },
  {
   "cell_type": "code",
   "execution_count": null,
   "metadata": {},
   "outputs": [],
   "source": [
    "hypotheticalbyannotations.head()"
   ]
  },
  {
   "cell_type": "code",
   "execution_count": null,
   "metadata": {},
   "outputs": [],
   "source": [
    "groupedbarchart(hypotheticalbyannotations, \"Hypothetical Annotations per Annotation\", \"Number of Hypothetical Annotations by Total Annotations per Plasmid Detection Method\")"
   ]
  },
  {
   "cell_type": "code",
   "execution_count": null,
   "metadata": {},
   "outputs": [],
   "source": [
    "annotationpergene=pd.DataFrame({'KEGG Annotations per Gene':[x / y for x, y in zip(totalkeggannotations, totalgenes)],'Pfam Annotations per Gene':[x / y for x, y in zip(totalpfamannotations, totalgenes)]})"
   ]
  },
  {
   "cell_type": "code",
   "execution_count": null,
   "metadata": {},
   "outputs": [],
   "source": [
    "annotationpergene.head()"
   ]
  },
  {
   "cell_type": "code",
   "execution_count": null,
   "metadata": {},
   "outputs": [],
   "source": [
    "groupedbarchart(annotationpergene, \"Annotations per Gene\", \"Number of Annotations by Total Genes per Plasmid Detection Method\")"
   ]
  },
  {
   "cell_type": "code",
   "execution_count": null,
   "metadata": {},
   "outputs": [],
   "source": [
    "methods=['Unfiltered \\nPlaton', 'Filtered \\nPlaton', 'Default \\ngeNomad', 'Calibrated \\ngeNomad', 'Conservative \\ngeNomad']\n"
   ]
  },
  {
   "cell_type": "code",
   "execution_count": null,
   "metadata": {},
   "outputs": [],
   "source": [
    "plt.bar(height=totalgenes,x=methods)\n",
    "plt.title(\"Total Genes from Putative Contigs by Plasmid Detection Method\")"
   ]
  },
  {
   "cell_type": "code",
   "execution_count": null,
   "metadata": {},
   "outputs": [],
   "source": [
    "numberofplasmids=[len(x) for x in outlistoflists]"
   ]
  },
  {
   "cell_type": "code",
   "execution_count": null,
   "metadata": {},
   "outputs": [],
   "source": [
    "plt.bar(height=numberofplasmids,x=methods)\n",
    "plt.ylabel(\"Plasmids\")\n",
    "plt.title(\"Number of Putative Plasmids Detected by Plasmid Detection Method\")"
   ]
  },
  {
   "cell_type": "code",
   "execution_count": null,
   "metadata": {},
   "outputs": [],
   "source": [
    "outlistoflists=getnumberofgenespercontig(plasmethods)"
   ]
  },
  {
   "cell_type": "code",
   "execution_count": null,
   "metadata": {},
   "outputs": [],
   "source": [
    "plt.boxplot(outlistoflists)\n",
    "plt.xticks(range(1,len(methods)+1), methods)\n",
    "plt.title(\"Number of Genes per Putative Plasmid Detected by Plasmid Detection Methods\")"
   ]
  },
  {
   "cell_type": "code",
   "execution_count": null,
   "metadata": {},
   "outputs": [],
   "source": [
    "plt.hist(outlistoflists[0], bins=50)\n",
    "plt.title(\"Number of Genes per Putative Plasmid Detected by Unfiltered Platon\")\n",
    "plt.xlabel(\"Genes\")\n",
    "plt.ylabel(\"Counts\")"
   ]
  },
  {
   "cell_type": "code",
   "execution_count": null,
   "metadata": {},
   "outputs": [],
   "source": [
    "plt.hist(outlistoflists[1], bins=50)\n",
    "plt.title(\"Number of Genes per Putative Plasmid Detected by Filtered Platon\")\n",
    "plt.xlabel(\"Genes\")\n",
    "plt.ylabel(\"Counts\")"
   ]
  },
  {
   "cell_type": "code",
   "execution_count": null,
   "metadata": {},
   "outputs": [],
   "source": [
    "plt.hist(outlistoflists[2], bins=50)\n",
    "plt.title(\"Number of Genes per Putative Plasmid Detected by Default geNomad\")\n",
    "plt.xlabel(\"Genes\")\n",
    "plt.ylabel(\"Counts\")"
   ]
  },
  {
   "cell_type": "code",
   "execution_count": null,
   "metadata": {},
   "outputs": [],
   "source": [
    "plt.hist(outlistoflists[3], bins=50)\n",
    "plt.title(\"Number of Genes per Putative Plasmid Detected by Calibrated geNomad\")\n",
    "plt.xlabel(\"Genes\")\n",
    "plt.ylabel(\"Counts\")"
   ]
  },
  {
   "cell_type": "code",
   "execution_count": null,
   "metadata": {},
   "outputs": [],
   "source": [
    "plt.hist(outlistoflists[4], bins=50)\n",
    "plt.title(\"Number of Genes per Putative Plasmid Detected by Conservative geNomad\")\n",
    "plt.xlabel(\"Genes\")\n",
    "plt.ylabel(\"Counts\")"
   ]
  },
  {
   "cell_type": "code",
   "execution_count": null,
   "metadata": {},
   "outputs": [],
   "source": [
    "len(outlistoflists)"
   ]
  },
  {
   "cell_type": "code",
   "execution_count": null,
   "metadata": {},
   "outputs": [],
   "source": [
    "plt.violinplot(outlistoflists)\n",
    "plt.xticks(range(1,len(methods)+1), methods)"
   ]
  },
  {
   "cell_type": "code",
   "execution_count": null,
   "metadata": {},
   "outputs": [],
   "source": [
    "fig, ax = plt.violinplot(outlistoflists)\n",
    "#ax.xticks(range(1,len(methods)+1), methods)\n",
    "ax.set_ylim(0, 60)"
   ]
  },
  {
   "cell_type": "code",
   "execution_count": null,
   "metadata": {},
   "outputs": [],
   "source": [
    "plt.hist(outlistoflists,bins=100)"
   ]
  },
  {
   "cell_type": "code",
   "execution_count": null,
   "metadata": {},
   "outputs": [],
   "source": [
    "conservativekeggcounts=0\n",
    "conservativepfamcounts=0\n",
    "conservativetransposasekeggcounts=0\n",
    "conservativetransposasepfamcounts=0\n",
    "\n",
    "for index, row in conservativegenomad.iterrows():\n",
    "    keggstring=str(row['kegg_hit']).lower()\n",
    "    pfamstring=str(row['pfam_hits']).lower()\n",
    "    if re.search(\".?type iv.?\", keggstring) or re.search(\".?conjuga.?\", keggstring) or re.search(\".?virb.?\", keggstring) or re.search(\".?pilus.?\", keggstring):\n",
    "        conservativekeggcounts += 1\n",
    "    if re.search(\".?type iv.?\", pfamstring) or re.search(\".?conjuga.?\", pfamstring) or re.search(\".?virb.?\", pfamstring) or re.search(\".?pilus.?\", pfamstring):\n",
    "        conservativepfamcounts += 1\n",
    "    if re.search(\".?transposase.?\", keggstring):\n",
    "        conservativetransposasekeggcounts += 1\n",
    "    if re.search(\".?transposase.?\", pfamstring):\n",
    "        conservativetransposasepfamcounts += 1"
   ]
  },
  {
   "cell_type": "code",
   "execution_count": null,
   "metadata": {},
   "outputs": [],
   "source": [
    "conservativekeggcounts"
   ]
  },
  {
   "cell_type": "code",
   "execution_count": null,
   "metadata": {},
   "outputs": [],
   "source": [
    "conservativepfamcounts"
   ]
  },
  {
   "cell_type": "code",
   "execution_count": null,
   "metadata": {},
   "outputs": [],
   "source": [
    "conservativetransposasekeggcounts"
   ]
  },
  {
   "cell_type": "code",
   "execution_count": null,
   "metadata": {},
   "outputs": [],
   "source": [
    "conservativetransposasepfamcounts"
   ]
  },
  {
   "cell_type": "code",
   "execution_count": 24,
   "metadata": {},
   "outputs": [],
   "source": [
    "keggcounts=0\n",
    "pfamcounts=0\n",
    "transposasekeggcounts=0\n",
    "transposasepfamcounts=0\n",
    "\n",
    "for index, row in unfilteredplaton.iterrows():\n",
    "    keggstring=str(row['kegg_hit']).lower()\n",
    "    pfamstring=str(row['pfam_hits']).lower()\n",
    "    if re.search(\".?type iv.?\", keggstring) or re.search(\".?conjuga.?\", keggstring) or re.search(\".?virb.?\", keggstring) or re.search(\".?pilus.?\", keggstring):\n",
    "        keggcounts += 1\n",
    "    if re.search(\".?type iv.?\", pfamstring) or re.search(\".?conjuga.?\", pfamstring) or re.search(\".?virb.?\", pfamstring) or re.search(\".?pilus.?\", pfamstring):\n",
    "        pfamcounts += 1\n",
    "    if re.search(\".?transposase.?\", keggstring):\n",
    "        transposasekeggcounts += 1\n",
    "    if re.search(\".?transposase.?\", pfamstring):\n",
    "        transposasepfamcounts += 1"
   ]
  },
  {
   "cell_type": "code",
   "execution_count": null,
   "metadata": {},
   "outputs": [],
   "source": [
    "keggphage=[726, 136, 631, 586, 65]\n",
    "pfamphage=[3415,271,3706,3072,228]\n",
    "keggribosome=[144,32,242,142,4]\n",
    "pfamribosome=[173,39,411,230,6]"
   ]
  },
  {
   "cell_type": "code",
   "execution_count": 26,
   "metadata": {},
   "outputs": [
    {
     "ename": "NameError",
     "evalue": "name 'counthits' is not defined",
     "output_type": "error",
     "traceback": [
      "\u001b[0;31m---------------------------------------------------------------------------\u001b[0m",
      "\u001b[0;31mNameError\u001b[0m                                 Traceback (most recent call last)",
      "\u001b[0;32m<ipython-input-26-01b2fda08258>\u001b[0m in \u001b[0;36m<module>\u001b[0;34m()\u001b[0m\n\u001b[0;32m----> 1\u001b[0;31m \u001b[0mcounthits\u001b[0m\u001b[0;34m(\u001b[0m\u001b[0munfilteredplaton\u001b[0m\u001b[0;34m)\u001b[0m\u001b[0;34m\u001b[0m\u001b[0;34m\u001b[0m\u001b[0m\n\u001b[0m",
      "\u001b[0;31mNameError\u001b[0m: name 'counthits' is not defined"
     ]
    }
   ],
   "source": [
    "counthits(unfilteredplaton)"
   ]
  },
  {
   "cell_type": "code",
   "execution_count": 119,
   "metadata": {},
   "outputs": [
    {
     "data": {
      "text/plain": [
       "(136, 271, 32, 39)"
      ]
     },
     "execution_count": 119,
     "metadata": {},
     "output_type": "execute_result"
    }
   ],
   "source": [
    "counthits(filteredplaton)"
   ]
  },
  {
   "cell_type": "code",
   "execution_count": 120,
   "metadata": {},
   "outputs": [
    {
     "data": {
      "text/plain": [
       "(631, 3706, 242, 411)"
      ]
     },
     "execution_count": 120,
     "metadata": {},
     "output_type": "execute_result"
    }
   ],
   "source": [
    "counthits(defaultgenomad)"
   ]
  },
  {
   "cell_type": "code",
   "execution_count": 121,
   "metadata": {},
   "outputs": [
    {
     "data": {
      "text/plain": [
       "(586, 3072, 142, 230)"
      ]
     },
     "execution_count": 121,
     "metadata": {},
     "output_type": "execute_result"
    }
   ],
   "source": [
    "counthits(calibratedgenomad)"
   ]
  },
  {
   "cell_type": "code",
   "execution_count": 122,
   "metadata": {},
   "outputs": [
    {
     "data": {
      "text/plain": [
       "(65, 228, 4, 6)"
      ]
     },
     "execution_count": 122,
     "metadata": {},
     "output_type": "execute_result"
    }
   ],
   "source": [
    "counthits(conservativegenomad)"
   ]
  },
  {
   "cell_type": "code",
   "execution_count": 47,
   "metadata": {},
   "outputs": [],
   "source": [
    "keggconj=[590, 576, 6782, 5851, 4692]\n",
    "pfamconj=[567,533,6421,5334,3736]\n",
    "keggtrans=[620,174,5037,3790,185]\n",
    "pfamtrans=[416,266,5531,4202,256]\n",
    "resultsdf=pd.DataFrame({\n",
    "    'KEGG Conjugation': keggconj, 'Pfam Conjugation': pfamconj, 'KEGG Transposase': keggtrans, 'Pfam Transposase': pfamtrans})"
   ]
  },
  {
   "cell_type": "code",
   "execution_count": 67,
   "metadata": {},
   "outputs": [
    {
     "data": {
      "text/plain": [
       "[103705, 15723, 309278, 203330, 24205]"
      ]
     },
     "execution_count": 67,
     "metadata": {},
     "output_type": "execute_result"
    }
   ],
   "source": [
    "totalgenes"
   ]
  },
  {
   "cell_type": "code",
   "execution_count": 102,
   "metadata": {},
   "outputs": [],
   "source": [
    "def groupedbarchart(df, ylabstr, titlestr):\n",
    "\n",
    "    outputs=['Unfiltered \\nPlaton', 'Filtered \\nPlaton', 'Default \\ngeNomad', 'Calibrated \\ngeNomad', 'Conservative \\ngeNomad']\n",
    "\n",
    "    fig, ax = plt.subplots(layout='constrained')\n",
    "\n",
    "    x = np.arange(len(outputs))\n",
    "    width = 0.1  # the width of the bars\n",
    "    multiplier = 0\n",
    "\n",
    "    for attribute, measurement in df.items():\n",
    "        offset = width * multiplier\n",
    "        rects = ax.bar(x + offset, measurement, width, label=attribute)\n",
    "        #ax.bar_label(rects, padding=3)\n",
    "        multiplier += 1\n",
    "\n",
    "    # Add some text for labels, title and custom x-axis tick labels, etc.\n",
    "    ax.set_ylabel(ylabstr)\n",
    "    ax.set_title(titlestr)\n",
    "    ax.set_xticks(x + width, outputs)\n",
    "    ax.legend(loc='upper right', ncol=2)\n",
    "    #ax.set_ylim(0,4500)"
   ]
  },
  {
   "cell_type": "code",
   "execution_count": 74,
   "metadata": {},
   "outputs": [],
   "source": [
    "resultbygenes=resultsdf.divide(totalgenes, axis=0)"
   ]
  },
  {
   "cell_type": "code",
   "execution_count": null,
   "metadata": {},
   "outputs": [],
   "source": []
  },
  {
   "cell_type": "code",
   "execution_count": 90,
   "metadata": {},
   "outputs": [
    {
     "data": {
      "image/png": "[encoded data removed]",
      "text/plain": [
       "<Figure size 432x288 with 1 Axes>"
      ]
     },
     "metadata": {
      "needs_background": "light"
     },
     "output_type": "display_data"
    }
   ],
   "source": [
    "groupedbarchart(resultsdf, \"Annotations\", \"Conjugation and Transposon Related Annotations by Plasmid Detection Method\")"
   ]
  },
  {
   "cell_type": "code",
   "execution_count": 93,
   "metadata": {},
   "outputs": [
    {
     "data": {
      "image/png": "[encoded data removed]",
      "text/plain": [
       "<Figure size 432x288 with 1 Axes>"
      ]
     },
     "metadata": {
      "needs_background": "light"
     },
     "output_type": "display_data"
    }
   ],
   "source": [
    "groupedbarchart(resultbygenes, \"Annotations per Gene\", \"Conjugation and Transposon Related Annotations over Total Genes by Plasmid Detection Method\")"
   ]
  },
  {
   "cell_type": "code",
   "execution_count": 78,
   "metadata": {},
   "outputs": [],
   "source": [
    "keggphage=[726, 136, 631, 586, 65]\n",
    "pfamphage=[3415,271,3706,3072,228]\n",
    "keggribosome=[144,32,242,142,4]\n",
    "pfamribosome=[173,39,411,230,6]\n",
    "ribophagedf=pd.DataFrame({\n",
    "    'KEGG Phage': keggphage, 'Pfam Phage': pfamphage, 'KEGG Ribosome': keggribosome, 'Pfam Ribosome': pfamribosome})"
   ]
  },
  {
   "cell_type": "code",
   "execution_count": 98,
   "metadata": {},
   "outputs": [
    {
     "data": {
      "image/png": "[encoded data removed]",
      "text/plain": [
       "<Figure size 432x288 with 1 Axes>"
      ]
     },
     "metadata": {
      "needs_background": "light"
     },
     "output_type": "display_data"
    }
   ],
   "source": [
    "groupedbarchart(ribophagedf, \"Annotations\", \"Number of Phage and Ribosome Related Annotations by Detection Method\")"
   ]
  },
  {
   "cell_type": "code",
   "execution_count": 91,
   "metadata": {},
   "outputs": [],
   "source": [
    "ribophagebygene=ribophagedf.divide(totalgenes, axis=0)"
   ]
  },
  {
   "cell_type": "code",
   "execution_count": 103,
   "metadata": {},
   "outputs": [
    {
     "data": {
      "image/png": "[encoded data removed]",
      "text/plain": [
       "<Figure size 432x288 with 1 Axes>"
      ]
     },
     "metadata": {
      "needs_background": "light"
     },
     "output_type": "display_data"
    }
   ],
   "source": [
    "groupedbarchart(ribophagebygene, \"Annotations per Gene\", \"Phage and Ribosome Related Annotations over Total Genes by Plasmid Detection Method\")"
   ]
  },
  {
   "cell_type": "code",
   "execution_count": 65,
   "metadata": {},
   "outputs": [
    {
     "data": {
      "text/plain": [
       "<matplotlib.legend.Legend at 0x7ffa951400d0>"
      ]
     },
     "execution_count": 65,
     "metadata": {},
     "output_type": "execute_result"
    },
    {
     "data": {
      "image/png": "[encoded data removed]",
      "text/plain": [
       "<Figure size 432x288 with 1 Axes>"
      ]
     },
     "metadata": {
      "needs_background": "light"
     },
     "output_type": "display_data"
    }
   ],
   "source": [
    "outputs=['Unfiltered \\nPlaton', 'Filtered \\nPlaton', 'Default \\ngeNomad', 'Calibrated \\ngeNomad', 'Conservative \\ngeNomad']\n",
    "\n",
    "fig, ax = plt.subplots(layout='constrained')\n",
    "\n",
    "x = np.arange(len(outputs))\n",
    "width = 0.1  # the width of the bars\n",
    "multiplier = 0\n",
    "\n",
    "for attribute, measurement in resultsdf.items():\n",
    "    offset = width * multiplier\n",
    "    rects = ax.bar(x + offset, measurement, width, label=attribute)\n",
    "    #ax.bar_label(rects, padding=3)\n",
    "    multiplier += 1\n",
    "\n",
    "# Add some text for labels, title and custom x-axis tick labels, etc.\n",
    "ax.set_ylabel('Count')\n",
    "ax.set_title('Conjugation and Transposon Related Annotations by Plasmid Detection Method')\n",
    "ax.set_xticks(x + width, outputs)\n",
    "ax.legend(loc='upper left')\n",
    "#ax.set_ylim(0, 250)\n",
    "\n",
    "#plt.show()"
   ]
  },
  {
   "cell_type": "code",
   "execution_count": 44,
   "metadata": {},
   "outputs": [
    {
     "data": {
      "text/plain": [
       "<BarContainer object of 1 artists>"
      ]
     },
     "execution_count": 44,
     "metadata": {},
     "output_type": "execute_result"
    },
    {
     "data": {
      "image/png": "[encoded data removed]",
      "text/plain": [
       "<Figure size 432x288 with 1 Axes>"
      ]
     },
     "metadata": {
      "needs_background": "light"
     },
     "output_type": "display_data"
    }
   ],
   "source": [
    "plt.bar(4692, conservativegenomad.shape[0])"
   ]
  },
  {
   "cell_type": "code",
   "execution_count": 41,
   "metadata": {},
   "outputs": [
    {
     "data": {
      "text/plain": [
       "24205"
      ]
     },
     "execution_count": 41,
     "metadata": {},
     "output_type": "execute_result"
    }
   ],
   "source": [
    "conservativegenomad.shape[0]"
   ]
  }
 ],
 "metadata": {
  "kernelspec": {
   "display_name": "Python 3",
   "language": "python",
   "name": "python3"
  },
  "language_info": {
   "codemirror_mode": {
    "name": "ipython",
    "version": 3
   },
   "file_extension": ".py",
   "mimetype": "text/x-python",
   "name": "python",
   "nbconvert_exporter": "python",
   "pygments_lexer": "ipython3",
   "version": "3.7.11"
  }
 },
 "nbformat": 4,
 "nbformat_minor": 4
}
