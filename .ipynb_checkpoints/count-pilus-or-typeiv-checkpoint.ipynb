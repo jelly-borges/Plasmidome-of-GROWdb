{
 "cells": [
  {
   "cell_type": "code",
   "execution_count": 48,
   "metadata": {},
   "outputs": [],
   "source": [
    "import pandas as pd\n",
    "import re\n",
    "import matplotlib.pyplot as plt\n",
    "import numpy as np"
   ]
  },
  {
   "cell_type": "code",
   "execution_count": 49,
   "metadata": {},
   "outputs": [],
   "source": [
    "teststring=\"type IV conjugal pilus\"\n",
    "teststring2=\"nope\""
   ]
  },
  {
   "cell_type": "code",
   "execution_count": 50,
   "metadata": {},
   "outputs": [
    {
     "data": {
      "text/plain": [
       "<re.Match object; span=(0, 8), match='type iv '>"
      ]
     },
     "execution_count": 50,
     "metadata": {},
     "output_type": "execute_result"
    }
   ],
   "source": [
    "re.search(pattern=\".?type iv.?\", string=teststring.lower())"
   ]
  },
  {
   "cell_type": "code",
   "execution_count": 51,
   "metadata": {},
   "outputs": [],
   "source": [
    "re.search(pattern=\".?type iv.?\", string=teststring2.lower())"
   ]
  },
  {
   "cell_type": "code",
   "execution_count": 52,
   "metadata": {},
   "outputs": [
    {
     "data": {
      "text/html": [
       "<div>\n",
       "<style scoped>\n",
       "    .dataframe tbody tr th:only-of-type {\n",
       "        vertical-align: middle;\n",
       "    }\n",
       "\n",
       "    .dataframe tbody tr th {\n",
       "        vertical-align: top;\n",
       "    }\n",
       "\n",
       "    .dataframe thead th {\n",
       "        text-align: right;\n",
       "    }\n",
       "</style>\n",
       "<table border=\"1\" class=\"dataframe\">\n",
       "  <thead>\n",
       "    <tr style=\"text-align: right;\">\n",
       "      <th></th>\n",
       "      <th>Unnamed: 0</th>\n",
       "      <th>fasta</th>\n",
       "      <th>scaffold</th>\n",
       "      <th>gene_position</th>\n",
       "      <th>start_position</th>\n",
       "      <th>end_position</th>\n",
       "      <th>strandedness</th>\n",
       "      <th>rank</th>\n",
       "      <th>ko_id</th>\n",
       "      <th>kegg_hit</th>\n",
       "      <th>...</th>\n",
       "      <th>peptidase_RBH</th>\n",
       "      <th>peptidase_bitScore</th>\n",
       "      <th>peptidase_eVal</th>\n",
       "      <th>peptidase_identity</th>\n",
       "      <th>pfam_hits</th>\n",
       "      <th>cazy_ids</th>\n",
       "      <th>cazy_hits</th>\n",
       "      <th>cazy_subfam_ec</th>\n",
       "      <th>cazy_best_hit</th>\n",
       "      <th>heme_regulatory_motif_count</th>\n",
       "    </tr>\n",
       "  </thead>\n",
       "  <tbody>\n",
       "    <tr>\n",
       "      <th>0</th>\n",
       "      <td>NASQAN2010_127_B_1000_plasmid_conservative___k...</td>\n",
       "      <td>NASQAN2010_127_B_1000_plasmid_conservative__</td>\n",
       "      <td>k121_43221</td>\n",
       "      <td>1</td>\n",
       "      <td>1</td>\n",
       "      <td>1017</td>\n",
       "      <td>-1</td>\n",
       "      <td>E</td>\n",
       "      <td>NaN</td>\n",
       "      <td>NaN</td>\n",
       "      <td>...</td>\n",
       "      <td>NaN</td>\n",
       "      <td>NaN</td>\n",
       "      <td>NaN</td>\n",
       "      <td>NaN</td>\n",
       "      <td>NaN</td>\n",
       "      <td>NaN</td>\n",
       "      <td>NaN</td>\n",
       "      <td>NaN</td>\n",
       "      <td>NaN</td>\n",
       "      <td>0</td>\n",
       "    </tr>\n",
       "    <tr>\n",
       "      <th>1</th>\n",
       "      <td>NASQAN2010_127_B_1000_plasmid_conservative___k...</td>\n",
       "      <td>NASQAN2010_127_B_1000_plasmid_conservative__</td>\n",
       "      <td>k121_606620</td>\n",
       "      <td>1</td>\n",
       "      <td>1</td>\n",
       "      <td>1086</td>\n",
       "      <td>-1</td>\n",
       "      <td>D</td>\n",
       "      <td>NaN</td>\n",
       "      <td>NaN</td>\n",
       "      <td>...</td>\n",
       "      <td>NaN</td>\n",
       "      <td>NaN</td>\n",
       "      <td>NaN</td>\n",
       "      <td>NaN</td>\n",
       "      <td>MobA/MobL family [PF03389.18]</td>\n",
       "      <td>NaN</td>\n",
       "      <td>NaN</td>\n",
       "      <td>NaN</td>\n",
       "      <td>NaN</td>\n",
       "      <td>0</td>\n",
       "    </tr>\n",
       "    <tr>\n",
       "      <th>2</th>\n",
       "      <td>NASQAN2010_127_B_1000_plasmid_conservative___k...</td>\n",
       "      <td>NASQAN2010_127_B_1000_plasmid_conservative__</td>\n",
       "      <td>k121_634694</td>\n",
       "      <td>1</td>\n",
       "      <td>2</td>\n",
       "      <td>466</td>\n",
       "      <td>1</td>\n",
       "      <td>C</td>\n",
       "      <td>K08309</td>\n",
       "      <td>soluble lytic murein transglycosylase [EC:4.2....</td>\n",
       "      <td>...</td>\n",
       "      <td>False</td>\n",
       "      <td>85.0</td>\n",
       "      <td>4.429000e-18</td>\n",
       "      <td>0.618</td>\n",
       "      <td>Transglycosylase SLT domain [PF01464.23]</td>\n",
       "      <td>GH23</td>\n",
       "      <td>GH23 lysozyme type G (EC 3.2.1.17); peptidogly...</td>\n",
       "      <td>3.2.1.17,3.2.1.17_or_4.2.2.n1,4.2.2.n1</td>\n",
       "      <td>GH23.hmm</td>\n",
       "      <td>0</td>\n",
       "    </tr>\n",
       "    <tr>\n",
       "      <th>3</th>\n",
       "      <td>NASQAN2010_127_B_1000_plasmid_conservative___k...</td>\n",
       "      <td>NASQAN2010_127_B_1000_plasmid_conservative__</td>\n",
       "      <td>k121_634694</td>\n",
       "      <td>2</td>\n",
       "      <td>475</td>\n",
       "      <td>792</td>\n",
       "      <td>1</td>\n",
       "      <td>C</td>\n",
       "      <td>K03197</td>\n",
       "      <td>type IV secretion system protein VirB2</td>\n",
       "      <td>...</td>\n",
       "      <td>NaN</td>\n",
       "      <td>NaN</td>\n",
       "      <td>NaN</td>\n",
       "      <td>NaN</td>\n",
       "      <td>TrbC/VIRB2 pilin [PF04956.16]</td>\n",
       "      <td>NaN</td>\n",
       "      <td>NaN</td>\n",
       "      <td>NaN</td>\n",
       "      <td>NaN</td>\n",
       "      <td>0</td>\n",
       "    </tr>\n",
       "    <tr>\n",
       "      <th>4</th>\n",
       "      <td>NASQAN2010_127_B_1000_plasmid_conservative___k...</td>\n",
       "      <td>NASQAN2010_127_B_1000_plasmid_conservative__</td>\n",
       "      <td>k121_634694</td>\n",
       "      <td>3</td>\n",
       "      <td>796</td>\n",
       "      <td>1080</td>\n",
       "      <td>1</td>\n",
       "      <td>C</td>\n",
       "      <td>K03198</td>\n",
       "      <td>type IV secretion system protein VirB3</td>\n",
       "      <td>...</td>\n",
       "      <td>NaN</td>\n",
       "      <td>NaN</td>\n",
       "      <td>NaN</td>\n",
       "      <td>NaN</td>\n",
       "      <td>Type IV secretory pathway, VirB3-like protein ...</td>\n",
       "      <td>NaN</td>\n",
       "      <td>NaN</td>\n",
       "      <td>NaN</td>\n",
       "      <td>NaN</td>\n",
       "      <td>0</td>\n",
       "    </tr>\n",
       "  </tbody>\n",
       "</table>\n",
       "<p>5 rows × 23 columns</p>\n",
       "</div>"
      ],
      "text/plain": [
       "                                          Unnamed: 0  \\\n",
       "0  NASQAN2010_127_B_1000_plasmid_conservative___k...   \n",
       "1  NASQAN2010_127_B_1000_plasmid_conservative___k...   \n",
       "2  NASQAN2010_127_B_1000_plasmid_conservative___k...   \n",
       "3  NASQAN2010_127_B_1000_plasmid_conservative___k...   \n",
       "4  NASQAN2010_127_B_1000_plasmid_conservative___k...   \n",
       "\n",
       "                                          fasta     scaffold  gene_position  \\\n",
       "0  NASQAN2010_127_B_1000_plasmid_conservative__   k121_43221              1   \n",
       "1  NASQAN2010_127_B_1000_plasmid_conservative__  k121_606620              1   \n",
       "2  NASQAN2010_127_B_1000_plasmid_conservative__  k121_634694              1   \n",
       "3  NASQAN2010_127_B_1000_plasmid_conservative__  k121_634694              2   \n",
       "4  NASQAN2010_127_B_1000_plasmid_conservative__  k121_634694              3   \n",
       "\n",
       "   start_position  end_position  strandedness rank   ko_id  \\\n",
       "0               1          1017            -1    E     NaN   \n",
       "1               1          1086            -1    D     NaN   \n",
       "2               2           466             1    C  K08309   \n",
       "3             475           792             1    C  K03197   \n",
       "4             796          1080             1    C  K03198   \n",
       "\n",
       "                                            kegg_hit  ... peptidase_RBH  \\\n",
       "0                                                NaN  ...           NaN   \n",
       "1                                                NaN  ...           NaN   \n",
       "2  soluble lytic murein transglycosylase [EC:4.2....  ...         False   \n",
       "3             type IV secretion system protein VirB2  ...           NaN   \n",
       "4             type IV secretion system protein VirB3  ...           NaN   \n",
       "\n",
       "  peptidase_bitScore peptidase_eVal peptidase_identity  \\\n",
       "0                NaN            NaN                NaN   \n",
       "1                NaN            NaN                NaN   \n",
       "2               85.0   4.429000e-18              0.618   \n",
       "3                NaN            NaN                NaN   \n",
       "4                NaN            NaN                NaN   \n",
       "\n",
       "                                           pfam_hits  cazy_ids  \\\n",
       "0                                                NaN       NaN   \n",
       "1                      MobA/MobL family [PF03389.18]       NaN   \n",
       "2           Transglycosylase SLT domain [PF01464.23]      GH23   \n",
       "3                      TrbC/VIRB2 pilin [PF04956.16]       NaN   \n",
       "4  Type IV secretory pathway, VirB3-like protein ...       NaN   \n",
       "\n",
       "                                           cazy_hits  \\\n",
       "0                                                NaN   \n",
       "1                                                NaN   \n",
       "2  GH23 lysozyme type G (EC 3.2.1.17); peptidogly...   \n",
       "3                                                NaN   \n",
       "4                                                NaN   \n",
       "\n",
       "                           cazy_subfam_ec cazy_best_hit  \\\n",
       "0                                     NaN           NaN   \n",
       "1                                     NaN           NaN   \n",
       "2  3.2.1.17,3.2.1.17_or_4.2.2.n1,4.2.2.n1      GH23.hmm   \n",
       "3                                     NaN           NaN   \n",
       "4                                     NaN           NaN   \n",
       "\n",
       "  heme_regulatory_motif_count  \n",
       "0                           0  \n",
       "1                           0  \n",
       "2                           0  \n",
       "3                           0  \n",
       "4                           0  \n",
       "\n",
       "[5 rows x 23 columns]"
      ]
     },
     "execution_count": 52,
     "metadata": {},
     "output_type": "execute_result"
    }
   ],
   "source": [
    "conservativegenomad=pd.read_csv(\"conservative_annotations.tsv\", sep = \"\\t\")\n",
    "conservativegenomad.head()"
   ]
  },
  {
   "cell_type": "code",
   "execution_count": 53,
   "metadata": {},
   "outputs": [
    {
     "data": {
      "text/html": [
       "<div>\n",
       "<style scoped>\n",
       "    .dataframe tbody tr th:only-of-type {\n",
       "        vertical-align: middle;\n",
       "    }\n",
       "\n",
       "    .dataframe tbody tr th {\n",
       "        vertical-align: top;\n",
       "    }\n",
       "\n",
       "    .dataframe thead th {\n",
       "        text-align: right;\n",
       "    }\n",
       "</style>\n",
       "<table border=\"1\" class=\"dataframe\">\n",
       "  <thead>\n",
       "    <tr style=\"text-align: right;\">\n",
       "      <th></th>\n",
       "      <th>Unnamed: 0</th>\n",
       "      <th>fasta</th>\n",
       "      <th>scaffold</th>\n",
       "      <th>gene_position</th>\n",
       "      <th>start_position</th>\n",
       "      <th>end_position</th>\n",
       "      <th>strandedness</th>\n",
       "      <th>rank</th>\n",
       "      <th>ko_id</th>\n",
       "      <th>kegg_hit</th>\n",
       "      <th>...</th>\n",
       "      <th>peptidase_RBH</th>\n",
       "      <th>peptidase_identity</th>\n",
       "      <th>peptidase_bitScore</th>\n",
       "      <th>peptidase_eVal</th>\n",
       "      <th>pfam_hits</th>\n",
       "      <th>cazy_ids</th>\n",
       "      <th>cazy_hits</th>\n",
       "      <th>cazy_subfam_ec</th>\n",
       "      <th>cazy_best_hit</th>\n",
       "      <th>heme_regulatory_motif_count</th>\n",
       "    </tr>\n",
       "  </thead>\n",
       "  <tbody>\n",
       "    <tr>\n",
       "      <th>0</th>\n",
       "      <td>NASQAN2010_127_B_1000.plasmid___k121_108115_1</td>\n",
       "      <td>NASQAN2010_127_B_1000.plasmid__</td>\n",
       "      <td>k121_108115</td>\n",
       "      <td>1</td>\n",
       "      <td>128</td>\n",
       "      <td>1477</td>\n",
       "      <td>1</td>\n",
       "      <td>E</td>\n",
       "      <td>NaN</td>\n",
       "      <td>NaN</td>\n",
       "      <td>...</td>\n",
       "      <td>NaN</td>\n",
       "      <td>NaN</td>\n",
       "      <td>NaN</td>\n",
       "      <td>NaN</td>\n",
       "      <td>NaN</td>\n",
       "      <td>NaN</td>\n",
       "      <td>NaN</td>\n",
       "      <td>NaN</td>\n",
       "      <td>NaN</td>\n",
       "      <td>0</td>\n",
       "    </tr>\n",
       "    <tr>\n",
       "      <th>1</th>\n",
       "      <td>NASQAN2010_127_B_1000.plasmid___k121_108115_2</td>\n",
       "      <td>NASQAN2010_127_B_1000.plasmid__</td>\n",
       "      <td>k121_108115</td>\n",
       "      <td>2</td>\n",
       "      <td>1637</td>\n",
       "      <td>5449</td>\n",
       "      <td>1</td>\n",
       "      <td>D</td>\n",
       "      <td>NaN</td>\n",
       "      <td>NaN</td>\n",
       "      <td>...</td>\n",
       "      <td>NaN</td>\n",
       "      <td>NaN</td>\n",
       "      <td>NaN</td>\n",
       "      <td>NaN</td>\n",
       "      <td>Reverse transcriptase (RNA-dependent DNA polym...</td>\n",
       "      <td>NaN</td>\n",
       "      <td>NaN</td>\n",
       "      <td>NaN</td>\n",
       "      <td>NaN</td>\n",
       "      <td>0</td>\n",
       "    </tr>\n",
       "    <tr>\n",
       "      <th>2</th>\n",
       "      <td>NASQAN2010_127_B_1000.plasmid___k121_108115_3</td>\n",
       "      <td>NASQAN2010_127_B_1000.plasmid__</td>\n",
       "      <td>k121_108115</td>\n",
       "      <td>3</td>\n",
       "      <td>5553</td>\n",
       "      <td>5747</td>\n",
       "      <td>-1</td>\n",
       "      <td>E</td>\n",
       "      <td>NaN</td>\n",
       "      <td>NaN</td>\n",
       "      <td>...</td>\n",
       "      <td>NaN</td>\n",
       "      <td>NaN</td>\n",
       "      <td>NaN</td>\n",
       "      <td>NaN</td>\n",
       "      <td>NaN</td>\n",
       "      <td>NaN</td>\n",
       "      <td>NaN</td>\n",
       "      <td>NaN</td>\n",
       "      <td>NaN</td>\n",
       "      <td>0</td>\n",
       "    </tr>\n",
       "    <tr>\n",
       "      <th>3</th>\n",
       "      <td>NASQAN2010_127_B_1000.plasmid___k121_180373_1</td>\n",
       "      <td>NASQAN2010_127_B_1000.plasmid__</td>\n",
       "      <td>k121_180373</td>\n",
       "      <td>1</td>\n",
       "      <td>2</td>\n",
       "      <td>2800</td>\n",
       "      <td>1</td>\n",
       "      <td>D</td>\n",
       "      <td>NaN</td>\n",
       "      <td>NaN</td>\n",
       "      <td>...</td>\n",
       "      <td>NaN</td>\n",
       "      <td>NaN</td>\n",
       "      <td>NaN</td>\n",
       "      <td>NaN</td>\n",
       "      <td>Reverse transcriptase (RNA-dependent DNA polym...</td>\n",
       "      <td>NaN</td>\n",
       "      <td>NaN</td>\n",
       "      <td>NaN</td>\n",
       "      <td>NaN</td>\n",
       "      <td>0</td>\n",
       "    </tr>\n",
       "    <tr>\n",
       "      <th>4</th>\n",
       "      <td>NASQAN2010_127_B_1000.plasmid___k121_180373_2</td>\n",
       "      <td>NASQAN2010_127_B_1000.plasmid__</td>\n",
       "      <td>k121_180373</td>\n",
       "      <td>2</td>\n",
       "      <td>3124</td>\n",
       "      <td>6504</td>\n",
       "      <td>1</td>\n",
       "      <td>E</td>\n",
       "      <td>NaN</td>\n",
       "      <td>NaN</td>\n",
       "      <td>...</td>\n",
       "      <td>NaN</td>\n",
       "      <td>NaN</td>\n",
       "      <td>NaN</td>\n",
       "      <td>NaN</td>\n",
       "      <td>NaN</td>\n",
       "      <td>NaN</td>\n",
       "      <td>NaN</td>\n",
       "      <td>NaN</td>\n",
       "      <td>NaN</td>\n",
       "      <td>0</td>\n",
       "    </tr>\n",
       "  </tbody>\n",
       "</table>\n",
       "<p>5 rows × 23 columns</p>\n",
       "</div>"
      ],
      "text/plain": [
       "                                      Unnamed: 0  \\\n",
       "0  NASQAN2010_127_B_1000.plasmid___k121_108115_1   \n",
       "1  NASQAN2010_127_B_1000.plasmid___k121_108115_2   \n",
       "2  NASQAN2010_127_B_1000.plasmid___k121_108115_3   \n",
       "3  NASQAN2010_127_B_1000.plasmid___k121_180373_1   \n",
       "4  NASQAN2010_127_B_1000.plasmid___k121_180373_2   \n",
       "\n",
       "                             fasta     scaffold  gene_position  \\\n",
       "0  NASQAN2010_127_B_1000.plasmid__  k121_108115              1   \n",
       "1  NASQAN2010_127_B_1000.plasmid__  k121_108115              2   \n",
       "2  NASQAN2010_127_B_1000.plasmid__  k121_108115              3   \n",
       "3  NASQAN2010_127_B_1000.plasmid__  k121_180373              1   \n",
       "4  NASQAN2010_127_B_1000.plasmid__  k121_180373              2   \n",
       "\n",
       "   start_position  end_position  strandedness rank ko_id kegg_hit  ...  \\\n",
       "0             128          1477             1    E   NaN      NaN  ...   \n",
       "1            1637          5449             1    D   NaN      NaN  ...   \n",
       "2            5553          5747            -1    E   NaN      NaN  ...   \n",
       "3               2          2800             1    D   NaN      NaN  ...   \n",
       "4            3124          6504             1    E   NaN      NaN  ...   \n",
       "\n",
       "  peptidase_RBH peptidase_identity peptidase_bitScore peptidase_eVal  \\\n",
       "0           NaN                NaN                NaN            NaN   \n",
       "1           NaN                NaN                NaN            NaN   \n",
       "2           NaN                NaN                NaN            NaN   \n",
       "3           NaN                NaN                NaN            NaN   \n",
       "4           NaN                NaN                NaN            NaN   \n",
       "\n",
       "                                           pfam_hits  cazy_ids  cazy_hits  \\\n",
       "0                                                NaN       NaN        NaN   \n",
       "1  Reverse transcriptase (RNA-dependent DNA polym...       NaN        NaN   \n",
       "2                                                NaN       NaN        NaN   \n",
       "3  Reverse transcriptase (RNA-dependent DNA polym...       NaN        NaN   \n",
       "4                                                NaN       NaN        NaN   \n",
       "\n",
       "  cazy_subfam_ec cazy_best_hit heme_regulatory_motif_count  \n",
       "0            NaN           NaN                           0  \n",
       "1            NaN           NaN                           0  \n",
       "2            NaN           NaN                           0  \n",
       "3            NaN           NaN                           0  \n",
       "4            NaN           NaN                           0  \n",
       "\n",
       "[5 rows x 23 columns]"
      ]
     },
     "execution_count": 53,
     "metadata": {},
     "output_type": "execute_result"
    }
   ],
   "source": [
    "unfilteredplaton=pd.read_csv(\"GROWunfilteredplatonannotations.tsv\", sep = \"\\t\")\n",
    "unfilteredplaton.head()"
   ]
  },
  {
   "cell_type": "code",
   "execution_count": 54,
   "metadata": {},
   "outputs": [
    {
     "data": {
      "text/html": [
       "<div>\n",
       "<style scoped>\n",
       "    .dataframe tbody tr th:only-of-type {\n",
       "        vertical-align: middle;\n",
       "    }\n",
       "\n",
       "    .dataframe tbody tr th {\n",
       "        vertical-align: top;\n",
       "    }\n",
       "\n",
       "    .dataframe thead th {\n",
       "        text-align: right;\n",
       "    }\n",
       "</style>\n",
       "<table border=\"1\" class=\"dataframe\">\n",
       "  <thead>\n",
       "    <tr style=\"text-align: right;\">\n",
       "      <th></th>\n",
       "      <th>Unnamed: 0</th>\n",
       "      <th>fasta</th>\n",
       "      <th>scaffold</th>\n",
       "      <th>gene_position</th>\n",
       "      <th>start_position</th>\n",
       "      <th>end_position</th>\n",
       "      <th>strandedness</th>\n",
       "      <th>rank</th>\n",
       "      <th>ko_id</th>\n",
       "      <th>kegg_hit</th>\n",
       "      <th>...</th>\n",
       "      <th>peptidase_RBH</th>\n",
       "      <th>peptidase_identity</th>\n",
       "      <th>peptidase_bitScore</th>\n",
       "      <th>peptidase_eVal</th>\n",
       "      <th>pfam_hits</th>\n",
       "      <th>cazy_ids</th>\n",
       "      <th>cazy_hits</th>\n",
       "      <th>cazy_subfam_ec</th>\n",
       "      <th>cazy_best_hit</th>\n",
       "      <th>heme_regulatory_motif_count</th>\n",
       "    </tr>\n",
       "  </thead>\n",
       "  <tbody>\n",
       "    <tr>\n",
       "      <th>0</th>\n",
       "      <td>NASQAN2010_121_B_1000_plasmid___k121_111206_1</td>\n",
       "      <td>NASQAN2010_121_B_1000_plasmid__</td>\n",
       "      <td>k121_111206</td>\n",
       "      <td>1</td>\n",
       "      <td>1</td>\n",
       "      <td>522</td>\n",
       "      <td>1</td>\n",
       "      <td>D</td>\n",
       "      <td>NaN</td>\n",
       "      <td>NaN</td>\n",
       "      <td>...</td>\n",
       "      <td>NaN</td>\n",
       "      <td>NaN</td>\n",
       "      <td>NaN</td>\n",
       "      <td>NaN</td>\n",
       "      <td>Binding-protein-dependent transport system inn...</td>\n",
       "      <td>NaN</td>\n",
       "      <td>NaN</td>\n",
       "      <td>NaN</td>\n",
       "      <td>NaN</td>\n",
       "      <td>0</td>\n",
       "    </tr>\n",
       "    <tr>\n",
       "      <th>1</th>\n",
       "      <td>NASQAN2010_121_B_1000_plasmid___k121_111206_2</td>\n",
       "      <td>NASQAN2010_121_B_1000_plasmid__</td>\n",
       "      <td>k121_111206</td>\n",
       "      <td>2</td>\n",
       "      <td>519</td>\n",
       "      <td>1400</td>\n",
       "      <td>1</td>\n",
       "      <td>C</td>\n",
       "      <td>K17317</td>\n",
       "      <td>glucose/mannose transport system permease protein</td>\n",
       "      <td>...</td>\n",
       "      <td>NaN</td>\n",
       "      <td>NaN</td>\n",
       "      <td>NaN</td>\n",
       "      <td>NaN</td>\n",
       "      <td>Binding-protein-dependent transport system inn...</td>\n",
       "      <td>NaN</td>\n",
       "      <td>NaN</td>\n",
       "      <td>NaN</td>\n",
       "      <td>NaN</td>\n",
       "      <td>0</td>\n",
       "    </tr>\n",
       "    <tr>\n",
       "      <th>2</th>\n",
       "      <td>NASQAN2010_121_B_1000_plasmid___k121_111206_3</td>\n",
       "      <td>NASQAN2010_121_B_1000_plasmid__</td>\n",
       "      <td>k121_111206</td>\n",
       "      <td>3</td>\n",
       "      <td>1404</td>\n",
       "      <td>2516</td>\n",
       "      <td>1</td>\n",
       "      <td>C</td>\n",
       "      <td>K10112</td>\n",
       "      <td>multiple sugar transport system ATP-binding pr...</td>\n",
       "      <td>...</td>\n",
       "      <td>NaN</td>\n",
       "      <td>NaN</td>\n",
       "      <td>NaN</td>\n",
       "      <td>NaN</td>\n",
       "      <td>ABC transporter [PF00005.30]; MalK OB fold dom...</td>\n",
       "      <td>NaN</td>\n",
       "      <td>NaN</td>\n",
       "      <td>NaN</td>\n",
       "      <td>NaN</td>\n",
       "      <td>0</td>\n",
       "    </tr>\n",
       "    <tr>\n",
       "      <th>3</th>\n",
       "      <td>NASQAN2010_121_B_1000_plasmid___k121_111206_4</td>\n",
       "      <td>NASQAN2010_121_B_1000_plasmid__</td>\n",
       "      <td>k121_111206</td>\n",
       "      <td>4</td>\n",
       "      <td>2513</td>\n",
       "      <td>3157</td>\n",
       "      <td>1</td>\n",
       "      <td>D</td>\n",
       "      <td>NaN</td>\n",
       "      <td>NaN</td>\n",
       "      <td>...</td>\n",
       "      <td>NaN</td>\n",
       "      <td>NaN</td>\n",
       "      <td>NaN</td>\n",
       "      <td>NaN</td>\n",
       "      <td>GMC oxidoreductase [PF00732.22]; FAD binding d...</td>\n",
       "      <td>NaN</td>\n",
       "      <td>NaN</td>\n",
       "      <td>NaN</td>\n",
       "      <td>NaN</td>\n",
       "      <td>0</td>\n",
       "    </tr>\n",
       "    <tr>\n",
       "      <th>4</th>\n",
       "      <td>NASQAN2010_121_B_1000_plasmid___k121_113216_1</td>\n",
       "      <td>NASQAN2010_121_B_1000_plasmid__</td>\n",
       "      <td>k121_113216</td>\n",
       "      <td>1</td>\n",
       "      <td>2</td>\n",
       "      <td>448</td>\n",
       "      <td>-1</td>\n",
       "      <td>D</td>\n",
       "      <td>NaN</td>\n",
       "      <td>NaN</td>\n",
       "      <td>...</td>\n",
       "      <td>NaN</td>\n",
       "      <td>NaN</td>\n",
       "      <td>NaN</td>\n",
       "      <td>NaN</td>\n",
       "      <td>Chromate resistance exported protein [PF09828....</td>\n",
       "      <td>NaN</td>\n",
       "      <td>NaN</td>\n",
       "      <td>NaN</td>\n",
       "      <td>NaN</td>\n",
       "      <td>0</td>\n",
       "    </tr>\n",
       "  </tbody>\n",
       "</table>\n",
       "<p>5 rows × 23 columns</p>\n",
       "</div>"
      ],
      "text/plain": [
       "                                      Unnamed: 0  \\\n",
       "0  NASQAN2010_121_B_1000_plasmid___k121_111206_1   \n",
       "1  NASQAN2010_121_B_1000_plasmid___k121_111206_2   \n",
       "2  NASQAN2010_121_B_1000_plasmid___k121_111206_3   \n",
       "3  NASQAN2010_121_B_1000_plasmid___k121_111206_4   \n",
       "4  NASQAN2010_121_B_1000_plasmid___k121_113216_1   \n",
       "\n",
       "                             fasta     scaffold  gene_position  \\\n",
       "0  NASQAN2010_121_B_1000_plasmid__  k121_111206              1   \n",
       "1  NASQAN2010_121_B_1000_plasmid__  k121_111206              2   \n",
       "2  NASQAN2010_121_B_1000_plasmid__  k121_111206              3   \n",
       "3  NASQAN2010_121_B_1000_plasmid__  k121_111206              4   \n",
       "4  NASQAN2010_121_B_1000_plasmid__  k121_113216              1   \n",
       "\n",
       "   start_position  end_position  strandedness rank   ko_id  \\\n",
       "0               1           522             1    D     NaN   \n",
       "1             519          1400             1    C  K17317   \n",
       "2            1404          2516             1    C  K10112   \n",
       "3            2513          3157             1    D     NaN   \n",
       "4               2           448            -1    D     NaN   \n",
       "\n",
       "                                            kegg_hit  ... peptidase_RBH  \\\n",
       "0                                                NaN  ...           NaN   \n",
       "1  glucose/mannose transport system permease protein  ...           NaN   \n",
       "2  multiple sugar transport system ATP-binding pr...  ...           NaN   \n",
       "3                                                NaN  ...           NaN   \n",
       "4                                                NaN  ...           NaN   \n",
       "\n",
       "  peptidase_identity peptidase_bitScore peptidase_eVal  \\\n",
       "0                NaN                NaN            NaN   \n",
       "1                NaN                NaN            NaN   \n",
       "2                NaN                NaN            NaN   \n",
       "3                NaN                NaN            NaN   \n",
       "4                NaN                NaN            NaN   \n",
       "\n",
       "                                           pfam_hits  cazy_ids  cazy_hits  \\\n",
       "0  Binding-protein-dependent transport system inn...       NaN        NaN   \n",
       "1  Binding-protein-dependent transport system inn...       NaN        NaN   \n",
       "2  ABC transporter [PF00005.30]; MalK OB fold dom...       NaN        NaN   \n",
       "3  GMC oxidoreductase [PF00732.22]; FAD binding d...       NaN        NaN   \n",
       "4  Chromate resistance exported protein [PF09828....       NaN        NaN   \n",
       "\n",
       "  cazy_subfam_ec cazy_best_hit heme_regulatory_motif_count  \n",
       "0            NaN           NaN                           0  \n",
       "1            NaN           NaN                           0  \n",
       "2            NaN           NaN                           0  \n",
       "3            NaN           NaN                           0  \n",
       "4            NaN           NaN                           0  \n",
       "\n",
       "[5 rows x 23 columns]"
      ]
     },
     "execution_count": 54,
     "metadata": {},
     "output_type": "execute_result"
    }
   ],
   "source": [
    "defaultgenomad=pd.read_csv(\"genomad_annotations.tsv\", sep=\"\\t\")\n",
    "defaultgenomad.head()"
   ]
  },
  {
   "cell_type": "code",
   "execution_count": 55,
   "metadata": {},
   "outputs": [
    {
     "data": {
      "text/html": [
       "<div>\n",
       "<style scoped>\n",
       "    .dataframe tbody tr th:only-of-type {\n",
       "        vertical-align: middle;\n",
       "    }\n",
       "\n",
       "    .dataframe tbody tr th {\n",
       "        vertical-align: top;\n",
       "    }\n",
       "\n",
       "    .dataframe thead th {\n",
       "        text-align: right;\n",
       "    }\n",
       "</style>\n",
       "<table border=\"1\" class=\"dataframe\">\n",
       "  <thead>\n",
       "    <tr style=\"text-align: right;\">\n",
       "      <th></th>\n",
       "      <th>Unnamed: 0</th>\n",
       "      <th>fasta</th>\n",
       "      <th>scaffold</th>\n",
       "      <th>gene_position</th>\n",
       "      <th>start_position</th>\n",
       "      <th>end_position</th>\n",
       "      <th>strandedness</th>\n",
       "      <th>rank</th>\n",
       "      <th>ko_id</th>\n",
       "      <th>kegg_hit</th>\n",
       "      <th>...</th>\n",
       "      <th>peptidase_RBH</th>\n",
       "      <th>peptidase_identity</th>\n",
       "      <th>peptidase_bitScore</th>\n",
       "      <th>peptidase_eVal</th>\n",
       "      <th>pfam_hits</th>\n",
       "      <th>heme_regulatory_motif_count</th>\n",
       "      <th>cazy_ids</th>\n",
       "      <th>cazy_hits</th>\n",
       "      <th>cazy_subfam_ec</th>\n",
       "      <th>cazy_best_hit</th>\n",
       "    </tr>\n",
       "  </thead>\n",
       "  <tbody>\n",
       "    <tr>\n",
       "      <th>0</th>\n",
       "      <td>NASQAN2010_121_B_1000_plasmid_calibrated___k12...</td>\n",
       "      <td>NASQAN2010_121_B_1000_plasmid_calibrated__</td>\n",
       "      <td>k121_111206</td>\n",
       "      <td>1</td>\n",
       "      <td>1</td>\n",
       "      <td>522</td>\n",
       "      <td>1</td>\n",
       "      <td>D</td>\n",
       "      <td>NaN</td>\n",
       "      <td>NaN</td>\n",
       "      <td>...</td>\n",
       "      <td>NaN</td>\n",
       "      <td>NaN</td>\n",
       "      <td>NaN</td>\n",
       "      <td>NaN</td>\n",
       "      <td>Binding-protein-dependent transport system inn...</td>\n",
       "      <td>0</td>\n",
       "      <td>NaN</td>\n",
       "      <td>NaN</td>\n",
       "      <td>NaN</td>\n",
       "      <td>NaN</td>\n",
       "    </tr>\n",
       "    <tr>\n",
       "      <th>1</th>\n",
       "      <td>NASQAN2010_121_B_1000_plasmid_calibrated___k12...</td>\n",
       "      <td>NASQAN2010_121_B_1000_plasmid_calibrated__</td>\n",
       "      <td>k121_111206</td>\n",
       "      <td>2</td>\n",
       "      <td>519</td>\n",
       "      <td>1400</td>\n",
       "      <td>1</td>\n",
       "      <td>C</td>\n",
       "      <td>K17317</td>\n",
       "      <td>glucose/mannose transport system permease protein</td>\n",
       "      <td>...</td>\n",
       "      <td>NaN</td>\n",
       "      <td>NaN</td>\n",
       "      <td>NaN</td>\n",
       "      <td>NaN</td>\n",
       "      <td>Binding-protein-dependent transport system inn...</td>\n",
       "      <td>0</td>\n",
       "      <td>NaN</td>\n",
       "      <td>NaN</td>\n",
       "      <td>NaN</td>\n",
       "      <td>NaN</td>\n",
       "    </tr>\n",
       "    <tr>\n",
       "      <th>2</th>\n",
       "      <td>NASQAN2010_121_B_1000_plasmid_calibrated___k12...</td>\n",
       "      <td>NASQAN2010_121_B_1000_plasmid_calibrated__</td>\n",
       "      <td>k121_111206</td>\n",
       "      <td>3</td>\n",
       "      <td>1404</td>\n",
       "      <td>2516</td>\n",
       "      <td>1</td>\n",
       "      <td>C</td>\n",
       "      <td>K10112</td>\n",
       "      <td>multiple sugar transport system ATP-binding pr...</td>\n",
       "      <td>...</td>\n",
       "      <td>NaN</td>\n",
       "      <td>NaN</td>\n",
       "      <td>NaN</td>\n",
       "      <td>NaN</td>\n",
       "      <td>ABC transporter [PF00005.30]; MalK OB fold dom...</td>\n",
       "      <td>0</td>\n",
       "      <td>NaN</td>\n",
       "      <td>NaN</td>\n",
       "      <td>NaN</td>\n",
       "      <td>NaN</td>\n",
       "    </tr>\n",
       "    <tr>\n",
       "      <th>3</th>\n",
       "      <td>NASQAN2010_121_B_1000_plasmid_calibrated___k12...</td>\n",
       "      <td>NASQAN2010_121_B_1000_plasmid_calibrated__</td>\n",
       "      <td>k121_111206</td>\n",
       "      <td>4</td>\n",
       "      <td>2513</td>\n",
       "      <td>3157</td>\n",
       "      <td>1</td>\n",
       "      <td>D</td>\n",
       "      <td>NaN</td>\n",
       "      <td>NaN</td>\n",
       "      <td>...</td>\n",
       "      <td>NaN</td>\n",
       "      <td>NaN</td>\n",
       "      <td>NaN</td>\n",
       "      <td>NaN</td>\n",
       "      <td>GMC oxidoreductase [PF00732.22]; FAD binding d...</td>\n",
       "      <td>0</td>\n",
       "      <td>NaN</td>\n",
       "      <td>NaN</td>\n",
       "      <td>NaN</td>\n",
       "      <td>NaN</td>\n",
       "    </tr>\n",
       "    <tr>\n",
       "      <th>4</th>\n",
       "      <td>NASQAN2010_121_B_1000_plasmid_calibrated___k12...</td>\n",
       "      <td>NASQAN2010_121_B_1000_plasmid_calibrated__</td>\n",
       "      <td>k121_126471</td>\n",
       "      <td>1</td>\n",
       "      <td>1</td>\n",
       "      <td>393</td>\n",
       "      <td>-1</td>\n",
       "      <td>E</td>\n",
       "      <td>NaN</td>\n",
       "      <td>NaN</td>\n",
       "      <td>...</td>\n",
       "      <td>NaN</td>\n",
       "      <td>NaN</td>\n",
       "      <td>NaN</td>\n",
       "      <td>NaN</td>\n",
       "      <td>NaN</td>\n",
       "      <td>0</td>\n",
       "      <td>NaN</td>\n",
       "      <td>NaN</td>\n",
       "      <td>NaN</td>\n",
       "      <td>NaN</td>\n",
       "    </tr>\n",
       "  </tbody>\n",
       "</table>\n",
       "<p>5 rows × 23 columns</p>\n",
       "</div>"
      ],
      "text/plain": [
       "                                          Unnamed: 0  \\\n",
       "0  NASQAN2010_121_B_1000_plasmid_calibrated___k12...   \n",
       "1  NASQAN2010_121_B_1000_plasmid_calibrated___k12...   \n",
       "2  NASQAN2010_121_B_1000_plasmid_calibrated___k12...   \n",
       "3  NASQAN2010_121_B_1000_plasmid_calibrated___k12...   \n",
       "4  NASQAN2010_121_B_1000_plasmid_calibrated___k12...   \n",
       "\n",
       "                                        fasta     scaffold  gene_position  \\\n",
       "0  NASQAN2010_121_B_1000_plasmid_calibrated__  k121_111206              1   \n",
       "1  NASQAN2010_121_B_1000_plasmid_calibrated__  k121_111206              2   \n",
       "2  NASQAN2010_121_B_1000_plasmid_calibrated__  k121_111206              3   \n",
       "3  NASQAN2010_121_B_1000_plasmid_calibrated__  k121_111206              4   \n",
       "4  NASQAN2010_121_B_1000_plasmid_calibrated__  k121_126471              1   \n",
       "\n",
       "   start_position  end_position  strandedness rank   ko_id  \\\n",
       "0               1           522             1    D     NaN   \n",
       "1             519          1400             1    C  K17317   \n",
       "2            1404          2516             1    C  K10112   \n",
       "3            2513          3157             1    D     NaN   \n",
       "4               1           393            -1    E     NaN   \n",
       "\n",
       "                                            kegg_hit  ... peptidase_RBH  \\\n",
       "0                                                NaN  ...           NaN   \n",
       "1  glucose/mannose transport system permease protein  ...           NaN   \n",
       "2  multiple sugar transport system ATP-binding pr...  ...           NaN   \n",
       "3                                                NaN  ...           NaN   \n",
       "4                                                NaN  ...           NaN   \n",
       "\n",
       "  peptidase_identity peptidase_bitScore peptidase_eVal  \\\n",
       "0                NaN                NaN            NaN   \n",
       "1                NaN                NaN            NaN   \n",
       "2                NaN                NaN            NaN   \n",
       "3                NaN                NaN            NaN   \n",
       "4                NaN                NaN            NaN   \n",
       "\n",
       "                                           pfam_hits  \\\n",
       "0  Binding-protein-dependent transport system inn...   \n",
       "1  Binding-protein-dependent transport system inn...   \n",
       "2  ABC transporter [PF00005.30]; MalK OB fold dom...   \n",
       "3  GMC oxidoreductase [PF00732.22]; FAD binding d...   \n",
       "4                                                NaN   \n",
       "\n",
       "   heme_regulatory_motif_count  cazy_ids cazy_hits  cazy_subfam_ec  \\\n",
       "0                            0       NaN       NaN             NaN   \n",
       "1                            0       NaN       NaN             NaN   \n",
       "2                            0       NaN       NaN             NaN   \n",
       "3                            0       NaN       NaN             NaN   \n",
       "4                            0       NaN       NaN             NaN   \n",
       "\n",
       "  cazy_best_hit  \n",
       "0           NaN  \n",
       "1           NaN  \n",
       "2           NaN  \n",
       "3           NaN  \n",
       "4           NaN  \n",
       "\n",
       "[5 rows x 23 columns]"
      ]
     },
     "execution_count": 55,
     "metadata": {},
     "output_type": "execute_result"
    }
   ],
   "source": [
    "calibratedgenomad=pd.read_csv(\"calibratedgenomadannotations.tsv\", sep=\"\\t\")\n",
    "calibratedgenomad.head()"
   ]
  },
  {
   "cell_type": "code",
   "execution_count": 56,
   "metadata": {},
   "outputs": [
    {
     "data": {
      "text/html": [
       "<div>\n",
       "<style scoped>\n",
       "    .dataframe tbody tr th:only-of-type {\n",
       "        vertical-align: middle;\n",
       "    }\n",
       "\n",
       "    .dataframe tbody tr th {\n",
       "        vertical-align: top;\n",
       "    }\n",
       "\n",
       "    .dataframe thead th {\n",
       "        text-align: right;\n",
       "    }\n",
       "</style>\n",
       "<table border=\"1\" class=\"dataframe\">\n",
       "  <thead>\n",
       "    <tr style=\"text-align: right;\">\n",
       "      <th></th>\n",
       "      <th>Unnamed: 0</th>\n",
       "      <th>Unnamed: 0.1</th>\n",
       "      <th>fasta</th>\n",
       "      <th>scaffold</th>\n",
       "      <th>gene_position</th>\n",
       "      <th>start_position</th>\n",
       "      <th>end_position</th>\n",
       "      <th>strandedness</th>\n",
       "      <th>rank</th>\n",
       "      <th>ko_id</th>\n",
       "      <th>...</th>\n",
       "      <th>peptidase_RBH</th>\n",
       "      <th>peptidase_identity</th>\n",
       "      <th>peptidase_bitScore</th>\n",
       "      <th>peptidase_eVal</th>\n",
       "      <th>pfam_hits</th>\n",
       "      <th>cazy_ids</th>\n",
       "      <th>cazy_hits</th>\n",
       "      <th>cazy_subfam_ec</th>\n",
       "      <th>cazy_best_hit</th>\n",
       "      <th>heme_regulatory_motif_count</th>\n",
       "    </tr>\n",
       "  </thead>\n",
       "  <tbody>\n",
       "    <tr>\n",
       "      <th>0</th>\n",
       "      <td>14746</td>\n",
       "      <td>altamaha_2019_sw_WHONDRS-S19S_0010_B_1000.plas...</td>\n",
       "      <td>altamaha_2019_sw_WHONDRS-S19S_0010_B_1000.plas...</td>\n",
       "      <td>k121_1081908</td>\n",
       "      <td>1</td>\n",
       "      <td>95</td>\n",
       "      <td>469</td>\n",
       "      <td>-1</td>\n",
       "      <td>E</td>\n",
       "      <td>NaN</td>\n",
       "      <td>...</td>\n",
       "      <td>NaN</td>\n",
       "      <td>NaN</td>\n",
       "      <td>NaN</td>\n",
       "      <td>NaN</td>\n",
       "      <td>NaN</td>\n",
       "      <td>NaN</td>\n",
       "      <td>NaN</td>\n",
       "      <td>NaN</td>\n",
       "      <td>NaN</td>\n",
       "      <td>0</td>\n",
       "    </tr>\n",
       "    <tr>\n",
       "      <th>1</th>\n",
       "      <td>14747</td>\n",
       "      <td>altamaha_2019_sw_WHONDRS-S19S_0010_B_1000.plas...</td>\n",
       "      <td>altamaha_2019_sw_WHONDRS-S19S_0010_B_1000.plas...</td>\n",
       "      <td>k121_1081908</td>\n",
       "      <td>2</td>\n",
       "      <td>551</td>\n",
       "      <td>1294</td>\n",
       "      <td>-1</td>\n",
       "      <td>D</td>\n",
       "      <td>NaN</td>\n",
       "      <td>...</td>\n",
       "      <td>NaN</td>\n",
       "      <td>NaN</td>\n",
       "      <td>NaN</td>\n",
       "      <td>NaN</td>\n",
       "      <td>IstB-like ATP binding protein [PF01695.20]; Ba...</td>\n",
       "      <td>NaN</td>\n",
       "      <td>NaN</td>\n",
       "      <td>NaN</td>\n",
       "      <td>NaN</td>\n",
       "      <td>0</td>\n",
       "    </tr>\n",
       "    <tr>\n",
       "      <th>2</th>\n",
       "      <td>14748</td>\n",
       "      <td>altamaha_2019_sw_WHONDRS-S19S_0010_B_1000.plas...</td>\n",
       "      <td>altamaha_2019_sw_WHONDRS-S19S_0010_B_1000.plas...</td>\n",
       "      <td>k121_1081908</td>\n",
       "      <td>3</td>\n",
       "      <td>1309</td>\n",
       "      <td>2844</td>\n",
       "      <td>-1</td>\n",
       "      <td>E</td>\n",
       "      <td>NaN</td>\n",
       "      <td>...</td>\n",
       "      <td>NaN</td>\n",
       "      <td>NaN</td>\n",
       "      <td>NaN</td>\n",
       "      <td>NaN</td>\n",
       "      <td>NaN</td>\n",
       "      <td>NaN</td>\n",
       "      <td>NaN</td>\n",
       "      <td>NaN</td>\n",
       "      <td>NaN</td>\n",
       "      <td>0</td>\n",
       "    </tr>\n",
       "    <tr>\n",
       "      <th>3</th>\n",
       "      <td>15061</td>\n",
       "      <td>altamaha_2019_sw_WHONDRS-S19S_0010_B_1000.plas...</td>\n",
       "      <td>altamaha_2019_sw_WHONDRS-S19S_0010_B_1000.plas...</td>\n",
       "      <td>k121_1310888</td>\n",
       "      <td>1</td>\n",
       "      <td>522</td>\n",
       "      <td>3437</td>\n",
       "      <td>1</td>\n",
       "      <td>D</td>\n",
       "      <td>NaN</td>\n",
       "      <td>...</td>\n",
       "      <td>NaN</td>\n",
       "      <td>NaN</td>\n",
       "      <td>NaN</td>\n",
       "      <td>NaN</td>\n",
       "      <td>Tn3 transposase DDE domain [PF01526.20]; Domai...</td>\n",
       "      <td>NaN</td>\n",
       "      <td>NaN</td>\n",
       "      <td>NaN</td>\n",
       "      <td>NaN</td>\n",
       "      <td>0</td>\n",
       "    </tr>\n",
       "    <tr>\n",
       "      <th>4</th>\n",
       "      <td>15062</td>\n",
       "      <td>altamaha_2019_sw_WHONDRS-S19S_0010_B_1000.plas...</td>\n",
       "      <td>altamaha_2019_sw_WHONDRS-S19S_0010_B_1000.plas...</td>\n",
       "      <td>k121_1310888</td>\n",
       "      <td>2</td>\n",
       "      <td>3531</td>\n",
       "      <td>3701</td>\n",
       "      <td>1</td>\n",
       "      <td>E</td>\n",
       "      <td>NaN</td>\n",
       "      <td>...</td>\n",
       "      <td>NaN</td>\n",
       "      <td>NaN</td>\n",
       "      <td>NaN</td>\n",
       "      <td>NaN</td>\n",
       "      <td>NaN</td>\n",
       "      <td>NaN</td>\n",
       "      <td>NaN</td>\n",
       "      <td>NaN</td>\n",
       "      <td>NaN</td>\n",
       "      <td>0</td>\n",
       "    </tr>\n",
       "  </tbody>\n",
       "</table>\n",
       "<p>5 rows × 24 columns</p>\n",
       "</div>"
      ],
      "text/plain": [
       "   Unnamed: 0                                       Unnamed: 0.1  \\\n",
       "0       14746  altamaha_2019_sw_WHONDRS-S19S_0010_B_1000.plas...   \n",
       "1       14747  altamaha_2019_sw_WHONDRS-S19S_0010_B_1000.plas...   \n",
       "2       14748  altamaha_2019_sw_WHONDRS-S19S_0010_B_1000.plas...   \n",
       "3       15061  altamaha_2019_sw_WHONDRS-S19S_0010_B_1000.plas...   \n",
       "4       15062  altamaha_2019_sw_WHONDRS-S19S_0010_B_1000.plas...   \n",
       "\n",
       "                                               fasta      scaffold  \\\n",
       "0  altamaha_2019_sw_WHONDRS-S19S_0010_B_1000.plas...  k121_1081908   \n",
       "1  altamaha_2019_sw_WHONDRS-S19S_0010_B_1000.plas...  k121_1081908   \n",
       "2  altamaha_2019_sw_WHONDRS-S19S_0010_B_1000.plas...  k121_1081908   \n",
       "3  altamaha_2019_sw_WHONDRS-S19S_0010_B_1000.plas...  k121_1310888   \n",
       "4  altamaha_2019_sw_WHONDRS-S19S_0010_B_1000.plas...  k121_1310888   \n",
       "\n",
       "   gene_position  start_position  end_position  strandedness rank ko_id  ...  \\\n",
       "0              1              95           469            -1    E   NaN  ...   \n",
       "1              2             551          1294            -1    D   NaN  ...   \n",
       "2              3            1309          2844            -1    E   NaN  ...   \n",
       "3              1             522          3437             1    D   NaN  ...   \n",
       "4              2            3531          3701             1    E   NaN  ...   \n",
       "\n",
       "  peptidase_RBH peptidase_identity peptidase_bitScore peptidase_eVal  \\\n",
       "0           NaN                NaN                NaN            NaN   \n",
       "1           NaN                NaN                NaN            NaN   \n",
       "2           NaN                NaN                NaN            NaN   \n",
       "3           NaN                NaN                NaN            NaN   \n",
       "4           NaN                NaN                NaN            NaN   \n",
       "\n",
       "                                           pfam_hits  cazy_ids  cazy_hits  \\\n",
       "0                                                NaN       NaN        NaN   \n",
       "1  IstB-like ATP binding protein [PF01695.20]; Ba...       NaN        NaN   \n",
       "2                                                NaN       NaN        NaN   \n",
       "3  Tn3 transposase DDE domain [PF01526.20]; Domai...       NaN        NaN   \n",
       "4                                                NaN       NaN        NaN   \n",
       "\n",
       "   cazy_subfam_ec cazy_best_hit heme_regulatory_motif_count  \n",
       "0             NaN           NaN                           0  \n",
       "1             NaN           NaN                           0  \n",
       "2             NaN           NaN                           0  \n",
       "3             NaN           NaN                           0  \n",
       "4             NaN           NaN                           0  \n",
       "\n",
       "[5 rows x 24 columns]"
      ]
     },
     "execution_count": 56,
     "metadata": {},
     "output_type": "execute_result"
    }
   ],
   "source": [
    "filteredplaton=pd.read_csv(\"GROWcanonfilteredplatonannotation.csv\")\n",
    "filteredplaton.head()"
   ]
  },
  {
   "cell_type": "code",
   "execution_count": 57,
   "metadata": {},
   "outputs": [],
   "source": [
    "totalkeggannotations=[9816, 4578, 93067, 56414, 7847]\n",
    "totalpfamannotations=[31277, 9700, 191462, 175815, 14535]\n",
    "totalgenes=[unfilteredplaton.shape[0], filteredplaton.shape[0], defaultgenomad.shape[0], calibratedgenomad.shape[0], conservativegenomad.shape[0]]"
   ]
  },
  {
   "cell_type": "code",
   "execution_count": 16,
   "metadata": {},
   "outputs": [],
   "source": [
    "def findhypotheticalanno(df):\n",
    "    kegghypo=0\n",
    "    pfamhypo=0\n",
    "    #transposasekeggcounts=0\n",
    "    #transposasepfamcounts=0\n",
    "\n",
    "    for index, row in df.iterrows():\n",
    "        keggstring=str(row['kegg_hit']).lower()\n",
    "        pfamstring=str(row['pfam_hits']).lower()\n",
    "        if re.search(\"uncharacterized protein\", keggstring):\n",
    "            kegghypo += 1\n",
    "        if re.search(\".?duf\\d+.?\", pfamstring):\n",
    "            pfamhypo += 1\n",
    "        #if re.search(\".?transposase.?\", keggstring):\n",
    "        #    transposasekeggcounts += 1\n",
    "        #if re.search(\".?transposase.?\", pfamstring):\n",
    "        #    transposasepfamcounts += 1\n",
    "    return (kegghypo, pfamhypo)"
   ]
  },
  {
   "cell_type": "code",
   "execution_count": 59,
   "metadata": {},
   "outputs": [],
   "source": [
    "def findanno(df):\n",
    "    totalanno=0\n",
    "    #transposasekeggcounts=0\n",
    "    #transposasepfamcounts=0\n",
    "\n",
    "    for index, row in df.iterrows():\n",
    "        keggstring=str(row['kegg_hit']).lower()\n",
    "        pfamstring=str(row['pfam_hits']).lower()\n",
    "        if keggstring!=\"nan\" or pfamstring!=\"nan\":\n",
    "            #print(keggstring)\n",
    "            #print(pfamstring)\n",
    "            totalanno+=1\n",
    "        #if re.search(\".?transposase.?\", keggstring):\n",
    "        #    transposasekeggcounts += 1\n",
    "        #if re.search(\".?transposase.?\", pfamstring):\n",
    "        #    transposasepfamcounts += 1\n",
    "    return totalanno"
   ]
  },
  {
   "cell_type": "code",
   "execution_count": 60,
   "metadata": {},
   "outputs": [],
   "source": [
    "def appendfindannooutputtodf(listofdfs):\n",
    "    totalannos=[]\n",
    "    for df in listofdfs:\n",
    "        totalanno = findanno(df)\n",
    "        totalannos.append(totalanno)\n",
    "        #pfamlist.append(pfamval)\n",
    "    return totalannos"
   ]
  },
  {
   "cell_type": "code",
   "execution_count": 62,
   "metadata": {},
   "outputs": [],
   "source": [
    "plasmethods=[unfilteredplaton, filteredplaton, defaultgenomad, calibratedgenomad, conservativegenomad]"
   ]
  },
  {
   "cell_type": "code",
   "execution_count": 63,
   "metadata": {},
   "outputs": [],
   "source": [
    "annos=appendfindannooutputtodf(plasmethods)"
   ]
  },
  {
   "cell_type": "code",
   "execution_count": 64,
   "metadata": {},
   "outputs": [],
   "source": [
    "outputs=['Unfiltered \\nPlaton', 'Filtered \\nPlaton', 'Default \\ngeNomad', 'Calibrated \\ngeNomad', 'Conservative \\ngeNomad']"
   ]
  },
  {
   "cell_type": "code",
   "execution_count": 65,
   "metadata": {},
   "outputs": [
    {
     "data": {
      "text/plain": [
       "<BarContainer object of 5 artists>"
      ]
     },
     "execution_count": 65,
     "metadata": {},
     "output_type": "execute_result"
    },
    {
     "data": {
      "image/png": "[encoded data removed]",
      "text/plain": [
       "<Figure size 432x288 with 1 Axes>"
      ]
     },
     "metadata": {
      "needs_background": "light"
     },
     "output_type": "display_data"
    }
   ],
   "source": [
    "plt.bar(height=annos, x=outputs)"
   ]
  },
  {
   "cell_type": "code",
   "execution_count": 68,
   "metadata": {},
   "outputs": [
    {
     "data": {
      "text/plain": [
       "Text(0.5, 1.0, 'Percent of Putative Plasmid Genes Annotated')"
      ]
     },
     "execution_count": 68,
     "metadata": {},
     "output_type": "execute_result"
    },
    {
     "data": {
      "image/png": "[encoded data removed]",
      "text/plain": [
       "<Figure size 432x288 with 1 Axes>"
      ]
     },
     "metadata": {
      "needs_background": "light"
     },
     "output_type": "display_data"
    }
   ],
   "source": [
    "plt.bar(height=np.array(annos)/np.array(totalgenes), x=outputs)\n",
    "plt.ylim(0,1)\n",
    "plt.title(\"Percent of Putative Plasmid Genes Annotated\")"
   ]
  },
  {
   "cell_type": "code",
   "execution_count": 111,
   "metadata": {},
   "outputs": [],
   "source": [
    "def appendfindoutputtodf(listofdfs):\n",
    "    kegglist=[]\n",
    "    pfamlist=[]\n",
    "    for df in listofdfs:\n",
    "        keggval, pfamval = findhypotheticalanno(df)\n",
    "        kegglist.append(keggval)\n",
    "        pfamlist.append(pfamval)\n",
    "    return pd.DataFrame({'KEGG Hypotheticals': kegglist, 'Pfam Hypotheticals': pfamlist})"
   ]
  },
  {
   "cell_type": "code",
   "execution_count": 112,
   "metadata": {},
   "outputs": [],
   "source": [
    "hypotheticalsdf=appendfindoutputtodf(plasmethods)"
   ]
  },
  {
   "cell_type": "code",
   "execution_count": 113,
   "metadata": {},
   "outputs": [
    {
     "data": {
      "text/html": [
       "<div>\n",
       "<style scoped>\n",
       "    .dataframe tbody tr th:only-of-type {\n",
       "        vertical-align: middle;\n",
       "    }\n",
       "\n",
       "    .dataframe tbody tr th {\n",
       "        vertical-align: top;\n",
       "    }\n",
       "\n",
       "    .dataframe thead th {\n",
       "        text-align: right;\n",
       "    }\n",
       "</style>\n",
       "<table border=\"1\" class=\"dataframe\">\n",
       "  <thead>\n",
       "    <tr style=\"text-align: right;\">\n",
       "      <th></th>\n",
       "      <th>KEGG Hypotheticals</th>\n",
       "      <th>Pfam Hypotheticals</th>\n",
       "    </tr>\n",
       "  </thead>\n",
       "  <tbody>\n",
       "    <tr>\n",
       "      <th>0</th>\n",
       "      <td>612</td>\n",
       "      <td>3723</td>\n",
       "    </tr>\n",
       "    <tr>\n",
       "      <th>1</th>\n",
       "      <td>184</td>\n",
       "      <td>910</td>\n",
       "    </tr>\n",
       "    <tr>\n",
       "      <th>2</th>\n",
       "      <td>3606</td>\n",
       "      <td>14474</td>\n",
       "    </tr>\n",
       "    <tr>\n",
       "      <th>3</th>\n",
       "      <td>2116</td>\n",
       "      <td>9695</td>\n",
       "    </tr>\n",
       "    <tr>\n",
       "      <th>4</th>\n",
       "      <td>133</td>\n",
       "      <td>1227</td>\n",
       "    </tr>\n",
       "  </tbody>\n",
       "</table>\n",
       "</div>"
      ],
      "text/plain": [
       "   KEGG Hypotheticals  Pfam Hypotheticals\n",
       "0                 612                3723\n",
       "1                 184                 910\n",
       "2                3606               14474\n",
       "3                2116                9695\n",
       "4                 133                1227"
      ]
     },
     "execution_count": 113,
     "metadata": {},
     "output_type": "execute_result"
    }
   ],
   "source": [
    "hypotheticalsdf.head()"
   ]
  },
  {
   "cell_type": "code",
   "execution_count": 115,
   "metadata": {},
   "outputs": [],
   "source": [
    "def groupedbarchart(df, ylabstr, titlestr):\n",
    "\n",
    "    outputs=['Unfiltered \\nPlaton', 'Filtered \\nPlaton', 'Default \\ngeNomad', 'Calibrated \\ngeNomad', 'Conservative \\ngeNomad']\n",
    "\n",
    "    fig, ax = plt.subplots(layout='constrained')\n",
    "\n",
    "    x = np.arange(len(outputs))\n",
    "    width = 0.1  # the width of the bars\n",
    "    multiplier = 0\n",
    "\n",
    "    for attribute, measurement in df.items():\n",
    "        offset = width * multiplier\n",
    "        rects = ax.bar(x + offset, measurement, width, label=attribute)\n",
    "        #ax.bar_label(rects, padding=3)\n",
    "        multiplier += 1\n",
    "\n",
    "    # Add some text for labels, title and custom x-axis tick labels, etc.\n",
    "    ax.set_ylabel(ylabstr)\n",
    "    ax.set_title(titlestr)\n",
    "    ax.set_xticks(x + width, outputs)\n",
    "    #ax.legend(loc='upper left')\n",
    "    ax.legend(loc='upper right', ncol=2)\n",
    "    ax.set_ylim(0,0.065)"
   ]
  },
  {
   "cell_type": "code",
   "execution_count": 97,
   "metadata": {},
   "outputs": [
    {
     "data": {
      "image/png": "[encoded data removed]",
      "text/plain": [
       "<Figure size 432x288 with 1 Axes>"
      ]
     },
     "metadata": {
      "needs_background": "light"
     },
     "output_type": "display_data"
    }
   ],
   "source": [
    "groupedbarchart(hypotheticalsdf, \"Hypothetical Annotations\", \"Number of Hypothetical Annotations by Plasmid Detection Method\")"
   ]
  },
  {
   "cell_type": "code",
   "execution_count": 116,
   "metadata": {},
   "outputs": [
    {
     "data": {
      "image/png": "[encoded data removed]",
      "text/plain": [
       "<Figure size 432x288 with 1 Axes>"
      ]
     },
     "metadata": {
      "needs_background": "light"
     },
     "output_type": "display_data"
    }
   ],
   "source": [
    "groupedbarchart(hypotheticalsdf.divide(totalgenes, axis=0), \"Hypothetical Annotations per Gene\", \"Number of Hypothetical Annotations per Gene by Plasmid Detection Method\")"
   ]
  },
  {
   "cell_type": "code",
   "execution_count": 94,
   "metadata": {},
   "outputs": [],
   "source": [
    "hypotheticalbyannotations=pd.DataFrame({'KEGG Hypotheticals': hypotheticalsdf['kegg_hypotheticals'].divide(totalkeggannotations), 'Pfam Hypotheticals': hypotheticalsdf['pfam_hypotheticals'].divide(totalpfamannotations)})"
   ]
  },
  {
   "cell_type": "code",
   "execution_count": 37,
   "metadata": {},
   "outputs": [
    {
     "data": {
      "text/html": [
       "<div>\n",
       "<style scoped>\n",
       "    .dataframe tbody tr th:only-of-type {\n",
       "        vertical-align: middle;\n",
       "    }\n",
       "\n",
       "    .dataframe tbody tr th {\n",
       "        vertical-align: top;\n",
       "    }\n",
       "\n",
       "    .dataframe thead th {\n",
       "        text-align: right;\n",
       "    }\n",
       "</style>\n",
       "<table border=\"1\" class=\"dataframe\">\n",
       "  <thead>\n",
       "    <tr style=\"text-align: right;\">\n",
       "      <th></th>\n",
       "      <th>kegg_hypotheticals</th>\n",
       "      <th>pfam_hypotheticals</th>\n",
       "    </tr>\n",
       "  </thead>\n",
       "  <tbody>\n",
       "    <tr>\n",
       "      <th>0</th>\n",
       "      <td>0.062347</td>\n",
       "      <td>0.119033</td>\n",
       "    </tr>\n",
       "    <tr>\n",
       "      <th>1</th>\n",
       "      <td>0.040192</td>\n",
       "      <td>0.093814</td>\n",
       "    </tr>\n",
       "    <tr>\n",
       "      <th>2</th>\n",
       "      <td>0.038746</td>\n",
       "      <td>0.075597</td>\n",
       "    </tr>\n",
       "    <tr>\n",
       "      <th>3</th>\n",
       "      <td>0.037508</td>\n",
       "      <td>0.055143</td>\n",
       "    </tr>\n",
       "    <tr>\n",
       "      <th>4</th>\n",
       "      <td>0.016949</td>\n",
       "      <td>0.084417</td>\n",
       "    </tr>\n",
       "  </tbody>\n",
       "</table>\n",
       "</div>"
      ],
      "text/plain": [
       "   kegg_hypotheticals  pfam_hypotheticals\n",
       "0            0.062347            0.119033\n",
       "1            0.040192            0.093814\n",
       "2            0.038746            0.075597\n",
       "3            0.037508            0.055143\n",
       "4            0.016949            0.084417"
      ]
     },
     "execution_count": 37,
     "metadata": {},
     "output_type": "execute_result"
    }
   ],
   "source": [
    "hypotheticalbyannotations.head()"
   ]
  },
  {
   "cell_type": "code",
   "execution_count": 98,
   "metadata": {},
   "outputs": [
    {
     "data": {
      "image/png": "[encoded data removed]",
      "text/plain": [
       "<Figure size 432x288 with 1 Axes>"
      ]
     },
     "metadata": {
      "needs_background": "light"
     },
     "output_type": "display_data"
    }
   ],
   "source": [
    "groupedbarchart(hypotheticalbyannotations, \"Hypothetical Annotations per Annotation\", \"Number of Hypothetical Annotations by Total Annotations per Plasmid Detection Method\")"
   ]
  },
  {
   "cell_type": "code",
   "execution_count": 56,
   "metadata": {},
   "outputs": [],
   "source": [
    "annotationpergene=pd.DataFrame({'KEGG Annotations per Gene':[x / y for x, y in zip(totalkeggannotations, totalgenes)],'Pfam Annotations per Gene':[x / y for x, y in zip(totalpfamannotations, totalgenes)]})"
   ]
  },
  {
   "cell_type": "code",
   "execution_count": 45,
   "metadata": {},
   "outputs": [
    {
     "data": {
      "text/html": [
       "<div>\n",
       "<style scoped>\n",
       "    .dataframe tbody tr th:only-of-type {\n",
       "        vertical-align: middle;\n",
       "    }\n",
       "\n",
       "    .dataframe tbody tr th {\n",
       "        vertical-align: top;\n",
       "    }\n",
       "\n",
       "    .dataframe thead th {\n",
       "        text-align: right;\n",
       "    }\n",
       "</style>\n",
       "<table border=\"1\" class=\"dataframe\">\n",
       "  <thead>\n",
       "    <tr style=\"text-align: right;\">\n",
       "      <th></th>\n",
       "      <th>keggannotationpergene</th>\n",
       "      <th>pfamannotationpergene</th>\n",
       "    </tr>\n",
       "  </thead>\n",
       "  <tbody>\n",
       "    <tr>\n",
       "      <th>0</th>\n",
       "      <td>0.094653</td>\n",
       "      <td>0.301596</td>\n",
       "    </tr>\n",
       "    <tr>\n",
       "      <th>1</th>\n",
       "      <td>0.291166</td>\n",
       "      <td>0.616931</td>\n",
       "    </tr>\n",
       "    <tr>\n",
       "      <th>2</th>\n",
       "      <td>0.300917</td>\n",
       "      <td>0.619061</td>\n",
       "    </tr>\n",
       "    <tr>\n",
       "      <th>3</th>\n",
       "      <td>0.277450</td>\n",
       "      <td>0.864678</td>\n",
       "    </tr>\n",
       "    <tr>\n",
       "      <th>4</th>\n",
       "      <td>0.324189</td>\n",
       "      <td>0.600496</td>\n",
       "    </tr>\n",
       "  </tbody>\n",
       "</table>\n",
       "</div>"
      ],
      "text/plain": [
       "   keggannotationpergene  pfamannotationpergene\n",
       "0               0.094653               0.301596\n",
       "1               0.291166               0.616931\n",
       "2               0.300917               0.619061\n",
       "3               0.277450               0.864678\n",
       "4               0.324189               0.600496"
      ]
     },
     "execution_count": 45,
     "metadata": {},
     "output_type": "execute_result"
    }
   ],
   "source": [
    "annotationpergene.head()"
   ]
  },
  {
   "cell_type": "code",
   "execution_count": 57,
   "metadata": {},
   "outputs": [
    {
     "data": {
      "image/png": "[encoded data removed]",
      "text/plain": [
       "<Figure size 432x288 with 1 Axes>"
      ]
     },
     "metadata": {
      "needs_background": "light"
     },
     "output_type": "display_data"
    }
   ],
   "source": [
    "groupedbarchart(annotationpergene, \"Annotations per Gene\", \"Number of Annotations by Total Genes per Plasmid Detection Method\")"
   ]
  },
  {
   "cell_type": "code",
   "execution_count": 52,
   "metadata": {},
   "outputs": [],
   "source": [
    "methods=['Unfiltered \\nPlaton', 'Filtered \\nPlaton', 'Default \\ngeNomad', 'Calibrated \\ngeNomad', 'Conservative \\ngeNomad']\n"
   ]
  },
  {
   "cell_type": "code",
   "execution_count": 55,
   "metadata": {},
   "outputs": [
    {
     "data": {
      "text/plain": [
       "Text(0.5, 1.0, 'Total Genes from Putative Contigs by Plasmid Detection Method')"
      ]
     },
     "execution_count": 55,
     "metadata": {},
     "output_type": "execute_result"
    },
    {
     "data": {
      "image/png": "[encoded data removed]",
      "text/plain": [
       "<Figure size 432x288 with 1 Axes>"
      ]
     },
     "metadata": {
      "needs_background": "light"
     },
     "output_type": "display_data"
    }
   ],
   "source": [
    "plt.bar(height=totalgenes,x=methods)\n",
    "plt.title(\"Total Genes from Putative Contigs by Plasmid Detection Method\")"
   ]
  },
  {
   "cell_type": "code",
   "execution_count": 91,
   "metadata": {},
   "outputs": [],
   "source": [
    "numberofplasmids=[len(x) for x in outlistoflists]"
   ]
  },
  {
   "cell_type": "code",
   "execution_count": 93,
   "metadata": {},
   "outputs": [
    {
     "data": {
      "text/plain": [
       "Text(0.5, 1.0, 'Number of Putative Plasmids Detected by Plasmid Detection Method')"
      ]
     },
     "execution_count": 93,
     "metadata": {},
     "output_type": "execute_result"
    },
    {
     "data": {
      "image/png": "[encoded data removed]",
      "text/plain": [
       "<Figure size 432x288 with 1 Axes>"
      ]
     },
     "metadata": {
      "needs_background": "light"
     },
     "output_type": "display_data"
    }
   ],
   "source": [
    "plt.bar(height=numberofplasmids,x=methods)\n",
    "plt.ylabel(\"Plasmids\")\n",
    "plt.title(\"Number of Putative Plasmids Detected by Plasmid Detection Method\")"
   ]
  },
  {
   "cell_type": "code",
   "execution_count": 65,
   "metadata": {},
   "outputs": [],
   "source": [
    "def getnumberofgenespercontig(dfslist):\n",
    "    outlistoflists=[]\n",
    "    \n",
    "    for df in dfslist:\n",
    "        max_gene_position={}\n",
    "        for index, row in df.iterrows():\n",
    "            scaffold=row['scaffold']\n",
    "            gene_pos=row['gene_position']\n",
    "            max_gene_position[scaffold]=gene_pos\n",
    "            #if scaffold not in max_gene_position:\n",
    "            #    max_gene_position[scaffold]=gene_pos\n",
    "            #else:\n",
    "            #    max_gene_position[scaffold]=gene_pos\n",
    "        outlistoflists.append(list(max_gene_position.values()))\n",
    "    return outlistoflists"
   ]
  },
  {
   "cell_type": "code",
   "execution_count": 67,
   "metadata": {},
   "outputs": [],
   "source": [
    "outlistoflists=getnumberofgenespercontig(plasmethods)"
   ]
  },
  {
   "cell_type": "code",
   "execution_count": 109,
   "metadata": {},
   "outputs": [
    {
     "data": {
      "text/plain": [
       "Text(0.5, 1.0, 'Number of Genes per Putative Plasmid Detected by Plasmid Detection Methods')"
      ]
     },
     "execution_count": 109,
     "metadata": {},
     "output_type": "execute_result"
    },
    {
     "data": {
      "image/png": "[encoded data removed]",
      "text/plain": [
       "<Figure size 432x288 with 1 Axes>"
      ]
     },
     "metadata": {
      "needs_background": "light"
     },
     "output_type": "display_data"
    }
   ],
   "source": [
    "plt.boxplot(outlistoflists)\n",
    "plt.xticks(range(1,len(methods)+1), methods)\n",
    "plt.title(\"Number of Genes per Putative Plasmid Detected by Plasmid Detection Methods\")"
   ]
  },
  {
   "cell_type": "code",
   "execution_count": 104,
   "metadata": {},
   "outputs": [
    {
     "data": {
      "text/plain": [
       "Text(0, 0.5, 'Counts')"
      ]
     },
     "execution_count": 104,
     "metadata": {},
     "output_type": "execute_result"
    },
    {
     "data": {
      "image/png": "[encoded data removed]",
      "text/plain": [
       "<Figure size 432x288 with 1 Axes>"
      ]
     },
     "metadata": {
      "needs_background": "light"
     },
     "output_type": "display_data"
    }
   ],
   "source": [
    "plt.hist(outlistoflists[0], bins=50)\n",
    "plt.title(\"Number of Genes per Putative Plasmid Detected by Unfiltered Platon\")\n",
    "plt.xlabel(\"Genes\")\n",
    "plt.ylabel(\"Counts\")"
   ]
  },
  {
   "cell_type": "code",
   "execution_count": 105,
   "metadata": {},
   "outputs": [
    {
     "data": {
      "text/plain": [
       "Text(0, 0.5, 'Counts')"
      ]
     },
     "execution_count": 105,
     "metadata": {},
     "output_type": "execute_result"
    },
    {
     "data": {
      "image/png": "[encoded data removed]",
      "text/plain": [
       "<Figure size 432x288 with 1 Axes>"
      ]
     },
     "metadata": {
      "needs_background": "light"
     },
     "output_type": "display_data"
    }
   ],
   "source": [
    "plt.hist(outlistoflists[1], bins=50)\n",
    "plt.title(\"Number of Genes per Putative Plasmid Detected by Filtered Platon\")\n",
    "plt.xlabel(\"Genes\")\n",
    "plt.ylabel(\"Counts\")"
   ]
  },
  {
   "cell_type": "code",
   "execution_count": 106,
   "metadata": {},
   "outputs": [
    {
     "data": {
      "text/plain": [
       "Text(0, 0.5, 'Counts')"
      ]
     },
     "execution_count": 106,
     "metadata": {},
     "output_type": "execute_result"
    },
    {
     "data": {
      "image/png": "[encoded data removed]",
      "text/plain": [
       "<Figure size 432x288 with 1 Axes>"
      ]
     },
     "metadata": {
      "needs_background": "light"
     },
     "output_type": "display_data"
    }
   ],
   "source": [
    "plt.hist(outlistoflists[2], bins=50)\n",
    "plt.title(\"Number of Genes per Putative Plasmid Detected by Default geNomad\")\n",
    "plt.xlabel(\"Genes\")\n",
    "plt.ylabel(\"Counts\")"
   ]
  },
  {
   "cell_type": "code",
   "execution_count": 107,
   "metadata": {},
   "outputs": [
    {
     "data": {
      "text/plain": [
       "Text(0, 0.5, 'Counts')"
      ]
     },
     "execution_count": 107,
     "metadata": {},
     "output_type": "execute_result"
    },
    {
     "data": {
      "image/png": "[encoded data removed]",
      "text/plain": [
       "<Figure size 432x288 with 1 Axes>"
      ]
     },
     "metadata": {
      "needs_background": "light"
     },
     "output_type": "display_data"
    }
   ],
   "source": [
    "plt.hist(outlistoflists[3], bins=50)\n",
    "plt.title(\"Number of Genes per Putative Plasmid Detected by Calibrated geNomad\")\n",
    "plt.xlabel(\"Genes\")\n",
    "plt.ylabel(\"Counts\")"
   ]
  },
  {
   "cell_type": "code",
   "execution_count": 108,
   "metadata": {},
   "outputs": [
    {
     "data": {
      "text/plain": [
       "Text(0, 0.5, 'Counts')"
      ]
     },
     "execution_count": 108,
     "metadata": {},
     "output_type": "execute_result"
    },
    {
     "data": {
      "image/png": "[encoded data removed]",
      "text/plain": [
       "<Figure size 432x288 with 1 Axes>"
      ]
     },
     "metadata": {
      "needs_background": "light"
     },
     "output_type": "display_data"
    }
   ],
   "source": [
    "plt.hist(outlistoflists[4], bins=50)\n",
    "plt.title(\"Number of Genes per Putative Plasmid Detected by Conservative geNomad\")\n",
    "plt.xlabel(\"Genes\")\n",
    "plt.ylabel(\"Counts\")"
   ]
  },
  {
   "cell_type": "code",
   "execution_count": 86,
   "metadata": {},
   "outputs": [
    {
     "data": {
      "text/plain": [
       "5"
      ]
     },
     "execution_count": 86,
     "metadata": {},
     "output_type": "execute_result"
    }
   ],
   "source": [
    "len(outlistoflists)"
   ]
  },
  {
   "cell_type": "code",
   "execution_count": 70,
   "metadata": {},
   "outputs": [
    {
     "data": {
      "text/plain": [
       "([<matplotlib.axis.XTick at 0x7f1f28dd4c90>,\n",
       "  <matplotlib.axis.XTick at 0x7f1f290a5f10>,\n",
       "  <matplotlib.axis.XTick at 0x7f1f2efac650>,\n",
       "  <matplotlib.axis.XTick at 0x7f1f2905d250>,\n",
       "  <matplotlib.axis.XTick at 0x7f1f2901cb10>],\n",
       " [Text(1, 0, 'Unfiltered \\nPlaton'),\n",
       "  Text(2, 0, 'Filtered \\nPlaton'),\n",
       "  Text(3, 0, 'Default \\ngeNomad'),\n",
       "  Text(4, 0, 'Calibrated \\ngeNomad'),\n",
       "  Text(5, 0, 'Conservative \\ngeNomad')])"
      ]
     },
     "execution_count": 70,
     "metadata": {},
     "output_type": "execute_result"
    },
    {
     "data": {
      "image/png": "[encoded data removed]",
      "text/plain": [
       "<Figure size 432x288 with 1 Axes>"
      ]
     },
     "metadata": {
      "needs_background": "light"
     },
     "output_type": "display_data"
    }
   ],
   "source": [
    "plt.violinplot(outlistoflists)\n",
    "plt.xticks(range(1,len(methods)+1), methods)"
   ]
  },
  {
   "cell_type": "code",
   "execution_count": 78,
   "metadata": {},
   "outputs": [
    {
     "ename": "ValueError",
     "evalue": "too many values to unpack (expected 2)",
     "output_type": "error",
     "traceback": [
      "\u001b[0;31m---------------------------------------------------------------------------\u001b[0m",
      "\u001b[0;31mValueError\u001b[0m                                Traceback (most recent call last)",
      "\u001b[0;32m<ipython-input-78-54f563e2c7b9>\u001b[0m in \u001b[0;36m<module>\u001b[0;34m()\u001b[0m\n\u001b[0;32m----> 1\u001b[0;31m \u001b[0mfig\u001b[0m\u001b[0;34m,\u001b[0m \u001b[0max\u001b[0m \u001b[0;34m=\u001b[0m \u001b[0mplt\u001b[0m\u001b[0;34m.\u001b[0m\u001b[0mviolinplot\u001b[0m\u001b[0;34m(\u001b[0m\u001b[0moutlistoflists\u001b[0m\u001b[0;34m)\u001b[0m\u001b[0;34m\u001b[0m\u001b[0;34m\u001b[0m\u001b[0m\n\u001b[0m\u001b[1;32m      2\u001b[0m \u001b[0;31m#ax.xticks(range(1,len(methods)+1), methods)\u001b[0m\u001b[0;34m\u001b[0m\u001b[0;34m\u001b[0m\u001b[0;34m\u001b[0m\u001b[0m\n\u001b[1;32m      3\u001b[0m \u001b[0max\u001b[0m\u001b[0;34m.\u001b[0m\u001b[0mset_ylim\u001b[0m\u001b[0;34m(\u001b[0m\u001b[0;36m0\u001b[0m\u001b[0;34m,\u001b[0m \u001b[0;36m60\u001b[0m\u001b[0;34m)\u001b[0m\u001b[0;34m\u001b[0m\u001b[0;34m\u001b[0m\u001b[0m\n",
      "\u001b[0;31mValueError\u001b[0m: too many values to unpack (expected 2)"
     ]
    },
    {
     "data": {
      "image/png": "[encoded data removed]",
      "text/plain": [
       "<Figure size 432x288 with 1 Axes>"
      ]
     },
     "metadata": {
      "needs_background": "light"
     },
     "output_type": "display_data"
    }
   ],
   "source": [
    "fig, ax = plt.violinplot(outlistoflists)\n",
    "#ax.xticks(range(1,len(methods)+1), methods)\n",
    "ax.set_ylim(0, 60)"
   ]
  },
  {
   "cell_type": "code",
   "execution_count": 72,
   "metadata": {},
   "outputs": [
    {
     "data": {
      "text/plain": [
       "(array([[5.6230e+03, 1.2250e+03, 2.7400e+02, 1.5200e+02, 1.4200e+02,\n",
       "         7.7000e+01, 3.4000e+01, 4.8000e+01, 6.1000e+01, 1.2400e+02,\n",
       "         1.3300e+02, 1.2400e+02, 9.7000e+01, 3.8000e+01, 3.6000e+01,\n",
       "         3.5000e+01, 1.9000e+01, 1.8000e+01, 1.9000e+01, 1.4000e+01,\n",
       "         4.0000e+00, 8.0000e+00, 7.0000e+00, 6.0000e+00, 5.0000e+00,\n",
       "         4.0000e+00, 4.0000e+00, 1.0000e+00, 1.0000e+00, 3.0000e+00,\n",
       "         4.0000e+00, 2.0000e+00, 1.0000e+00, 1.0000e+00, 1.0000e+00,\n",
       "         0.0000e+00, 0.0000e+00, 2.0000e+00, 2.0000e+00, 2.0000e+00,\n",
       "         1.0000e+00, 0.0000e+00, 2.0000e+00, 0.0000e+00, 0.0000e+00,\n",
       "         3.0000e+00, 3.0000e+00, 1.0000e+00, 1.0000e+00, 1.0000e+00,\n",
       "         0.0000e+00, 0.0000e+00, 0.0000e+00, 0.0000e+00, 0.0000e+00,\n",
       "         0.0000e+00, 1.0000e+00, 1.0000e+00, 0.0000e+00, 0.0000e+00,\n",
       "         0.0000e+00, 0.0000e+00, 0.0000e+00, 0.0000e+00, 0.0000e+00,\n",
       "         1.0000e+00, 0.0000e+00, 0.0000e+00, 0.0000e+00, 0.0000e+00,\n",
       "         0.0000e+00, 0.0000e+00, 0.0000e+00, 0.0000e+00, 1.0000e+00,\n",
       "         0.0000e+00, 0.0000e+00, 1.0000e+00, 1.0000e+00, 0.0000e+00,\n",
       "         0.0000e+00, 0.0000e+00, 1.0000e+00, 0.0000e+00, 0.0000e+00,\n",
       "         0.0000e+00, 0.0000e+00, 0.0000e+00, 0.0000e+00, 0.0000e+00,\n",
       "         0.0000e+00, 0.0000e+00, 0.0000e+00, 0.0000e+00, 0.0000e+00,\n",
       "         1.0000e+00, 0.0000e+00, 0.0000e+00, 0.0000e+00, 1.0000e+00],\n",
       "        [1.1650e+03, 3.8000e+02, 1.1000e+02, 4.9000e+01, 2.8000e+01,\n",
       "         2.2000e+01, 1.3000e+01, 1.2000e+01, 8.0000e+00, 7.0000e+00,\n",
       "         2.0000e+00, 3.0000e+00, 4.0000e+00, 2.0000e+00, 1.0000e+00,\n",
       "         1.0000e+00, 3.0000e+00, 2.0000e+00, 1.0000e+00, 1.0000e+00,\n",
       "         1.0000e+00, 2.0000e+00, 0.0000e+00, 1.0000e+00, 1.0000e+00,\n",
       "         1.0000e+00, 0.0000e+00, 0.0000e+00, 0.0000e+00, 1.0000e+00,\n",
       "         0.0000e+00, 0.0000e+00, 0.0000e+00, 0.0000e+00, 0.0000e+00,\n",
       "         0.0000e+00, 0.0000e+00, 0.0000e+00, 0.0000e+00, 0.0000e+00,\n",
       "         0.0000e+00, 0.0000e+00, 1.0000e+00, 0.0000e+00, 0.0000e+00,\n",
       "         0.0000e+00, 0.0000e+00, 0.0000e+00, 0.0000e+00, 0.0000e+00,\n",
       "         0.0000e+00, 0.0000e+00, 0.0000e+00, 0.0000e+00, 0.0000e+00,\n",
       "         0.0000e+00, 0.0000e+00, 0.0000e+00, 0.0000e+00, 0.0000e+00,\n",
       "         0.0000e+00, 0.0000e+00, 0.0000e+00, 0.0000e+00, 0.0000e+00,\n",
       "         0.0000e+00, 0.0000e+00, 0.0000e+00, 0.0000e+00, 0.0000e+00,\n",
       "         0.0000e+00, 0.0000e+00, 0.0000e+00, 0.0000e+00, 0.0000e+00,\n",
       "         0.0000e+00, 0.0000e+00, 0.0000e+00, 0.0000e+00, 0.0000e+00,\n",
       "         0.0000e+00, 0.0000e+00, 0.0000e+00, 0.0000e+00, 0.0000e+00,\n",
       "         0.0000e+00, 0.0000e+00, 0.0000e+00, 0.0000e+00, 0.0000e+00,\n",
       "         0.0000e+00, 0.0000e+00, 0.0000e+00, 0.0000e+00, 0.0000e+00,\n",
       "         0.0000e+00, 0.0000e+00, 0.0000e+00, 0.0000e+00, 0.0000e+00],\n",
       "        [4.8383e+04, 8.9650e+03, 1.5470e+03, 5.3100e+02, 1.9600e+02,\n",
       "         1.2200e+02, 6.8000e+01, 4.0000e+01, 2.6000e+01, 2.1000e+01,\n",
       "         1.6000e+01, 9.0000e+00, 6.0000e+00, 4.0000e+00, 2.0000e+00,\n",
       "         1.0000e+00, 4.0000e+00, 1.0000e+00, 0.0000e+00, 2.0000e+00,\n",
       "         1.0000e+00, 1.0000e+00, 0.0000e+00, 0.0000e+00, 2.0000e+00,\n",
       "         0.0000e+00, 1.0000e+00, 0.0000e+00, 0.0000e+00, 0.0000e+00,\n",
       "         0.0000e+00, 0.0000e+00, 0.0000e+00, 0.0000e+00, 0.0000e+00,\n",
       "         0.0000e+00, 0.0000e+00, 0.0000e+00, 0.0000e+00, 0.0000e+00,\n",
       "         0.0000e+00, 0.0000e+00, 0.0000e+00, 0.0000e+00, 0.0000e+00,\n",
       "         0.0000e+00, 0.0000e+00, 0.0000e+00, 0.0000e+00, 0.0000e+00,\n",
       "         0.0000e+00, 0.0000e+00, 0.0000e+00, 0.0000e+00, 0.0000e+00,\n",
       "         0.0000e+00, 0.0000e+00, 0.0000e+00, 0.0000e+00, 0.0000e+00,\n",
       "         0.0000e+00, 0.0000e+00, 0.0000e+00, 0.0000e+00, 0.0000e+00,\n",
       "         0.0000e+00, 0.0000e+00, 0.0000e+00, 0.0000e+00, 0.0000e+00,\n",
       "         0.0000e+00, 0.0000e+00, 0.0000e+00, 0.0000e+00, 0.0000e+00,\n",
       "         0.0000e+00, 0.0000e+00, 0.0000e+00, 0.0000e+00, 0.0000e+00,\n",
       "         0.0000e+00, 0.0000e+00, 0.0000e+00, 0.0000e+00, 0.0000e+00,\n",
       "         0.0000e+00, 0.0000e+00, 0.0000e+00, 0.0000e+00, 0.0000e+00,\n",
       "         0.0000e+00, 0.0000e+00, 0.0000e+00, 0.0000e+00, 0.0000e+00,\n",
       "         0.0000e+00, 0.0000e+00, 0.0000e+00, 0.0000e+00, 0.0000e+00],\n",
       "        [3.1039e+04, 6.1260e+03, 1.0440e+03, 3.6900e+02, 1.3400e+02,\n",
       "         9.8000e+01, 5.7000e+01, 3.4000e+01, 2.0000e+01, 1.4000e+01,\n",
       "         1.4000e+01, 7.0000e+00, 6.0000e+00, 4.0000e+00, 2.0000e+00,\n",
       "         1.0000e+00, 4.0000e+00, 1.0000e+00, 0.0000e+00, 2.0000e+00,\n",
       "         1.0000e+00, 1.0000e+00, 0.0000e+00, 0.0000e+00, 2.0000e+00,\n",
       "         0.0000e+00, 1.0000e+00, 0.0000e+00, 0.0000e+00, 0.0000e+00,\n",
       "         0.0000e+00, 0.0000e+00, 0.0000e+00, 0.0000e+00, 0.0000e+00,\n",
       "         0.0000e+00, 0.0000e+00, 0.0000e+00, 0.0000e+00, 0.0000e+00,\n",
       "         0.0000e+00, 0.0000e+00, 0.0000e+00, 0.0000e+00, 0.0000e+00,\n",
       "         0.0000e+00, 0.0000e+00, 0.0000e+00, 0.0000e+00, 0.0000e+00,\n",
       "         0.0000e+00, 0.0000e+00, 0.0000e+00, 0.0000e+00, 0.0000e+00,\n",
       "         0.0000e+00, 0.0000e+00, 0.0000e+00, 0.0000e+00, 0.0000e+00,\n",
       "         0.0000e+00, 0.0000e+00, 0.0000e+00, 0.0000e+00, 0.0000e+00,\n",
       "         0.0000e+00, 0.0000e+00, 0.0000e+00, 0.0000e+00, 0.0000e+00,\n",
       "         0.0000e+00, 0.0000e+00, 0.0000e+00, 0.0000e+00, 0.0000e+00,\n",
       "         0.0000e+00, 0.0000e+00, 0.0000e+00, 0.0000e+00, 0.0000e+00,\n",
       "         0.0000e+00, 0.0000e+00, 0.0000e+00, 0.0000e+00, 0.0000e+00,\n",
       "         0.0000e+00, 0.0000e+00, 0.0000e+00, 0.0000e+00, 0.0000e+00,\n",
       "         0.0000e+00, 0.0000e+00, 0.0000e+00, 0.0000e+00, 0.0000e+00,\n",
       "         0.0000e+00, 0.0000e+00, 0.0000e+00, 0.0000e+00, 0.0000e+00],\n",
       "        [4.5270e+03, 4.6400e+02, 1.4100e+02, 4.5000e+01, 1.7000e+01,\n",
       "         2.6000e+01, 9.0000e+00, 7.0000e+00, 2.0000e+00, 4.0000e+00,\n",
       "         1.0000e+00, 2.0000e+00, 4.0000e+00, 1.0000e+00, 1.0000e+00,\n",
       "         1.0000e+00, 3.0000e+00, 1.0000e+00, 0.0000e+00, 1.0000e+00,\n",
       "         1.0000e+00, 1.0000e+00, 0.0000e+00, 0.0000e+00, 1.0000e+00,\n",
       "         0.0000e+00, 1.0000e+00, 0.0000e+00, 0.0000e+00, 0.0000e+00,\n",
       "         0.0000e+00, 0.0000e+00, 0.0000e+00, 0.0000e+00, 0.0000e+00,\n",
       "         0.0000e+00, 0.0000e+00, 0.0000e+00, 0.0000e+00, 0.0000e+00,\n",
       "         0.0000e+00, 0.0000e+00, 0.0000e+00, 0.0000e+00, 0.0000e+00,\n",
       "         0.0000e+00, 0.0000e+00, 0.0000e+00, 0.0000e+00, 0.0000e+00,\n",
       "         0.0000e+00, 0.0000e+00, 0.0000e+00, 0.0000e+00, 0.0000e+00,\n",
       "         0.0000e+00, 0.0000e+00, 0.0000e+00, 0.0000e+00, 0.0000e+00,\n",
       "         0.0000e+00, 0.0000e+00, 0.0000e+00, 0.0000e+00, 0.0000e+00,\n",
       "         0.0000e+00, 0.0000e+00, 0.0000e+00, 0.0000e+00, 0.0000e+00,\n",
       "         0.0000e+00, 0.0000e+00, 0.0000e+00, 0.0000e+00, 0.0000e+00,\n",
       "         0.0000e+00, 0.0000e+00, 0.0000e+00, 0.0000e+00, 0.0000e+00,\n",
       "         0.0000e+00, 0.0000e+00, 0.0000e+00, 0.0000e+00, 0.0000e+00,\n",
       "         0.0000e+00, 0.0000e+00, 0.0000e+00, 0.0000e+00, 0.0000e+00,\n",
       "         0.0000e+00, 0.0000e+00, 0.0000e+00, 0.0000e+00, 0.0000e+00,\n",
       "         0.0000e+00, 0.0000e+00, 0.0000e+00, 0.0000e+00, 0.0000e+00]]),\n",
       " array([  1.  ,   6.16,  11.32,  16.48,  21.64,  26.8 ,  31.96,  37.12,\n",
       "         42.28,  47.44,  52.6 ,  57.76,  62.92,  68.08,  73.24,  78.4 ,\n",
       "         83.56,  88.72,  93.88,  99.04, 104.2 , 109.36, 114.52, 119.68,\n",
       "        124.84, 130.  , 135.16, 140.32, 145.48, 150.64, 155.8 , 160.96,\n",
       "        166.12, 171.28, 176.44, 181.6 , 186.76, 191.92, 197.08, 202.24,\n",
       "        207.4 , 212.56, 217.72, 222.88, 228.04, 233.2 , 238.36, 243.52,\n",
       "        248.68, 253.84, 259.  , 264.16, 269.32, 274.48, 279.64, 284.8 ,\n",
       "        289.96, 295.12, 300.28, 305.44, 310.6 , 315.76, 320.92, 326.08,\n",
       "        331.24, 336.4 , 341.56, 346.72, 351.88, 357.04, 362.2 , 367.36,\n",
       "        372.52, 377.68, 382.84, 388.  , 393.16, 398.32, 403.48, 408.64,\n",
       "        413.8 , 418.96, 424.12, 429.28, 434.44, 439.6 , 444.76, 449.92,\n",
       "        455.08, 460.24, 465.4 , 470.56, 475.72, 480.88, 486.04, 491.2 ,\n",
       "        496.36, 501.52, 506.68, 511.84, 517.  ]),\n",
       " <a list of 5 BarContainer objects>)"
      ]
     },
     "execution_count": 72,
     "metadata": {},
     "output_type": "execute_result"
    },
    {
     "data": {
      "image/png": "[encoded data removed]",
      "text/plain": [
       "<Figure size 432x288 with 1 Axes>"
      ]
     },
     "metadata": {
      "needs_background": "light"
     },
     "output_type": "display_data"
    }
   ],
   "source": [
    "plt.hist(outlistoflists,bins=100)"
   ]
  },
  {
   "cell_type": "code",
   "execution_count": 11,
   "metadata": {},
   "outputs": [],
   "source": [
    "test=[]\n",
    "test2=[]"
   ]
  },
  {
   "cell_type": "code",
   "execution_count": 13,
   "metadata": {},
   "outputs": [
    {
     "ename": "SyntaxError",
     "evalue": "can't assign to function call (<ipython-input-13-908e3ae56a63>, line 1)",
     "output_type": "error",
     "traceback": [
      "\u001b[0;36m  File \u001b[0;32m\"<ipython-input-13-908e3ae56a63>\"\u001b[0;36m, line \u001b[0;32m1\u001b[0m\n\u001b[0;31m    test.append(), test2.append() = tuple(value1, value2)\u001b[0m\n\u001b[0m                                                         ^\u001b[0m\n\u001b[0;31mSyntaxError\u001b[0m\u001b[0;31m:\u001b[0m can't assign to function call\n"
     ]
    }
   ],
   "source": [
    "test.append(), test2.append() = tuple(value1, value2)"
   ]
  },
  {
   "cell_type": "code",
   "execution_count": 18,
   "metadata": {},
   "outputs": [],
   "source": [
    "conservativekeggcounts=0\n",
    "conservativepfamcounts=0\n",
    "conservativetransposasekeggcounts=0\n",
    "conservativetransposasepfamcounts=0\n",
    "\n",
    "for index, row in conservativegenomad.iterrows():\n",
    "    keggstring=str(row['kegg_hit']).lower()\n",
    "    pfamstring=str(row['pfam_hits']).lower()\n",
    "    if re.search(\".?type iv.?\", keggstring) or re.search(\".?conjuga.?\", keggstring) or re.search(\".?virb.?\", keggstring) or re.search(\".?pilus.?\", keggstring):\n",
    "        conservativekeggcounts += 1\n",
    "    if re.search(\".?type iv.?\", pfamstring) or re.search(\".?conjuga.?\", pfamstring) or re.search(\".?virb.?\", pfamstring) or re.search(\".?pilus.?\", pfamstring):\n",
    "        conservativepfamcounts += 1\n",
    "    if re.search(\".?transposase.?\", keggstring):\n",
    "        conservativetransposasekeggcounts += 1\n",
    "    if re.search(\".?transposase.?\", pfamstring):\n",
    "        conservativetransposasepfamcounts += 1"
   ]
  },
  {
   "cell_type": "code",
   "execution_count": 19,
   "metadata": {},
   "outputs": [
    {
     "data": {
      "text/plain": [
       "4692"
      ]
     },
     "execution_count": 19,
     "metadata": {},
     "output_type": "execute_result"
    }
   ],
   "source": [
    "conservativekeggcounts"
   ]
  },
  {
   "cell_type": "code",
   "execution_count": 20,
   "metadata": {},
   "outputs": [
    {
     "data": {
      "text/plain": [
       "3736"
      ]
     },
     "execution_count": 20,
     "metadata": {},
     "output_type": "execute_result"
    }
   ],
   "source": [
    "conservativepfamcounts"
   ]
  },
  {
   "cell_type": "code",
   "execution_count": 21,
   "metadata": {},
   "outputs": [
    {
     "data": {
      "text/plain": [
       "185"
      ]
     },
     "execution_count": 21,
     "metadata": {},
     "output_type": "execute_result"
    }
   ],
   "source": [
    "conservativetransposasekeggcounts"
   ]
  },
  {
   "cell_type": "code",
   "execution_count": 22,
   "metadata": {},
   "outputs": [
    {
     "data": {
      "text/plain": [
       "256"
      ]
     },
     "execution_count": 22,
     "metadata": {},
     "output_type": "execute_result"
    }
   ],
   "source": [
    "conservativetransposasepfamcounts"
   ]
  },
  {
   "cell_type": "code",
   "execution_count": 24,
   "metadata": {},
   "outputs": [],
   "source": [
    "keggcounts=0\n",
    "pfamcounts=0\n",
    "transposasekeggcounts=0\n",
    "transposasepfamcounts=0\n",
    "\n",
    "for index, row in unfilteredplaton.iterrows():\n",
    "    keggstring=str(row['kegg_hit']).lower()\n",
    "    pfamstring=str(row['pfam_hits']).lower()\n",
    "    if re.search(\".?type iv.?\", keggstring) or re.search(\".?conjuga.?\", keggstring) or re.search(\".?virb.?\", keggstring) or re.search(\".?pilus.?\", keggstring):\n",
    "        keggcounts += 1\n",
    "    if re.search(\".?type iv.?\", pfamstring) or re.search(\".?conjuga.?\", pfamstring) or re.search(\".?virb.?\", pfamstring) or re.search(\".?pilus.?\", pfamstring):\n",
    "        pfamcounts += 1\n",
    "    if re.search(\".?transposase.?\", keggstring):\n",
    "        transposasekeggcounts += 1\n",
    "    if re.search(\".?transposase.?\", pfamstring):\n",
    "        transposasepfamcounts += 1"
   ]
  },
  {
   "cell_type": "code",
   "execution_count": 25,
   "metadata": {},
   "outputs": [],
   "source": [
    "def countshit(df):\n",
    "    keggcounts=0\n",
    "    pfamcounts=0\n",
    "    transposasekeggcounts=0\n",
    "    transposasepfamcounts=0\n",
    "\n",
    "    for index, row in df.iterrows():\n",
    "        keggstring=str(row['kegg_hit']).lower()\n",
    "        pfamstring=str(row['pfam_hits']).lower()\n",
    "        if re.search(\".?type iv.?\", keggstring) or re.search(\".?conjuga.?\", keggstring) or re.search(\".?virb.?\", keggstring) or re.search(\".?pilus.?\", keggstring):\n",
    "            keggcounts += 1\n",
    "        if re.search(\".?type iv.?\", pfamstring) or re.search(\".?conjuga.?\", pfamstring) or re.search(\".?virb.?\", pfamstring) or re.search(\".?pilus.?\", pfamstring):\n",
    "            pfamcounts += 1\n",
    "        if re.search(\".?transposase.?\", keggstring):\n",
    "            transposasekeggcounts += 1\n",
    "        if re.search(\".?transposase.?\", pfamstring):\n",
    "            transposasepfamcounts += 1\n",
    "    return(keggcounts, pfamcounts, transposasekeggcounts, transposasepfamcounts)"
   ]
  },
  {
   "cell_type": "code",
   "execution_count": 117,
   "metadata": {},
   "outputs": [],
   "source": [
    "def countshit(df):\n",
    "    phkeggcounts=0\n",
    "    phpfamcounts=0\n",
    "    ribokeggcounts=0\n",
    "    ribopfamcounts=0\n",
    "\n",
    "    for index, row in df.iterrows():\n",
    "        keggstring=str(row['kegg_hit']).lower()\n",
    "        pfamstring=str(row['pfam_hits']).lower()\n",
    "        if re.search(\".?phage.?\", keggstring):\n",
    "            phkeggcounts += 1\n",
    "        if re.search(\".?phage.?\", pfamstring):\n",
    "            phpfamcounts += 1\n",
    "        if re.search(\".?ribosom.?\", keggstring):\n",
    "            ribokeggcounts += 1\n",
    "        if re.search(\".?ribosom.?\", pfamstring):\n",
    "            ribopfamcounts += 1\n",
    "    return(phkeggcounts, phpfamcounts, ribokeggcounts, ribopfamcounts)"
   ]
  },
  {
   "cell_type": "code",
   "execution_count": null,
   "metadata": {},
   "outputs": [],
   "source": [
    "keggphage=[726, 136, 631, 586, 65]\n",
    "pfamphage=[3415,271,3706,3072,228]\n",
    "keggribosome=[144,32,242,142,4]\n",
    "pfamribosome=[173,39,411,230,6]"
   ]
  },
  {
   "cell_type": "code",
   "execution_count": 118,
   "metadata": {},
   "outputs": [
    {
     "data": {
      "text/plain": [
       "(726, 3415, 144, 173)"
      ]
     },
     "execution_count": 118,
     "metadata": {},
     "output_type": "execute_result"
    }
   ],
   "source": [
    "countshit(unfilteredplaton)"
   ]
  },
  {
   "cell_type": "code",
   "execution_count": 119,
   "metadata": {},
   "outputs": [
    {
     "data": {
      "text/plain": [
       "(136, 271, 32, 39)"
      ]
     },
     "execution_count": 119,
     "metadata": {},
     "output_type": "execute_result"
    }
   ],
   "source": [
    "countshit(filteredplaton)"
   ]
  },
  {
   "cell_type": "code",
   "execution_count": 120,
   "metadata": {},
   "outputs": [
    {
     "data": {
      "text/plain": [
       "(631, 3706, 242, 411)"
      ]
     },
     "execution_count": 120,
     "metadata": {},
     "output_type": "execute_result"
    }
   ],
   "source": [
    "countshit(defaultgenomad)"
   ]
  },
  {
   "cell_type": "code",
   "execution_count": 121,
   "metadata": {},
   "outputs": [
    {
     "data": {
      "text/plain": [
       "(586, 3072, 142, 230)"
      ]
     },
     "execution_count": 121,
     "metadata": {},
     "output_type": "execute_result"
    }
   ],
   "source": [
    "countshit(calibratedgenomad)"
   ]
  },
  {
   "cell_type": "code",
   "execution_count": 122,
   "metadata": {},
   "outputs": [
    {
     "data": {
      "text/plain": [
       "(65, 228, 4, 6)"
      ]
     },
     "execution_count": 122,
     "metadata": {},
     "output_type": "execute_result"
    }
   ],
   "source": [
    "countshit(conservativegenomad)"
   ]
  },
  {
   "cell_type": "code",
   "execution_count": 51,
   "metadata": {},
   "outputs": [],
   "source": [
    "import matplotlib.pyplot as plt\n",
    "import numpy as np"
   ]
  },
  {
   "cell_type": "code",
   "execution_count": 47,
   "metadata": {},
   "outputs": [],
   "source": [
    "keggconj=[590, 576, 6782, 5851, 4692]\n",
    "pfamconj=[567,533,6421,5334,3736]\n",
    "keggtrans=[620,174,5037,3790,185]\n",
    "pfamtrans=[416,266,5531,4202,256]\n",
    "resultsdf=pd.DataFrame({\n",
    "    'KEGG Conjugation': keggconj, 'Pfam Conjugation': pfamconj, 'KEGG Transposase': keggtrans, 'Pfam Transposase': pfamtrans})"
   ]
  },
  {
   "cell_type": "code",
   "execution_count": 67,
   "metadata": {},
   "outputs": [
    {
     "data": {
      "text/plain": [
       "[103705, 15723, 309278, 203330, 24205]"
      ]
     },
     "execution_count": 67,
     "metadata": {},
     "output_type": "execute_result"
    }
   ],
   "source": [
    "totalgenes"
   ]
  },
  {
   "cell_type": "code",
   "execution_count": 102,
   "metadata": {},
   "outputs": [],
   "source": [
    "def groupedbarchart(df, ylabstr, titlestr):\n",
    "\n",
    "    outputs=['Unfiltered \\nPlaton', 'Filtered \\nPlaton', 'Default \\ngeNomad', 'Calibrated \\ngeNomad', 'Conservative \\ngeNomad']\n",
    "\n",
    "    fig, ax = plt.subplots(layout='constrained')\n",
    "\n",
    "    x = np.arange(len(outputs))\n",
    "    width = 0.1  # the width of the bars\n",
    "    multiplier = 0\n",
    "\n",
    "    for attribute, measurement in df.items():\n",
    "        offset = width * multiplier\n",
    "        rects = ax.bar(x + offset, measurement, width, label=attribute)\n",
    "        #ax.bar_label(rects, padding=3)\n",
    "        multiplier += 1\n",
    "\n",
    "    # Add some text for labels, title and custom x-axis tick labels, etc.\n",
    "    ax.set_ylabel(ylabstr)\n",
    "    ax.set_title(titlestr)\n",
    "    ax.set_xticks(x + width, outputs)\n",
    "    ax.legend(loc='upper right', ncol=2)\n",
    "    #ax.set_ylim(0,4500)"
   ]
  },
  {
   "cell_type": "code",
   "execution_count": 74,
   "metadata": {},
   "outputs": [],
   "source": [
    "resultbygenes=resultsdf.divide(totalgenes, axis=0)"
   ]
  },
  {
   "cell_type": "code",
   "execution_count": null,
   "metadata": {},
   "outputs": [],
   "source": []
  },
  {
   "cell_type": "code",
   "execution_count": 90,
   "metadata": {},
   "outputs": [
    {
     "data": {
      "image/png": "[encoded data removed]",
      "text/plain": [
       "<Figure size 432x288 with 1 Axes>"
      ]
     },
     "metadata": {
      "needs_background": "light"
     },
     "output_type": "display_data"
    }
   ],
   "source": [
    "groupedbarchart(resultsdf, \"Annotations\", \"Conjugation and Transposon Related Annotations by Plasmid Detection Method\")"
   ]
  },
  {
   "cell_type": "code",
   "execution_count": 93,
   "metadata": {},
   "outputs": [
    {
     "data": {
      "image/png": "[encoded data removed]",
      "text/plain": [
       "<Figure size 432x288 with 1 Axes>"
      ]
     },
     "metadata": {
      "needs_background": "light"
     },
     "output_type": "display_data"
    }
   ],
   "source": [
    "groupedbarchart(resultbygenes, \"Annotations per Gene\", \"Conjugation and Transposon Related Annotations over Total Genes by Plasmid Detection Method\")"
   ]
  },
  {
   "cell_type": "code",
   "execution_count": 78,
   "metadata": {},
   "outputs": [],
   "source": [
    "keggphage=[726, 136, 631, 586, 65]\n",
    "pfamphage=[3415,271,3706,3072,228]\n",
    "keggribosome=[144,32,242,142,4]\n",
    "pfamribosome=[173,39,411,230,6]\n",
    "ribophagedf=pd.DataFrame({\n",
    "    'KEGG Phage': keggphage, 'Pfam Phage': pfamphage, 'KEGG Ribosome': keggribosome, 'Pfam Ribosome': pfamribosome})"
   ]
  },
  {
   "cell_type": "code",
   "execution_count": 98,
   "metadata": {},
   "outputs": [
    {
     "data": {
      "image/png": "[encoded data removed]",
      "text/plain": [
       "<Figure size 432x288 with 1 Axes>"
      ]
     },
     "metadata": {
      "needs_background": "light"
     },
     "output_type": "display_data"
    }
   ],
   "source": [
    "groupedbarchart(ribophagedf, \"Annotations\", \"Number of Phage and Ribosome Related Annotations by Detection Method\")"
   ]
  },
  {
   "cell_type": "code",
   "execution_count": 91,
   "metadata": {},
   "outputs": [],
   "source": [
    "ribophagebygene=ribophagedf.divide(totalgenes, axis=0)"
   ]
  },
  {
   "cell_type": "code",
   "execution_count": 103,
   "metadata": {},
   "outputs": [
    {
     "data": {
      "image/png": "[encoded data removed]",
      "text/plain": [
       "<Figure size 432x288 with 1 Axes>"
      ]
     },
     "metadata": {
      "needs_background": "light"
     },
     "output_type": "display_data"
    }
   ],
   "source": [
    "groupedbarchart(ribophagebygene, \"Annotations per Gene\", \"Phage and Ribosome Related Annotations over Total Genes by Plasmid Detection Method\")"
   ]
  },
  {
   "cell_type": "code",
   "execution_count": 65,
   "metadata": {},
   "outputs": [
    {
     "data": {
      "text/plain": [
       "<matplotlib.legend.Legend at 0x7ffa951400d0>"
      ]
     },
     "execution_count": 65,
     "metadata": {},
     "output_type": "execute_result"
    },
    {
     "data": {
      "image/png": "[encoded data removed]",
      "text/plain": [
       "<Figure size 432x288 with 1 Axes>"
      ]
     },
     "metadata": {
      "needs_background": "light"
     },
     "output_type": "display_data"
    }
   ],
   "source": [
    "outputs=['Unfiltered \\nPlaton', 'Filtered \\nPlaton', 'Default \\ngeNomad', 'Calibrated \\ngeNomad', 'Conservative \\ngeNomad']\n",
    "\n",
    "fig, ax = plt.subplots(layout='constrained')\n",
    "\n",
    "x = np.arange(len(outputs))\n",
    "width = 0.1  # the width of the bars\n",
    "multiplier = 0\n",
    "\n",
    "for attribute, measurement in resultsdf.items():\n",
    "    offset = width * multiplier\n",
    "    rects = ax.bar(x + offset, measurement, width, label=attribute)\n",
    "    #ax.bar_label(rects, padding=3)\n",
    "    multiplier += 1\n",
    "\n",
    "# Add some text for labels, title and custom x-axis tick labels, etc.\n",
    "ax.set_ylabel('Count')\n",
    "ax.set_title('Conjugation and Transposon Related Annotations by Plasmid Detection Method')\n",
    "ax.set_xticks(x + width, outputs)\n",
    "ax.legend(loc='upper left')\n",
    "#ax.set_ylim(0, 250)\n",
    "\n",
    "#plt.show()"
   ]
  },
  {
   "cell_type": "code",
   "execution_count": 44,
   "metadata": {},
   "outputs": [
    {
     "data": {
      "text/plain": [
       "<BarContainer object of 1 artists>"
      ]
     },
     "execution_count": 44,
     "metadata": {},
     "output_type": "execute_result"
    },
    {
     "data": {
      "image/png": "[encoded data removed]",
      "text/plain": [
       "<Figure size 432x288 with 1 Axes>"
      ]
     },
     "metadata": {
      "needs_background": "light"
     },
     "output_type": "display_data"
    }
   ],
   "source": [
    "plt.bar(4692, conservativegenomad.shape[0])"
   ]
  },
  {
   "cell_type": "code",
   "execution_count": 41,
   "metadata": {},
   "outputs": [
    {
     "data": {
      "text/plain": [
       "24205"
      ]
     },
     "execution_count": 41,
     "metadata": {},
     "output_type": "execute_result"
    }
   ],
   "source": [
    "conservativegenomad.shape[0]"
   ]
  }
 ],
 "metadata": {
  "kernelspec": {
   "display_name": "Python 3",
   "language": "python",
   "name": "python3"
  },
  "language_info": {
   "codemirror_mode": {
    "name": "ipython",
    "version": 3
   },
   "file_extension": ".py",
   "mimetype": "text/x-python",
   "name": "python",
   "nbconvert_exporter": "python",
   "pygments_lexer": "ipython3",
   "version": "3.7.11"
  }
 },
 "nbformat": 4,
 "nbformat_minor": 4
}
